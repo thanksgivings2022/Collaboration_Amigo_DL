{
  "nbformat": 4,
  "nbformat_minor": 0,
  "metadata": {
    "colab": {
      "name": "TD2_proba_correctionExo1",
      "provenance": [],
      "collapsed_sections": [],
      "toc_visible": true
    },
    "kernelspec": {
      "name": "python3",
      "display_name": "Python 3"
    },
    "language_info": {
      "name": "python"
    }
  },
  "cells": [
    {
      "cell_type": "markdown",
      "source": [
        "# **TD Probabilités - Statistiques**\n",
        "1 Mars 2022 - David Loiseaux et Fanny Simões"
      ],
      "metadata": {
        "id": "6wPL2UEYA2MM"
      }
    },
    {
      "cell_type": "markdown",
      "source": [
        "## **Avant d'utiliser ce notebook**"
      ],
      "metadata": {
        "id": "3ZgtithjdkaG"
      }
    },
    {
      "cell_type": "markdown",
      "source": [
        "- Travailler sur une copie de ce notebook dans votre drive.\n",
        "- Le chargement de votre drive se fait de manière automatique, vous pouvez le retrouver dans les fichiers ci-contre. Sinon executer les commandes ci-dessous."
      ],
      "metadata": {
        "id": "9ELMAVabdwCn"
      }
    },
    {
      "cell_type": "code",
      "source": [
        "from google.colab import drive\n",
        "drive.mount('/content/drive/')"
      ],
      "metadata": {
        "id": "cgtCAswUA_J-"
      },
      "execution_count": null,
      "outputs": []
    },
    {
      "cell_type": "markdown",
      "source": [
        "#**Exercice 1 : Statistiques descriptives**# "
      ],
      "metadata": {
        "id": "j0TRldtcd1fF"
      }
    },
    {
      "cell_type": "code",
      "source": [
        "### Chargement des packages python\n",
        "from sklearn import datasets\n",
        "from sklearn.preprocessing import StandardScaler\n",
        "import pandas as pd\n",
        "import numpy as np\n",
        "import seaborn as sn\n",
        "import matplotlib.pyplot as plt"
      ],
      "metadata": {
        "id": "nEiimT8ce1WW"
      },
      "execution_count": null,
      "outputs": []
    },
    {
      "cell_type": "markdown",
      "source": [
        "### A) Importer la base de données\n"
      ],
      "metadata": {
        "id": "C0AzgDude6CZ"
      }
    },
    {
      "cell_type": "markdown",
      "source": [
        "- **Télécharger le jeu de données ci-dessous dans votre drive au format csv**\n",
        "\n"
      ],
      "metadata": {
        "id": "PsM8ws-IAOiE"
      }
    },
    {
      "cell_type": "markdown",
      "source": [
        "https://trouver.datasud.fr/dataset/mesures-annuelles-des-polluants-principaux-en-region-sud"
      ],
      "metadata": {
        "id": "ZFPOv5fnRQ56"
      }
    },
    {
      "cell_type": "markdown",
      "source": [
        "- **Chargement des données**"
      ],
      "metadata": {
        "id": "5xSH-RO0C3vE"
      }
    },
    {
      "cell_type": "code",
      "source": [
        "# Importer les données avec pandas\n",
        "datatmosud = pd.read_csv('/content/drive/MyDrive/TD_courscentrale/TD2_proba/mes_sudpaca_annuelle.csv', index_col=0)\n",
        "\n",
        "# Afficher la base de données \n",
        "datatmosud.head()"
      ],
      "metadata": {
        "colab": {
          "base_uri": "https://localhost:8080/",
          "height": 475
        },
        "id": "2j7Gt-INfL5p",
        "outputId": "54501b66-6ca7-4a35-a08e-791b5277321c"
      },
      "execution_count": null,
      "outputs": [
        {
          "output_type": "execute_result",
          "data": {
            "text/html": [
              "\n",
              "  <div id=\"df-a936f9c9-5814-4999-a498-d5f0557b4ad1\">\n",
              "    <div class=\"colab-df-container\">\n",
              "      <div>\n",
              "<style scoped>\n",
              "    .dataframe tbody tr th:only-of-type {\n",
              "        vertical-align: middle;\n",
              "    }\n",
              "\n",
              "    .dataframe tbody tr th {\n",
              "        vertical-align: top;\n",
              "    }\n",
              "\n",
              "    .dataframe thead th {\n",
              "        text-align: right;\n",
              "    }\n",
              "</style>\n",
              "<table border=\"1\" class=\"dataframe\">\n",
              "  <thead>\n",
              "    <tr style=\"text-align: right;\">\n",
              "      <th></th>\n",
              "      <th>nom_dept</th>\n",
              "      <th>nom_com</th>\n",
              "      <th>insee_com</th>\n",
              "      <th>nom_station</th>\n",
              "      <th>code_station</th>\n",
              "      <th>typologie</th>\n",
              "      <th>influence</th>\n",
              "      <th>nom_poll</th>\n",
              "      <th>id_poll_ue</th>\n",
              "      <th>valeur</th>\n",
              "      <th>unite</th>\n",
              "      <th>metrique</th>\n",
              "      <th>date_debut</th>\n",
              "      <th>date_fin</th>\n",
              "      <th>statut_valid</th>\n",
              "      <th>x_l93</th>\n",
              "      <th>y_l93</th>\n",
              "    </tr>\n",
              "    <tr>\n",
              "      <th>FID</th>\n",
              "      <th></th>\n",
              "      <th></th>\n",
              "      <th></th>\n",
              "      <th></th>\n",
              "      <th></th>\n",
              "      <th></th>\n",
              "      <th></th>\n",
              "      <th></th>\n",
              "      <th></th>\n",
              "      <th></th>\n",
              "      <th></th>\n",
              "      <th></th>\n",
              "      <th></th>\n",
              "      <th></th>\n",
              "      <th></th>\n",
              "      <th></th>\n",
              "      <th></th>\n",
              "    </tr>\n",
              "  </thead>\n",
              "  <tbody>\n",
              "    <tr>\n",
              "      <th>mes_sudpaca_annuelle.fid--6a74bd97_17f429acbc7_-733e</th>\n",
              "      <td>BOUCHES-DU-RHONE</td>\n",
              "      <td>Marseille</td>\n",
              "      <td>13055</td>\n",
              "      <td>Marseille_Place Verneuil</td>\n",
              "      <td>FR00008</td>\n",
              "      <td>Urbain</td>\n",
              "      <td>Fond</td>\n",
              "      <td>NO2</td>\n",
              "      <td>8</td>\n",
              "      <td>32</td>\n",
              "      <td>microg/m3</td>\n",
              "      <td>annuelle</td>\n",
              "      <td>2019/01/01</td>\n",
              "      <td>2019/12/31</td>\n",
              "      <td>True</td>\n",
              "      <td>892193.231746</td>\n",
              "      <td>6.248403e+06</td>\n",
              "    </tr>\n",
              "    <tr>\n",
              "      <th>mes_sudpaca_annuelle.fid--6a74bd97_17f429acbc7_-733d</th>\n",
              "      <td>BOUCHES-DU-RHONE</td>\n",
              "      <td>Marseille</td>\n",
              "      <td>13055</td>\n",
              "      <td>Marseille_Place Verneuil</td>\n",
              "      <td>FR00008</td>\n",
              "      <td>Urbain</td>\n",
              "      <td>Fond</td>\n",
              "      <td>NO2</td>\n",
              "      <td>8</td>\n",
              "      <td>29</td>\n",
              "      <td>microg/m3</td>\n",
              "      <td>annuelle</td>\n",
              "      <td>2020/01/01</td>\n",
              "      <td>2020/12/31</td>\n",
              "      <td>True</td>\n",
              "      <td>892193.231746</td>\n",
              "      <td>6.248403e+06</td>\n",
              "    </tr>\n",
              "    <tr>\n",
              "      <th>mes_sudpaca_annuelle.fid--6a74bd97_17f429acbc7_-733c</th>\n",
              "      <td>BOUCHES-DU-RHONE</td>\n",
              "      <td>Marseille</td>\n",
              "      <td>13055</td>\n",
              "      <td>Marseille_Place Verneuil</td>\n",
              "      <td>FR00008</td>\n",
              "      <td>Urbain</td>\n",
              "      <td>Fond</td>\n",
              "      <td>NO2</td>\n",
              "      <td>8</td>\n",
              "      <td>31</td>\n",
              "      <td>microg/m3</td>\n",
              "      <td>annuelle</td>\n",
              "      <td>2021/01/01</td>\n",
              "      <td>2021/12/31</td>\n",
              "      <td>True</td>\n",
              "      <td>892193.231746</td>\n",
              "      <td>6.248403e+06</td>\n",
              "    </tr>\n",
              "    <tr>\n",
              "      <th>mes_sudpaca_annuelle.fid--6a74bd97_17f429acbc7_-733b</th>\n",
              "      <td>BOUCHES-DU-RHONE</td>\n",
              "      <td>Marseille</td>\n",
              "      <td>13055</td>\n",
              "      <td>Marseille_Place Verneuil</td>\n",
              "      <td>FR00008</td>\n",
              "      <td>Urbain</td>\n",
              "      <td>Fond</td>\n",
              "      <td>NOx as NO2</td>\n",
              "      <td>9</td>\n",
              "      <td>49</td>\n",
              "      <td>microg/m3</td>\n",
              "      <td>annuelle</td>\n",
              "      <td>2019/01/01</td>\n",
              "      <td>2019/12/31</td>\n",
              "      <td>True</td>\n",
              "      <td>892193.231746</td>\n",
              "      <td>6.248403e+06</td>\n",
              "    </tr>\n",
              "    <tr>\n",
              "      <th>mes_sudpaca_annuelle.fid--6a74bd97_17f429acbc7_-733a</th>\n",
              "      <td>BOUCHES-DU-RHONE</td>\n",
              "      <td>Marseille</td>\n",
              "      <td>13055</td>\n",
              "      <td>Marseille_Place Verneuil</td>\n",
              "      <td>FR00008</td>\n",
              "      <td>Urbain</td>\n",
              "      <td>Fond</td>\n",
              "      <td>NOx as NO2</td>\n",
              "      <td>9</td>\n",
              "      <td>43</td>\n",
              "      <td>microg/m3</td>\n",
              "      <td>annuelle</td>\n",
              "      <td>2020/01/01</td>\n",
              "      <td>2020/12/31</td>\n",
              "      <td>True</td>\n",
              "      <td>892193.231746</td>\n",
              "      <td>6.248403e+06</td>\n",
              "    </tr>\n",
              "  </tbody>\n",
              "</table>\n",
              "</div>\n",
              "      <button class=\"colab-df-convert\" onclick=\"convertToInteractive('df-a936f9c9-5814-4999-a498-d5f0557b4ad1')\"\n",
              "              title=\"Convert this dataframe to an interactive table.\"\n",
              "              style=\"display:none;\">\n",
              "        \n",
              "  <svg xmlns=\"http://www.w3.org/2000/svg\" height=\"24px\"viewBox=\"0 0 24 24\"\n",
              "       width=\"24px\">\n",
              "    <path d=\"M0 0h24v24H0V0z\" fill=\"none\"/>\n",
              "    <path d=\"M18.56 5.44l.94 2.06.94-2.06 2.06-.94-2.06-.94-.94-2.06-.94 2.06-2.06.94zm-11 1L8.5 8.5l.94-2.06 2.06-.94-2.06-.94L8.5 2.5l-.94 2.06-2.06.94zm10 10l.94 2.06.94-2.06 2.06-.94-2.06-.94-.94-2.06-.94 2.06-2.06.94z\"/><path d=\"M17.41 7.96l-1.37-1.37c-.4-.4-.92-.59-1.43-.59-.52 0-1.04.2-1.43.59L10.3 9.45l-7.72 7.72c-.78.78-.78 2.05 0 2.83L4 21.41c.39.39.9.59 1.41.59.51 0 1.02-.2 1.41-.59l7.78-7.78 2.81-2.81c.8-.78.8-2.07 0-2.86zM5.41 20L4 18.59l7.72-7.72 1.47 1.35L5.41 20z\"/>\n",
              "  </svg>\n",
              "      </button>\n",
              "      \n",
              "  <style>\n",
              "    .colab-df-container {\n",
              "      display:flex;\n",
              "      flex-wrap:wrap;\n",
              "      gap: 12px;\n",
              "    }\n",
              "\n",
              "    .colab-df-convert {\n",
              "      background-color: #E8F0FE;\n",
              "      border: none;\n",
              "      border-radius: 50%;\n",
              "      cursor: pointer;\n",
              "      display: none;\n",
              "      fill: #1967D2;\n",
              "      height: 32px;\n",
              "      padding: 0 0 0 0;\n",
              "      width: 32px;\n",
              "    }\n",
              "\n",
              "    .colab-df-convert:hover {\n",
              "      background-color: #E2EBFA;\n",
              "      box-shadow: 0px 1px 2px rgba(60, 64, 67, 0.3), 0px 1px 3px 1px rgba(60, 64, 67, 0.15);\n",
              "      fill: #174EA6;\n",
              "    }\n",
              "\n",
              "    [theme=dark] .colab-df-convert {\n",
              "      background-color: #3B4455;\n",
              "      fill: #D2E3FC;\n",
              "    }\n",
              "\n",
              "    [theme=dark] .colab-df-convert:hover {\n",
              "      background-color: #434B5C;\n",
              "      box-shadow: 0px 1px 3px 1px rgba(0, 0, 0, 0.15);\n",
              "      filter: drop-shadow(0px 1px 2px rgba(0, 0, 0, 0.3));\n",
              "      fill: #FFFFFF;\n",
              "    }\n",
              "  </style>\n",
              "\n",
              "      <script>\n",
              "        const buttonEl =\n",
              "          document.querySelector('#df-a936f9c9-5814-4999-a498-d5f0557b4ad1 button.colab-df-convert');\n",
              "        buttonEl.style.display =\n",
              "          google.colab.kernel.accessAllowed ? 'block' : 'none';\n",
              "\n",
              "        async function convertToInteractive(key) {\n",
              "          const element = document.querySelector('#df-a936f9c9-5814-4999-a498-d5f0557b4ad1');\n",
              "          const dataTable =\n",
              "            await google.colab.kernel.invokeFunction('convertToInteractive',\n",
              "                                                     [key], {});\n",
              "          if (!dataTable) return;\n",
              "\n",
              "          const docLinkHtml = 'Like what you see? Visit the ' +\n",
              "            '<a target=\"_blank\" href=https://colab.research.google.com/notebooks/data_table.ipynb>data table notebook</a>'\n",
              "            + ' to learn more about interactive tables.';\n",
              "          element.innerHTML = '';\n",
              "          dataTable['output_type'] = 'display_data';\n",
              "          await google.colab.output.renderOutput(dataTable, element);\n",
              "          const docLink = document.createElement('div');\n",
              "          docLink.innerHTML = docLinkHtml;\n",
              "          element.appendChild(docLink);\n",
              "        }\n",
              "      </script>\n",
              "    </div>\n",
              "  </div>\n",
              "  "
            ],
            "text/plain": [
              "                                                            nom_dept  ...         y_l93\n",
              "FID                                                                   ...              \n",
              "mes_sudpaca_annuelle.fid--6a74bd97_17f429acbc7_...  BOUCHES-DU-RHONE  ...  6.248403e+06\n",
              "mes_sudpaca_annuelle.fid--6a74bd97_17f429acbc7_...  BOUCHES-DU-RHONE  ...  6.248403e+06\n",
              "mes_sudpaca_annuelle.fid--6a74bd97_17f429acbc7_...  BOUCHES-DU-RHONE  ...  6.248403e+06\n",
              "mes_sudpaca_annuelle.fid--6a74bd97_17f429acbc7_...  BOUCHES-DU-RHONE  ...  6.248403e+06\n",
              "mes_sudpaca_annuelle.fid--6a74bd97_17f429acbc7_...  BOUCHES-DU-RHONE  ...  6.248403e+06\n",
              "\n",
              "[5 rows x 17 columns]"
            ]
          },
          "metadata": {},
          "execution_count": 10
        }
      ]
    },
    {
      "cell_type": "markdown",
      "source": [
        "### B) Analyse de la base de données "
      ],
      "metadata": {
        "id": "Kt7ad2eP2rDB"
      }
    },
    {
      "cell_type": "markdown",
      "source": [
        "- **Information sur la base de données** "
      ],
      "metadata": {
        "id": "D3V0Y7f_Fukw"
      }
    },
    {
      "cell_type": "code",
      "source": [
        "# Vérifier que la base de données est composée de 17 variables (numériques et catégorielles) et de 859 observations.\n",
        "datatmosud.info()"
      ],
      "metadata": {
        "id": "1uTFSjf_FuQr",
        "colab": {
          "base_uri": "https://localhost:8080/"
        },
        "outputId": "f79de2d0-661d-4abc-83ca-634ba09ce239"
      },
      "execution_count": null,
      "outputs": [
        {
          "output_type": "stream",
          "name": "stdout",
          "text": [
            "<class 'pandas.core.frame.DataFrame'>\n",
            "Index: 859 entries, mes_sudpaca_annuelle.fid--6a74bd97_17f429acbc7_-733e to mes_sudpaca_annuelle.fid--6a74bd97_17f429acbc7_-6fe4\n",
            "Data columns (total 17 columns):\n",
            " #   Column        Non-Null Count  Dtype  \n",
            "---  ------        --------------  -----  \n",
            " 0   nom_dept      859 non-null    object \n",
            " 1   nom_com       859 non-null    object \n",
            " 2   insee_com     859 non-null    int64  \n",
            " 3   nom_station   855 non-null    object \n",
            " 4   code_station  859 non-null    object \n",
            " 5   typologie     565 non-null    object \n",
            " 6   influence     624 non-null    object \n",
            " 7   nom_poll      859 non-null    object \n",
            " 8   id_poll_ue    859 non-null    int64  \n",
            " 9   valeur        859 non-null    int64  \n",
            " 10  unite         856 non-null    object \n",
            " 11  metrique      859 non-null    object \n",
            " 12  date_debut    859 non-null    object \n",
            " 13  date_fin      859 non-null    object \n",
            " 14  statut_valid  859 non-null    bool   \n",
            " 15  x_l93         859 non-null    float64\n",
            " 16  y_l93         859 non-null    float64\n",
            "dtypes: bool(1), float64(2), int64(3), object(11)\n",
            "memory usage: 114.9+ KB\n"
          ]
        }
      ]
    },
    {
      "cell_type": "markdown",
      "source": [
        "- **Selection de variables**"
      ],
      "metadata": {
        "id": "vAJTHMcsSQh-"
      }
    },
    {
      "cell_type": "code",
      "source": [
        "# Sélectionner : nom_dept/nom_poll/valeur\n",
        "datatmosud2 = datatmosud[[\"nom_dept\",\"nom_poll\",\"valeur\"]]\n",
        "datatmosud2.head()"
      ],
      "metadata": {
        "id": "79XJKiKxS5Nd",
        "colab": {
          "base_uri": "https://localhost:8080/",
          "height": 237
        },
        "outputId": "1d5f0b79-6e3f-471e-b82a-97c90232803b"
      },
      "execution_count": null,
      "outputs": [
        {
          "output_type": "execute_result",
          "data": {
            "text/html": [
              "\n",
              "  <div id=\"df-9afda5da-4162-40ab-8776-e86e2ae91654\">\n",
              "    <div class=\"colab-df-container\">\n",
              "      <div>\n",
              "<style scoped>\n",
              "    .dataframe tbody tr th:only-of-type {\n",
              "        vertical-align: middle;\n",
              "    }\n",
              "\n",
              "    .dataframe tbody tr th {\n",
              "        vertical-align: top;\n",
              "    }\n",
              "\n",
              "    .dataframe thead th {\n",
              "        text-align: right;\n",
              "    }\n",
              "</style>\n",
              "<table border=\"1\" class=\"dataframe\">\n",
              "  <thead>\n",
              "    <tr style=\"text-align: right;\">\n",
              "      <th></th>\n",
              "      <th>nom_dept</th>\n",
              "      <th>nom_poll</th>\n",
              "      <th>valeur</th>\n",
              "    </tr>\n",
              "    <tr>\n",
              "      <th>FID</th>\n",
              "      <th></th>\n",
              "      <th></th>\n",
              "      <th></th>\n",
              "    </tr>\n",
              "  </thead>\n",
              "  <tbody>\n",
              "    <tr>\n",
              "      <th>mes_sudpaca_annuelle.fid--6a74bd97_17f429acbc7_-733e</th>\n",
              "      <td>BOUCHES-DU-RHONE</td>\n",
              "      <td>NO2</td>\n",
              "      <td>32</td>\n",
              "    </tr>\n",
              "    <tr>\n",
              "      <th>mes_sudpaca_annuelle.fid--6a74bd97_17f429acbc7_-733d</th>\n",
              "      <td>BOUCHES-DU-RHONE</td>\n",
              "      <td>NO2</td>\n",
              "      <td>29</td>\n",
              "    </tr>\n",
              "    <tr>\n",
              "      <th>mes_sudpaca_annuelle.fid--6a74bd97_17f429acbc7_-733c</th>\n",
              "      <td>BOUCHES-DU-RHONE</td>\n",
              "      <td>NO2</td>\n",
              "      <td>31</td>\n",
              "    </tr>\n",
              "    <tr>\n",
              "      <th>mes_sudpaca_annuelle.fid--6a74bd97_17f429acbc7_-733b</th>\n",
              "      <td>BOUCHES-DU-RHONE</td>\n",
              "      <td>NOx as NO2</td>\n",
              "      <td>49</td>\n",
              "    </tr>\n",
              "    <tr>\n",
              "      <th>mes_sudpaca_annuelle.fid--6a74bd97_17f429acbc7_-733a</th>\n",
              "      <td>BOUCHES-DU-RHONE</td>\n",
              "      <td>NOx as NO2</td>\n",
              "      <td>43</td>\n",
              "    </tr>\n",
              "  </tbody>\n",
              "</table>\n",
              "</div>\n",
              "      <button class=\"colab-df-convert\" onclick=\"convertToInteractive('df-9afda5da-4162-40ab-8776-e86e2ae91654')\"\n",
              "              title=\"Convert this dataframe to an interactive table.\"\n",
              "              style=\"display:none;\">\n",
              "        \n",
              "  <svg xmlns=\"http://www.w3.org/2000/svg\" height=\"24px\"viewBox=\"0 0 24 24\"\n",
              "       width=\"24px\">\n",
              "    <path d=\"M0 0h24v24H0V0z\" fill=\"none\"/>\n",
              "    <path d=\"M18.56 5.44l.94 2.06.94-2.06 2.06-.94-2.06-.94-.94-2.06-.94 2.06-2.06.94zm-11 1L8.5 8.5l.94-2.06 2.06-.94-2.06-.94L8.5 2.5l-.94 2.06-2.06.94zm10 10l.94 2.06.94-2.06 2.06-.94-2.06-.94-.94-2.06-.94 2.06-2.06.94z\"/><path d=\"M17.41 7.96l-1.37-1.37c-.4-.4-.92-.59-1.43-.59-.52 0-1.04.2-1.43.59L10.3 9.45l-7.72 7.72c-.78.78-.78 2.05 0 2.83L4 21.41c.39.39.9.59 1.41.59.51 0 1.02-.2 1.41-.59l7.78-7.78 2.81-2.81c.8-.78.8-2.07 0-2.86zM5.41 20L4 18.59l7.72-7.72 1.47 1.35L5.41 20z\"/>\n",
              "  </svg>\n",
              "      </button>\n",
              "      \n",
              "  <style>\n",
              "    .colab-df-container {\n",
              "      display:flex;\n",
              "      flex-wrap:wrap;\n",
              "      gap: 12px;\n",
              "    }\n",
              "\n",
              "    .colab-df-convert {\n",
              "      background-color: #E8F0FE;\n",
              "      border: none;\n",
              "      border-radius: 50%;\n",
              "      cursor: pointer;\n",
              "      display: none;\n",
              "      fill: #1967D2;\n",
              "      height: 32px;\n",
              "      padding: 0 0 0 0;\n",
              "      width: 32px;\n",
              "    }\n",
              "\n",
              "    .colab-df-convert:hover {\n",
              "      background-color: #E2EBFA;\n",
              "      box-shadow: 0px 1px 2px rgba(60, 64, 67, 0.3), 0px 1px 3px 1px rgba(60, 64, 67, 0.15);\n",
              "      fill: #174EA6;\n",
              "    }\n",
              "\n",
              "    [theme=dark] .colab-df-convert {\n",
              "      background-color: #3B4455;\n",
              "      fill: #D2E3FC;\n",
              "    }\n",
              "\n",
              "    [theme=dark] .colab-df-convert:hover {\n",
              "      background-color: #434B5C;\n",
              "      box-shadow: 0px 1px 3px 1px rgba(0, 0, 0, 0.15);\n",
              "      filter: drop-shadow(0px 1px 2px rgba(0, 0, 0, 0.3));\n",
              "      fill: #FFFFFF;\n",
              "    }\n",
              "  </style>\n",
              "\n",
              "      <script>\n",
              "        const buttonEl =\n",
              "          document.querySelector('#df-9afda5da-4162-40ab-8776-e86e2ae91654 button.colab-df-convert');\n",
              "        buttonEl.style.display =\n",
              "          google.colab.kernel.accessAllowed ? 'block' : 'none';\n",
              "\n",
              "        async function convertToInteractive(key) {\n",
              "          const element = document.querySelector('#df-9afda5da-4162-40ab-8776-e86e2ae91654');\n",
              "          const dataTable =\n",
              "            await google.colab.kernel.invokeFunction('convertToInteractive',\n",
              "                                                     [key], {});\n",
              "          if (!dataTable) return;\n",
              "\n",
              "          const docLinkHtml = 'Like what you see? Visit the ' +\n",
              "            '<a target=\"_blank\" href=https://colab.research.google.com/notebooks/data_table.ipynb>data table notebook</a>'\n",
              "            + ' to learn more about interactive tables.';\n",
              "          element.innerHTML = '';\n",
              "          dataTable['output_type'] = 'display_data';\n",
              "          await google.colab.output.renderOutput(dataTable, element);\n",
              "          const docLink = document.createElement('div');\n",
              "          docLink.innerHTML = docLinkHtml;\n",
              "          element.appendChild(docLink);\n",
              "        }\n",
              "      </script>\n",
              "    </div>\n",
              "  </div>\n",
              "  "
            ],
            "text/plain": [
              "                                                            nom_dept  ... valeur\n",
              "FID                                                                   ...       \n",
              "mes_sudpaca_annuelle.fid--6a74bd97_17f429acbc7_...  BOUCHES-DU-RHONE  ...     32\n",
              "mes_sudpaca_annuelle.fid--6a74bd97_17f429acbc7_...  BOUCHES-DU-RHONE  ...     29\n",
              "mes_sudpaca_annuelle.fid--6a74bd97_17f429acbc7_...  BOUCHES-DU-RHONE  ...     31\n",
              "mes_sudpaca_annuelle.fid--6a74bd97_17f429acbc7_...  BOUCHES-DU-RHONE  ...     49\n",
              "mes_sudpaca_annuelle.fid--6a74bd97_17f429acbc7_...  BOUCHES-DU-RHONE  ...     43\n",
              "\n",
              "[5 rows x 3 columns]"
            ]
          },
          "metadata": {},
          "execution_count": 12
        }
      ]
    },
    {
      "cell_type": "markdown",
      "source": [
        "- **Quel est le niveau moyen de N02 dans les différents départements ? La variance et l'écart-type associés ?**"
      ],
      "metadata": {
        "id": "zcIJVh4cU1p0"
      }
    },
    {
      "cell_type": "code",
      "source": [
        "# Filtrer la base de données selon NO2 \n",
        "datatmosud3 = datatmosud2[(datatmosud2[\"nom_poll\"] == \"NO2\")]\n",
        "\n",
        "# Afficher les différentes modalités des variables \"nom_dept\", \"nom_poll\"\n",
        "print(datatmosud3[\"nom_dept\"].value_counts())\n",
        "print(datatmosud3[\"nom_poll\"].value_counts())\n",
        "\n",
        "datatmosud3.head()"
      ],
      "metadata": {
        "id": "MZMtX6-UV5W2",
        "colab": {
          "base_uri": "https://localhost:8080/",
          "height": 398
        },
        "outputId": "9b233645-0b17-41e1-95d0-706bddeba6ab"
      },
      "execution_count": null,
      "outputs": [
        {
          "output_type": "stream",
          "name": "stdout",
          "text": [
            "BOUCHES-DU-RHONE           75\n",
            "ALPES-MARITIMES            35\n",
            "VAR                        24\n",
            "VAUCLUSE                   18\n",
            "HAUTES-ALPES               12\n",
            "ALPES-DE-HAUTE-PROVENCE     5\n",
            "Name: nom_dept, dtype: int64\n",
            "NO2    169\n",
            "Name: nom_poll, dtype: int64\n"
          ]
        },
        {
          "output_type": "execute_result",
          "data": {
            "text/html": [
              "\n",
              "  <div id=\"df-09b6e136-211b-4278-8651-5e8f00c08414\">\n",
              "    <div class=\"colab-df-container\">\n",
              "      <div>\n",
              "<style scoped>\n",
              "    .dataframe tbody tr th:only-of-type {\n",
              "        vertical-align: middle;\n",
              "    }\n",
              "\n",
              "    .dataframe tbody tr th {\n",
              "        vertical-align: top;\n",
              "    }\n",
              "\n",
              "    .dataframe thead th {\n",
              "        text-align: right;\n",
              "    }\n",
              "</style>\n",
              "<table border=\"1\" class=\"dataframe\">\n",
              "  <thead>\n",
              "    <tr style=\"text-align: right;\">\n",
              "      <th></th>\n",
              "      <th>nom_dept</th>\n",
              "      <th>nom_poll</th>\n",
              "      <th>valeur</th>\n",
              "    </tr>\n",
              "    <tr>\n",
              "      <th>FID</th>\n",
              "      <th></th>\n",
              "      <th></th>\n",
              "      <th></th>\n",
              "    </tr>\n",
              "  </thead>\n",
              "  <tbody>\n",
              "    <tr>\n",
              "      <th>mes_sudpaca_annuelle.fid--6a74bd97_17f429acbc7_-733e</th>\n",
              "      <td>BOUCHES-DU-RHONE</td>\n",
              "      <td>NO2</td>\n",
              "      <td>32</td>\n",
              "    </tr>\n",
              "    <tr>\n",
              "      <th>mes_sudpaca_annuelle.fid--6a74bd97_17f429acbc7_-733d</th>\n",
              "      <td>BOUCHES-DU-RHONE</td>\n",
              "      <td>NO2</td>\n",
              "      <td>29</td>\n",
              "    </tr>\n",
              "    <tr>\n",
              "      <th>mes_sudpaca_annuelle.fid--6a74bd97_17f429acbc7_-733c</th>\n",
              "      <td>BOUCHES-DU-RHONE</td>\n",
              "      <td>NO2</td>\n",
              "      <td>31</td>\n",
              "    </tr>\n",
              "    <tr>\n",
              "      <th>mes_sudpaca_annuelle.fid--6a74bd97_17f429acbc7_-7332</th>\n",
              "      <td>VAR</td>\n",
              "      <td>NO2</td>\n",
              "      <td>27</td>\n",
              "    </tr>\n",
              "    <tr>\n",
              "      <th>mes_sudpaca_annuelle.fid--6a74bd97_17f429acbc7_-7311</th>\n",
              "      <td>BOUCHES-DU-RHONE</td>\n",
              "      <td>NO2</td>\n",
              "      <td>18</td>\n",
              "    </tr>\n",
              "  </tbody>\n",
              "</table>\n",
              "</div>\n",
              "      <button class=\"colab-df-convert\" onclick=\"convertToInteractive('df-09b6e136-211b-4278-8651-5e8f00c08414')\"\n",
              "              title=\"Convert this dataframe to an interactive table.\"\n",
              "              style=\"display:none;\">\n",
              "        \n",
              "  <svg xmlns=\"http://www.w3.org/2000/svg\" height=\"24px\"viewBox=\"0 0 24 24\"\n",
              "       width=\"24px\">\n",
              "    <path d=\"M0 0h24v24H0V0z\" fill=\"none\"/>\n",
              "    <path d=\"M18.56 5.44l.94 2.06.94-2.06 2.06-.94-2.06-.94-.94-2.06-.94 2.06-2.06.94zm-11 1L8.5 8.5l.94-2.06 2.06-.94-2.06-.94L8.5 2.5l-.94 2.06-2.06.94zm10 10l.94 2.06.94-2.06 2.06-.94-2.06-.94-.94-2.06-.94 2.06-2.06.94z\"/><path d=\"M17.41 7.96l-1.37-1.37c-.4-.4-.92-.59-1.43-.59-.52 0-1.04.2-1.43.59L10.3 9.45l-7.72 7.72c-.78.78-.78 2.05 0 2.83L4 21.41c.39.39.9.59 1.41.59.51 0 1.02-.2 1.41-.59l7.78-7.78 2.81-2.81c.8-.78.8-2.07 0-2.86zM5.41 20L4 18.59l7.72-7.72 1.47 1.35L5.41 20z\"/>\n",
              "  </svg>\n",
              "      </button>\n",
              "      \n",
              "  <style>\n",
              "    .colab-df-container {\n",
              "      display:flex;\n",
              "      flex-wrap:wrap;\n",
              "      gap: 12px;\n",
              "    }\n",
              "\n",
              "    .colab-df-convert {\n",
              "      background-color: #E8F0FE;\n",
              "      border: none;\n",
              "      border-radius: 50%;\n",
              "      cursor: pointer;\n",
              "      display: none;\n",
              "      fill: #1967D2;\n",
              "      height: 32px;\n",
              "      padding: 0 0 0 0;\n",
              "      width: 32px;\n",
              "    }\n",
              "\n",
              "    .colab-df-convert:hover {\n",
              "      background-color: #E2EBFA;\n",
              "      box-shadow: 0px 1px 2px rgba(60, 64, 67, 0.3), 0px 1px 3px 1px rgba(60, 64, 67, 0.15);\n",
              "      fill: #174EA6;\n",
              "    }\n",
              "\n",
              "    [theme=dark] .colab-df-convert {\n",
              "      background-color: #3B4455;\n",
              "      fill: #D2E3FC;\n",
              "    }\n",
              "\n",
              "    [theme=dark] .colab-df-convert:hover {\n",
              "      background-color: #434B5C;\n",
              "      box-shadow: 0px 1px 3px 1px rgba(0, 0, 0, 0.15);\n",
              "      filter: drop-shadow(0px 1px 2px rgba(0, 0, 0, 0.3));\n",
              "      fill: #FFFFFF;\n",
              "    }\n",
              "  </style>\n",
              "\n",
              "      <script>\n",
              "        const buttonEl =\n",
              "          document.querySelector('#df-09b6e136-211b-4278-8651-5e8f00c08414 button.colab-df-convert');\n",
              "        buttonEl.style.display =\n",
              "          google.colab.kernel.accessAllowed ? 'block' : 'none';\n",
              "\n",
              "        async function convertToInteractive(key) {\n",
              "          const element = document.querySelector('#df-09b6e136-211b-4278-8651-5e8f00c08414');\n",
              "          const dataTable =\n",
              "            await google.colab.kernel.invokeFunction('convertToInteractive',\n",
              "                                                     [key], {});\n",
              "          if (!dataTable) return;\n",
              "\n",
              "          const docLinkHtml = 'Like what you see? Visit the ' +\n",
              "            '<a target=\"_blank\" href=https://colab.research.google.com/notebooks/data_table.ipynb>data table notebook</a>'\n",
              "            + ' to learn more about interactive tables.';\n",
              "          element.innerHTML = '';\n",
              "          dataTable['output_type'] = 'display_data';\n",
              "          await google.colab.output.renderOutput(dataTable, element);\n",
              "          const docLink = document.createElement('div');\n",
              "          docLink.innerHTML = docLinkHtml;\n",
              "          element.appendChild(docLink);\n",
              "        }\n",
              "      </script>\n",
              "    </div>\n",
              "  </div>\n",
              "  "
            ],
            "text/plain": [
              "                                                            nom_dept  ... valeur\n",
              "FID                                                                   ...       \n",
              "mes_sudpaca_annuelle.fid--6a74bd97_17f429acbc7_...  BOUCHES-DU-RHONE  ...     32\n",
              "mes_sudpaca_annuelle.fid--6a74bd97_17f429acbc7_...  BOUCHES-DU-RHONE  ...     29\n",
              "mes_sudpaca_annuelle.fid--6a74bd97_17f429acbc7_...  BOUCHES-DU-RHONE  ...     31\n",
              "mes_sudpaca_annuelle.fid--6a74bd97_17f429acbc7_...               VAR  ...     27\n",
              "mes_sudpaca_annuelle.fid--6a74bd97_17f429acbc7_...  BOUCHES-DU-RHONE  ...     18\n",
              "\n",
              "[5 rows x 3 columns]"
            ]
          },
          "metadata": {},
          "execution_count": 13
        }
      ]
    },
    {
      "cell_type": "code",
      "source": [
        "# Afficher le niveau moyen de NO2 par département + variance + écart-type\n",
        "datatmosud3.groupby(['nom_dept']).agg([np.mean, np.var, np.std])"
      ],
      "metadata": {
        "id": "wc6CBsLX4iqL",
        "colab": {
          "base_uri": "https://localhost:8080/",
          "height": 300
        },
        "outputId": "6c56d4b2-77db-4e05-e2eb-c2555334236a"
      },
      "execution_count": null,
      "outputs": [
        {
          "output_type": "execute_result",
          "data": {
            "text/html": [
              "\n",
              "  <div id=\"df-f6cd3aad-5797-4235-b7f6-d3ceb769a3ea\">\n",
              "    <div class=\"colab-df-container\">\n",
              "      <div>\n",
              "<style scoped>\n",
              "    .dataframe tbody tr th:only-of-type {\n",
              "        vertical-align: middle;\n",
              "    }\n",
              "\n",
              "    .dataframe tbody tr th {\n",
              "        vertical-align: top;\n",
              "    }\n",
              "\n",
              "    .dataframe thead tr th {\n",
              "        text-align: left;\n",
              "    }\n",
              "\n",
              "    .dataframe thead tr:last-of-type th {\n",
              "        text-align: right;\n",
              "    }\n",
              "</style>\n",
              "<table border=\"1\" class=\"dataframe\">\n",
              "  <thead>\n",
              "    <tr>\n",
              "      <th></th>\n",
              "      <th colspan=\"3\" halign=\"left\">valeur</th>\n",
              "    </tr>\n",
              "    <tr>\n",
              "      <th></th>\n",
              "      <th>mean</th>\n",
              "      <th>var</th>\n",
              "      <th>std</th>\n",
              "    </tr>\n",
              "    <tr>\n",
              "      <th>nom_dept</th>\n",
              "      <th></th>\n",
              "      <th></th>\n",
              "      <th></th>\n",
              "    </tr>\n",
              "  </thead>\n",
              "  <tbody>\n",
              "    <tr>\n",
              "      <th>ALPES-DE-HAUTE-PROVENCE</th>\n",
              "      <td>9.800000</td>\n",
              "      <td>2.200000</td>\n",
              "      <td>1.483240</td>\n",
              "    </tr>\n",
              "    <tr>\n",
              "      <th>ALPES-MARITIMES</th>\n",
              "      <td>25.457143</td>\n",
              "      <td>90.667227</td>\n",
              "      <td>9.521934</td>\n",
              "    </tr>\n",
              "    <tr>\n",
              "      <th>BOUCHES-DU-RHONE</th>\n",
              "      <td>26.213333</td>\n",
              "      <td>115.548468</td>\n",
              "      <td>10.749347</td>\n",
              "    </tr>\n",
              "    <tr>\n",
              "      <th>HAUTES-ALPES</th>\n",
              "      <td>22.833333</td>\n",
              "      <td>31.969697</td>\n",
              "      <td>5.654175</td>\n",
              "    </tr>\n",
              "    <tr>\n",
              "      <th>VAR</th>\n",
              "      <td>21.958333</td>\n",
              "      <td>102.041667</td>\n",
              "      <td>10.101568</td>\n",
              "    </tr>\n",
              "    <tr>\n",
              "      <th>VAUCLUSE</th>\n",
              "      <td>19.666667</td>\n",
              "      <td>32.000000</td>\n",
              "      <td>5.656854</td>\n",
              "    </tr>\n",
              "  </tbody>\n",
              "</table>\n",
              "</div>\n",
              "      <button class=\"colab-df-convert\" onclick=\"convertToInteractive('df-f6cd3aad-5797-4235-b7f6-d3ceb769a3ea')\"\n",
              "              title=\"Convert this dataframe to an interactive table.\"\n",
              "              style=\"display:none;\">\n",
              "        \n",
              "  <svg xmlns=\"http://www.w3.org/2000/svg\" height=\"24px\"viewBox=\"0 0 24 24\"\n",
              "       width=\"24px\">\n",
              "    <path d=\"M0 0h24v24H0V0z\" fill=\"none\"/>\n",
              "    <path d=\"M18.56 5.44l.94 2.06.94-2.06 2.06-.94-2.06-.94-.94-2.06-.94 2.06-2.06.94zm-11 1L8.5 8.5l.94-2.06 2.06-.94-2.06-.94L8.5 2.5l-.94 2.06-2.06.94zm10 10l.94 2.06.94-2.06 2.06-.94-2.06-.94-.94-2.06-.94 2.06-2.06.94z\"/><path d=\"M17.41 7.96l-1.37-1.37c-.4-.4-.92-.59-1.43-.59-.52 0-1.04.2-1.43.59L10.3 9.45l-7.72 7.72c-.78.78-.78 2.05 0 2.83L4 21.41c.39.39.9.59 1.41.59.51 0 1.02-.2 1.41-.59l7.78-7.78 2.81-2.81c.8-.78.8-2.07 0-2.86zM5.41 20L4 18.59l7.72-7.72 1.47 1.35L5.41 20z\"/>\n",
              "  </svg>\n",
              "      </button>\n",
              "      \n",
              "  <style>\n",
              "    .colab-df-container {\n",
              "      display:flex;\n",
              "      flex-wrap:wrap;\n",
              "      gap: 12px;\n",
              "    }\n",
              "\n",
              "    .colab-df-convert {\n",
              "      background-color: #E8F0FE;\n",
              "      border: none;\n",
              "      border-radius: 50%;\n",
              "      cursor: pointer;\n",
              "      display: none;\n",
              "      fill: #1967D2;\n",
              "      height: 32px;\n",
              "      padding: 0 0 0 0;\n",
              "      width: 32px;\n",
              "    }\n",
              "\n",
              "    .colab-df-convert:hover {\n",
              "      background-color: #E2EBFA;\n",
              "      box-shadow: 0px 1px 2px rgba(60, 64, 67, 0.3), 0px 1px 3px 1px rgba(60, 64, 67, 0.15);\n",
              "      fill: #174EA6;\n",
              "    }\n",
              "\n",
              "    [theme=dark] .colab-df-convert {\n",
              "      background-color: #3B4455;\n",
              "      fill: #D2E3FC;\n",
              "    }\n",
              "\n",
              "    [theme=dark] .colab-df-convert:hover {\n",
              "      background-color: #434B5C;\n",
              "      box-shadow: 0px 1px 3px 1px rgba(0, 0, 0, 0.15);\n",
              "      filter: drop-shadow(0px 1px 2px rgba(0, 0, 0, 0.3));\n",
              "      fill: #FFFFFF;\n",
              "    }\n",
              "  </style>\n",
              "\n",
              "      <script>\n",
              "        const buttonEl =\n",
              "          document.querySelector('#df-f6cd3aad-5797-4235-b7f6-d3ceb769a3ea button.colab-df-convert');\n",
              "        buttonEl.style.display =\n",
              "          google.colab.kernel.accessAllowed ? 'block' : 'none';\n",
              "\n",
              "        async function convertToInteractive(key) {\n",
              "          const element = document.querySelector('#df-f6cd3aad-5797-4235-b7f6-d3ceb769a3ea');\n",
              "          const dataTable =\n",
              "            await google.colab.kernel.invokeFunction('convertToInteractive',\n",
              "                                                     [key], {});\n",
              "          if (!dataTable) return;\n",
              "\n",
              "          const docLinkHtml = 'Like what you see? Visit the ' +\n",
              "            '<a target=\"_blank\" href=https://colab.research.google.com/notebooks/data_table.ipynb>data table notebook</a>'\n",
              "            + ' to learn more about interactive tables.';\n",
              "          element.innerHTML = '';\n",
              "          dataTable['output_type'] = 'display_data';\n",
              "          await google.colab.output.renderOutput(dataTable, element);\n",
              "          const docLink = document.createElement('div');\n",
              "          docLink.innerHTML = docLinkHtml;\n",
              "          element.appendChild(docLink);\n",
              "        }\n",
              "      </script>\n",
              "    </div>\n",
              "  </div>\n",
              "  "
            ],
            "text/plain": [
              "                            valeur                       \n",
              "                              mean         var        std\n",
              "nom_dept                                                 \n",
              "ALPES-DE-HAUTE-PROVENCE   9.800000    2.200000   1.483240\n",
              "ALPES-MARITIMES          25.457143   90.667227   9.521934\n",
              "BOUCHES-DU-RHONE         26.213333  115.548468  10.749347\n",
              "HAUTES-ALPES             22.833333   31.969697   5.654175\n",
              "VAR                      21.958333  102.041667  10.101568\n",
              "VAUCLUSE                 19.666667   32.000000   5.656854"
            ]
          },
          "metadata": {},
          "execution_count": 14
        }
      ]
    },
    {
      "cell_type": "markdown",
      "source": [
        "- **Mise en forme d'un tableau de pollution** "
      ],
      "metadata": {
        "id": "BCIhxImJVwSx"
      }
    },
    {
      "cell_type": "code",
      "source": [
        "# Calculer le niveau moyen de NO2, O3 et PM10 pour chaque département\n",
        "polluantlist = [\"NO2\", \"PM10\", \"O3\"]\n",
        "datatmosud4 = datatmosud2[datatmosud2[\"nom_poll\"].isin(polluantlist)]\n",
        "datatmosud4 = datatmosud4.groupby(['nom_dept','nom_poll']).mean()\n",
        "print(datatmosud4)"
      ],
      "metadata": {
        "id": "FNPo6-6rV4aC",
        "colab": {
          "base_uri": "https://localhost:8080/"
        },
        "outputId": "bbaf25c4-cc15-4e43-d622-e352bec9d174"
      },
      "execution_count": null,
      "outputs": [
        {
          "output_type": "stream",
          "name": "stdout",
          "text": [
            "                                     valeur\n",
            "nom_dept                nom_poll           \n",
            "ALPES-DE-HAUTE-PROVENCE NO2        9.800000\n",
            "                        O3        73.181818\n",
            "                        PM10      11.444444\n",
            "ALPES-MARITIMES         NO2       25.457143\n",
            "                        O3        61.769231\n",
            "                        PM10      23.655172\n",
            "BOUCHES-DU-RHONE        NO2       26.213333\n",
            "                        O3        61.311475\n",
            "                        PM10      22.731343\n",
            "HAUTES-ALPES            NO2       22.833333\n",
            "                        O3        51.500000\n",
            "                        PM10      17.636364\n",
            "VAR                     NO2       21.958333\n",
            "                        O3        68.379310\n",
            "                        PM10      20.560000\n",
            "VAUCLUSE                NO2       19.666667\n",
            "                        O3        59.611111\n",
            "                        PM10      21.444444\n"
          ]
        }
      ]
    },
    {
      "cell_type": "code",
      "source": [
        "# Transformer la base de données telle que \"nom_poll\" corresponde aux noms des colonnes\n",
        "datatmosud5 = datatmosud4.reset_index(level=['nom_poll'])\n",
        "datatmosud5 = datatmosud5.pivot(columns=\"nom_poll\",values=\"valeur\")\n",
        "print(datatmosud5)"
      ],
      "metadata": {
        "id": "MjToIiRJB_g0",
        "colab": {
          "base_uri": "https://localhost:8080/"
        },
        "outputId": "420cec80-254e-4478-82ef-bd17e9aa3997"
      },
      "execution_count": null,
      "outputs": [
        {
          "output_type": "stream",
          "name": "stdout",
          "text": [
            "nom_poll                       NO2         O3       PM10\n",
            "nom_dept                                                \n",
            "ALPES-DE-HAUTE-PROVENCE   9.800000  73.181818  11.444444\n",
            "ALPES-MARITIMES          25.457143  61.769231  23.655172\n",
            "BOUCHES-DU-RHONE         26.213333  61.311475  22.731343\n",
            "HAUTES-ALPES             22.833333  51.500000  17.636364\n",
            "VAR                      21.958333  68.379310  20.560000\n",
            "VAUCLUSE                 19.666667  59.611111  21.444444\n"
          ]
        }
      ]
    },
    {
      "cell_type": "markdown",
      "source": [
        "- **Mesure de la covariance**"
      ],
      "metadata": {
        "id": "ingAp1weUxLg"
      }
    },
    {
      "cell_type": "code",
      "source": [
        "# Afficher la covariance entre NO2 et PM10\n",
        "np.cov(datatmosud5['NO2'], datatmosud5['PM10'])"
      ],
      "metadata": {
        "colab": {
          "base_uri": "https://localhost:8080/"
        },
        "id": "0rv6n3AuW_pN",
        "outputId": "573feda4-5901-48a8-c056-93cf0cc7a935"
      },
      "execution_count": null,
      "outputs": [
        {
          "output_type": "execute_result",
          "data": {
            "text/plain": [
              "array([[35.70828278, 24.12013211],\n",
              "       [24.12013211, 20.1879046 ]])"
            ]
          },
          "metadata": {},
          "execution_count": 29
        }
      ]
    },
    {
      "cell_type": "markdown",
      "source": [
        "- **Matrice de correlation des polluants**"
      ],
      "metadata": {
        "id": "__0vxBvfSlHA"
      }
    },
    {
      "cell_type": "code",
      "source": [
        "# Visualiser la matrice de corrélation des polluants\n",
        "corrMatrix = datatmosud5.corr()\n",
        "sn.heatmap(corrMatrix, annot=True)\n",
        "plt.title(\"Matrice de corrélation des données de pollution\")\n",
        "plt.xlabel(\"Polluants\")\n",
        "plt.ylabel(\"Polluants\")\n",
        "plt.show()"
      ],
      "metadata": {
        "colab": {
          "base_uri": "https://localhost:8080/",
          "height": 295
        },
        "id": "W_3nla9qXVaY",
        "outputId": "d7f6ff90-a1dc-4d8c-e92c-8177c7e60f90"
      },
      "execution_count": null,
      "outputs": [
        {
          "output_type": "display_data",
          "data": {
            "image/png": "[encoded data removed]",
            "text/plain": [
              "<Figure size 432x288 with 2 Axes>"
            ]
          },
          "metadata": {
            "needs_background": "light"
          }
        }
      ]
    }
  ]
}