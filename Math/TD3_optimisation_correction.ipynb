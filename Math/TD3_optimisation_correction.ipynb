{
  "nbformat": 4,
  "nbformat_minor": 0,
  "metadata": {
    "colab": {
      "name": "TD3_optimisation_correction",
      "provenance": [],
      "collapsed_sections": [],
      "toc_visible": true
    },
    "kernelspec": {
      "name": "python3",
      "display_name": "Python 3"
    },
    "language_info": {
      "name": "python"
    }
  },
  "cells": [
    {
      "cell_type": "markdown",
      "source": [
        "# **TD Optimisation**\n",
        "3 Mars 2022 - David Loiseaux et Fanny Simões"
      ],
      "metadata": {
        "id": "6IDS_AXr2d5T"
      }
    },
    {
      "cell_type": "markdown",
      "source": [
        "## **Avant d'utiliser ce notebook**"
      ],
      "metadata": {
        "id": "kMKlxjAR2qov"
      }
    },
    {
      "cell_type": "markdown",
      "source": [
        "- Travailler sur une copie de ce notebook dans votre drive.\n",
        "- Le chargement de votre drive se fait de manière automatique, vous pouvez le retrouver dans les fichiers ci-contre. Sinon executer les commandes ci-dessous."
      ],
      "metadata": {
        "id": "KqLaqgTY2rcc"
      }
    },
    {
      "cell_type": "code",
      "execution_count": null,
      "metadata": {
        "id": "_vAz4Nqp2bLO"
      },
      "outputs": [],
      "source": [
        "from google.colab import drive\n",
        "drive.mount('/content/drive/')"
      ]
    },
    {
      "cell_type": "markdown",
      "source": [
        "#**Exercice : Implémentation de la descente de gradient**# "
      ],
      "metadata": {
        "id": "EhzF75Vn3M7-"
      }
    },
    {
      "cell_type": "code",
      "source": [
        "### Chargement des packages python\n",
        "import numpy as np\n",
        "from matplotlib import pyplot"
      ],
      "metadata": {
        "id": "uerkXKwW3lwS"
      },
      "execution_count": null,
      "outputs": []
    },
    {
      "cell_type": "markdown",
      "source": [
        "### A) Définir la fonction à optimiser"
      ],
      "metadata": {
        "id": "6v7IHznjiEul"
      }
    },
    {
      "cell_type": "markdown",
      "source": [
        "- **La fonction est : f(x)=x²-2x**"
      ],
      "metadata": {
        "id": "TfO-9pR_oNgf"
      }
    },
    {
      "cell_type": "code",
      "source": [
        "# Définir la fonction f(x)\n",
        "def fct(x):\n",
        "\treturn x**2-2*x"
      ],
      "metadata": {
        "id": "pTX2hSAcoBX9"
      },
      "execution_count": null,
      "outputs": []
    },
    {
      "cell_type": "markdown",
      "source": [
        "- **Générer les données de la fonction**"
      ],
      "metadata": {
        "id": "uEFb-pFCqtAj"
      }
    },
    {
      "cell_type": "code",
      "source": [
        "# Définir les bornes d'un intervalle entre -2 et 4 \n",
        "r_min, r_max = -2, 4\n",
        "# Générer les données X suivant l'intervalle fixé précedement, avec un pas de 0.2\n",
        "X = np.arange(r_min, r_max+0.2, 0.2)\n",
        "# Appliquer la fonction f(x) aux données X\n",
        "Y = fct(X)"
      ],
      "metadata": {
        "id": "LbHZnSsTpqpx"
      },
      "execution_count": null,
      "outputs": []
    },
    {
      "cell_type": "markdown",
      "source": [
        "- **Visualiser la fonction que vous venez de créer**\n",
        "\n",
        "Vous devez voir cela : "
      ],
      "metadata": {
        "id": "OkU8xG4xqROj"
      }
    },
    {
      "cell_type": "markdown",
      "source": [
        "![results_plot.png](data:image/png;base64,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)"
      ],
      "metadata": {
        "id": "C4XF24oMqgAJ"
      }
    },
    {
      "cell_type": "code",
      "source": [
        "# Affichage de la courbe selon X et Y\n",
        "pyplot.plot(X,Y)\n",
        "pyplot.show()"
      ],
      "metadata": {
        "colab": {
          "base_uri": "https://localhost:8080/",
          "height": 265
        },
        "id": "VB12V8_dqEBj",
        "outputId": "de05fbcd-ed2f-42c4-d776-fa375bf93902"
      },
      "execution_count": null,
      "outputs": [
        {
          "output_type": "display_data",
          "data": {
            "image/png": "[encoded data removed]",
            "text/plain": [
              "<Figure size 432x288 with 1 Axes>"
            ]
          },
          "metadata": {
            "needs_background": "light"
          }
        }
      ]
    },
    {
      "cell_type": "markdown",
      "source": [
        "### B) Descente de gradient"
      ],
      "metadata": {
        "id": "SmsUk19TwD0g"
      }
    },
    {
      "cell_type": "markdown",
      "source": [
        "- **Dérivée partielle de f(x)**"
      ],
      "metadata": {
        "id": "VHL73-YBwcGY"
      }
    },
    {
      "cell_type": "code",
      "source": [
        "# Définir la dérivée partielle de f(x)\n",
        "def deriv(x):\n",
        "\treturn 2 * x - 2"
      ],
      "metadata": {
        "id": "0CwmydiYwjoa"
      },
      "execution_count": null,
      "outputs": []
    },
    {
      "cell_type": "markdown",
      "source": [
        "- **Définir l'algorithme de descente de gradient**"
      ],
      "metadata": {
        "id": "NQcfRL8vw6RE"
      }
    },
    {
      "cell_type": "code",
      "source": [
        "def gradient_descent(fct, deriv, n_iter, step_size):\n",
        "  # Listes vides qui vont contenir l'ensemble des résultats \n",
        "\tsolutions, scores = list(), list()\n",
        "\t# Sélection du point de départ pour le calcul du gradient\n",
        "\tsolution = 4  \n",
        "\t# Créer une fonction qui à chaque itération calcule le gradient\n",
        "\tfor i in range(n_iter):\n",
        "\t\t# Calcule du gradient en un point\n",
        "\t\tgradient = deriv(solution)\n",
        "    # Descente vers un minium : Point de départ - pas fixé (learning rate) * le gradient\n",
        "\t\tsolution = solution - step_size * gradient\n",
        "\t\t# Valeur de la fonction en ce point\n",
        "\t\tsolution_eval = fct(solution)\n",
        "    # Sauvegarde des résultats dans les listes précédement définies\n",
        "\t\tsolutions.append(solution)\n",
        "\t\tscores.append(solution_eval)\n",
        "\t\t# Afficher les résultats obtenus à chaque itération\n",
        "\t\tprint('>%d f(%s) = %.5f' % (i, solution, solution_eval)) #%d pour un integer/decimal, %s pour un string/object, %.5f flot format 5 chiffres après la virgule\n",
        "\treturn [solutions, scores]"
      ],
      "metadata": {
        "id": "x2YWiTZSxGt6"
      },
      "execution_count": null,
      "outputs": []
    },
    {
      "cell_type": "markdown",
      "source": [
        "- **Appliquer l'algorithme de descente de gradient**"
      ],
      "metadata": {
        "id": "79R5gE8M15Ve"
      }
    },
    {
      "cell_type": "code",
      "source": [
        "# Fixer un nombre total d'itération\n",
        "n_iter = 40\n",
        "# Pas de l'algorithme = learning rate --> fixer entre 0 et 1 \n",
        "step_size = 0.1\n",
        "# Appliquer l'algorithme de descente de gradient\n",
        "solutions, scores = gradient_descent(fct, deriv, n_iter, step_size)\n",
        "print('Done!')"
      ],
      "metadata": {
        "colab": {
          "base_uri": "https://localhost:8080/"
        },
        "id": "eBaiWc7zxKVg",
        "outputId": "2588fcd4-941f-4258-9ff0-e6f36765e094"
      },
      "execution_count": null,
      "outputs": [
        {
          "output_type": "stream",
          "name": "stdout",
          "text": [
            ">0 f(3.4) = 4.76000\n",
            ">1 f(2.92) = 2.68640\n",
            ">2 f(2.536) = 1.35930\n",
            ">3 f(2.2288) = 0.50995\n",
            ">4 f(1.9830400000000001) = -0.03363\n",
            ">5 f(1.786432) = -0.38152\n",
            ">6 f(1.6291456) = -0.60418\n",
            ">7 f(1.50331648) = -0.74667\n",
            ">8 f(1.402653184) = -0.83787\n",
            ">9 f(1.3221225472) = -0.89624\n",
            ">10 f(1.25769803776) = -0.93359\n",
            ">11 f(1.206158430208) = -0.95750\n",
            ">12 f(1.1649267441664) = -0.97280\n",
            ">13 f(1.1319413953331199) = -0.98259\n",
            ">14 f(1.105553116266496) = -0.98886\n",
            ">15 f(1.0844424930131968) = -0.99287\n",
            ">16 f(1.0675539944105574) = -0.99544\n",
            ">17 f(1.054043195528446) = -0.99708\n",
            ">18 f(1.0432345564227568) = -0.99813\n",
            ">19 f(1.0345876451382054) = -0.99880\n",
            ">20 f(1.0276701161105644) = -0.99923\n",
            ">21 f(1.0221360928884515) = -0.99951\n",
            ">22 f(1.0177088743107612) = -0.99969\n",
            ">23 f(1.014167099448609) = -0.99980\n",
            ">24 f(1.0113336795588872) = -0.99987\n",
            ">25 f(1.0090669436471098) = -0.99992\n",
            ">26 f(1.0072535549176878) = -0.99995\n",
            ">27 f(1.0058028439341502) = -0.99997\n",
            ">28 f(1.00464227514732) = -0.99998\n",
            ">29 f(1.0037138201178561) = -0.99999\n",
            ">30 f(1.0029710560942848) = -0.99999\n",
            ">31 f(1.0023768448754278) = -0.99999\n",
            ">32 f(1.0019014759003422) = -1.00000\n",
            ">33 f(1.0015211807202737) = -1.00000\n",
            ">34 f(1.001216944576219) = -1.00000\n",
            ">35 f(1.0009735556609751) = -1.00000\n",
            ">36 f(1.0007788445287802) = -1.00000\n",
            ">37 f(1.000623075623024) = -1.00000\n",
            ">38 f(1.0004984604984193) = -1.00000\n",
            ">39 f(1.0003987683987354) = -1.00000\n",
            "Done!\n"
          ]
        }
      ]
    },
    {
      "cell_type": "code",
      "source": [
        "# Affichage de la courbe selon X et Y \n",
        "pyplot.plot(X, Y)\n",
        "# Ajout sur cette courbes des minimums locaux trouvés\n",
        "pyplot.plot(solutions, scores, '.', color='red')\n",
        "#Afficher les résultats\n",
        "pyplot.show()"
      ],
      "metadata": {
        "colab": {
          "base_uri": "https://localhost:8080/",
          "height": 265
        },
        "id": "LYY3OAlo5K5t",
        "outputId": "1b61730b-b32c-4b77-c4d4-e153826629c7"
      },
      "execution_count": null,
      "outputs": [
        {
          "output_type": "display_data",
          "data": {
            "image/png": "[encoded data removed]",
            "text/plain": [
              "<Figure size 432x288 with 1 Axes>"
            ]
          },
          "metadata": {
            "needs_background": "light"
          }
        }
      ]
    },
    {
      "cell_type": "markdown",
      "source": [
        "### C) Questions bonus\n",
        "\n",
        "- 1) Faire la même chose que précédement mais avec un point de départ qui n'est pas fixe, il est fixé aléatoirement à chaque fois que le gradient descent est lancé.\n",
        "\n",
        "- 2) Essayez de faire la même chose mais avec une fonction qui n'est pas convexe, une fonction qui pourrait admettre plusieurs minima locaux."
      ],
      "metadata": {
        "id": "FfRN3Ykrp9Id"
      }
    },
    {
      "cell_type": "markdown",
      "source": [
        "- **Correction question 1**"
      ],
      "metadata": {
        "id": "38tzMH17Ay1-"
      }
    },
    {
      "cell_type": "code",
      "source": [
        "# Définir la fonction f(x)\n",
        "def fct(x):\n",
        "\treturn x**2 - 2 * x\n",
        "\n",
        "# Définir les bornes d'un intervalle entre -2 et 4 \n",
        "r_min, r_max = -2, 4\n",
        "# Générer les données X suivant l'intervalle fixé précedement, avec un pas de 0.2\n",
        "X = np.arange(r_min, r_max+0.2, 0.2)\n",
        "# Appliquer la fonction f(x) aux données X\n",
        "Y = fct(X)\n",
        "\n",
        "# Définir la dérivée partielle de f(x)\n",
        "def deriv(x):\n",
        "\treturn 2 * x - 2\n",
        "\n",
        "def gradient_descent(fct, deriv, n_iter, step_size):\n",
        "  # Listes vides qui vont contenir l'ensemble des résultats \n",
        "\tsolutions, scores = list(), list()\n",
        "\t# Sélection du point de départ pour le calcul du gradient aléatoirement\n",
        "\tsolution = np.random.choice(X,1)\n",
        "\t# Créer une fonction qui à chaque itération calcule le gradient\n",
        "\tfor i in range(n_iter):\n",
        "\t\t# Calcule du gradient en un point\n",
        "\t\tgradient = deriv(solution)\n",
        "    # Descente vers un minium : Point de départ - pas fixé (learning rate) * le gradient\n",
        "\t\tsolution = solution - step_size * gradient\n",
        "\t\t# Valeur de la fonction en ce point\n",
        "\t\tsolution_eval = fct(solution)\n",
        "    # Sauvegarde des résultats dans les listes précédement définies\n",
        "\t\tsolutions.append(solution)\n",
        "\t\tscores.append(solution_eval)\n",
        "\t\t# Afficher les résultats obtenus à chaque itération\n",
        "\t\tprint('>%d f(%s) = %.5f' % (i, solution, solution_eval)) #%d pour un integer/decimal, %s pour un string/object, %.5f flot format 5 chiffres après la virgule\n",
        "\treturn [solutions, scores]\n",
        "\n",
        "# Fixer un nombre total d'itération\n",
        "n_iter = 40\n",
        "# Pas de l'algorithme = learning rate --> fixer entre 0 et 1 \n",
        "step_size = 0.1\n",
        "# Appliquer l'algorithme de descente de gradient\n",
        "solutions, scores = gradient_descent(fct, deriv, n_iter, step_size)\n",
        "print('Done!')\n",
        "\n",
        "# Affichage de la courbe selon X et Y \n",
        "pyplot.plot(X, Y)\n",
        "# Ajout sur cette courbes des minimums locaux trouvés\n",
        "pyplot.plot(solutions, scores, '.', color='red')\n",
        "#Afficher les résultats\n",
        "pyplot.show()"
      ],
      "metadata": {
        "colab": {
          "base_uri": "https://localhost:8080/",
          "height": 997
        },
        "id": "fjokFy6BBVS-",
        "outputId": "9dbc7f3d-aa2e-4a74-f237-4896339328e9"
      },
      "execution_count": null,
      "outputs": [
        {
          "output_type": "stream",
          "name": "stdout",
          "text": [
            ">0 f([3.08]) = 3.32640\n",
            ">1 f([2.664]) = 1.76890\n",
            ">2 f([2.3312]) = 0.77209\n",
            ">3 f([2.06496]) = 0.13414\n",
            ">4 f([1.851968]) = -0.27415\n",
            ">5 f([1.6815744]) = -0.53546\n",
            ">6 f([1.54525952]) = -0.70269\n",
            ">7 f([1.43620762]) = -0.80972\n",
            ">8 f([1.34896609]) = -0.87822\n",
            ">9 f([1.27917287]) = -0.92206\n",
            ">10 f([1.2233383]) = -0.95012\n",
            ">11 f([1.17867064]) = -0.96808\n",
            ">12 f([1.14293651]) = -0.97957\n",
            ">13 f([1.11434921]) = -0.98692\n",
            ">14 f([1.09147937]) = -0.99163\n",
            ">15 f([1.07318349]) = -0.99464\n",
            ">16 f([1.0585468]) = -0.99657\n",
            ">17 f([1.04683744]) = -0.99781\n",
            ">18 f([1.03746995]) = -0.99860\n",
            ">19 f([1.02997596]) = -0.99910\n",
            ">20 f([1.02398077]) = -0.99942\n",
            ">21 f([1.01918461]) = -0.99963\n",
            ">22 f([1.01534769]) = -0.99976\n",
            ">23 f([1.01227815]) = -0.99985\n",
            ">24 f([1.00982252]) = -0.99990\n",
            ">25 f([1.00785802]) = -0.99994\n",
            ">26 f([1.00628641]) = -0.99996\n",
            ">27 f([1.00502913]) = -0.99997\n",
            ">28 f([1.00402331]) = -0.99998\n",
            ">29 f([1.00321864]) = -0.99999\n",
            ">30 f([1.00257492]) = -0.99999\n",
            ">31 f([1.00205993]) = -1.00000\n",
            ">32 f([1.00164795]) = -1.00000\n",
            ">33 f([1.00131836]) = -1.00000\n",
            ">34 f([1.00105469]) = -1.00000\n",
            ">35 f([1.00084375]) = -1.00000\n",
            ">36 f([1.000675]) = -1.00000\n",
            ">37 f([1.00054]) = -1.00000\n",
            ">38 f([1.000432]) = -1.00000\n",
            ">39 f([1.0003456]) = -1.00000\n",
            "Done!\n"
          ]
        },
        {
          "output_type": "display_data",
          "data": {
            "image/png": "[encoded data removed]",
            "text/plain": [
              "<Figure size 432x288 with 1 Axes>"
            ]
          },
          "metadata": {
            "needs_background": "light"
          }
        }
      ]
    },
    {
      "cell_type": "markdown",
      "source": [
        "- **Correction question 2**"
      ],
      "metadata": {
        "id": "QkjQytzyILHJ"
      }
    },
    {
      "cell_type": "code",
      "source": [
        "# Définir la fonction f(x)\n",
        "def fct(x):\n",
        "\treturn (x**3) - (2 * x**2) + x - 2\n",
        "\n",
        "# Définir les bornes d'un intervalle entre -2 et 4 \n",
        "r_min, r_max = -2, 4\n",
        "# Générer les données X suivant l'intervalle fixé précedement, avec un pas de 0.2\n",
        "X = np.arange(r_min, r_max+0.2, 0.2)\n",
        "# Appliquer la fonction f(x) aux données X\n",
        "Y = fct(X)\n",
        "\n",
        "# Définir la dérivée partielle de f(x)\n",
        "def deriv(x):\n",
        "\treturn (3 * x**2) - (4 * x) + 1\n",
        "\n",
        "def gradient_descent(fct, deriv, n_iter, step_size):\n",
        "  # Listes vides qui vont contenir l'ensemble des résultats \n",
        "\tsolutions, scores = list(), list()\n",
        "\t# Sélection du point de départ pour le calcul du gradient aléatoirement\n",
        "\tsolution = np.random.choice(X,1)\n",
        "\t# Créer une fonction qui à chaque itération calcule le gradient\n",
        "\tfor i in range(n_iter):\n",
        "\t\t# Calcule du gradient en un point\n",
        "\t\tgradient = deriv(solution)\n",
        "    # Descente vers un minium : Point de départ - pas fixé (learning rate) * le gradient\n",
        "\t\tsolution = solution - step_size * gradient\n",
        "\t\t# Valeur de la fonction en ce point\n",
        "\t\tsolution_eval = fct(solution)\n",
        "    # Sauvegarde des résultats dans les listes précédement définies\n",
        "\t\tsolutions.append(solution)\n",
        "\t\tscores.append(solution_eval)\n",
        "\t\t# Afficher les résultats obtenus à chaque itération\n",
        "\t\tprint('>%d f(%s) = %.5f' % (i, solution, solution_eval)) #%d pour un integer/decimal, %s pour un string/object, %.5f flot format 5 chiffres après la virgule\n",
        "\treturn [solutions, scores]\n",
        "\n",
        "# Fixer un nombre total d'itération\n",
        "n_iter = 40\n",
        "# Pas de l'algorithme = learning rate --> fixer entre 0 et 1 \n",
        "step_size = 0.1\n",
        "# Appliquer l'algorithme de descente de gradient\n",
        "solutions, scores = gradient_descent(fct, deriv, n_iter, step_size)\n",
        "print('Done!')\n",
        "\n",
        "# Affichage de la courbe selon X et Y \n",
        "pyplot.plot(X, Y)\n",
        "# Ajout sur cette courbes des minimums locaux trouvés\n",
        "pyplot.plot(solutions, scores, '.', color='red')\n",
        "#Afficher les résultats\n",
        "pyplot.show()"
      ],
      "metadata": {
        "colab": {
          "base_uri": "https://localhost:8080/",
          "height": 997
        },
        "id": "vxvbn3IPIKn4",
        "outputId": "e59fa038-92bf-43ef-a1ef-219658f65bf8"
      },
      "execution_count": null,
      "outputs": [
        {
          "output_type": "stream",
          "name": "stdout",
          "text": [
            ">0 f([1.532]) = -1.56641\n",
            ">1 f([1.3406928]) = -1.84438\n",
            ">2 f([1.23773276]) = -1.93005\n",
            ">3 f([1.17323115]) = -1.96479\n",
            ">4 f([1.12958221]) = -1.98103\n",
            ">5 f([1.0986283]) = -1.98931\n",
            ">6 f([1.07598438]) = -1.99379\n",
            ">7 f([1.05905542]) = -1.99631\n",
            ">8 f([1.04619807]) = -1.99777\n",
            ">9 f([1.03631818]) = -1.99863\n",
            ">10 f([1.02865884]) = -1.99916\n",
            ">11 f([1.02268067]) = -1.99947\n",
            ">12 f([1.01799021]) = -1.99967\n",
            ">13 f([1.01429508]) = -1.99979\n",
            ">14 f([1.01137476]) = -1.99987\n",
            ">15 f([1.00906099]) = -1.99992\n",
            ">16 f([1.00722416]) = -1.99995\n",
            ">17 f([1.00576367]) = -1.99997\n",
            ">18 f([1.00460097]) = -1.99998\n",
            ">19 f([1.00367443]) = -1.99999\n",
            ">20 f([1.00293549]) = -1.99999\n",
            ">21 f([1.00234581]) = -1.99999\n",
            ">22 f([1.001875]) = -2.00000\n",
            ">23 f([1.00149894]) = -2.00000\n",
            ">24 f([1.00119848]) = -2.00000\n",
            ">25 f([1.00095835]) = -2.00000\n",
            ">26 f([1.00076641]) = -2.00000\n",
            ">27 f([1.00061295]) = -2.00000\n",
            ">28 f([1.00049025]) = -2.00000\n",
            ">29 f([1.00039213]) = -2.00000\n",
            ">30 f([1.00031365]) = -2.00000\n",
            ">31 f([1.00025089]) = -2.00000\n",
            ">32 f([1.0002007]) = -2.00000\n",
            ">33 f([1.00016054]) = -2.00000\n",
            ">34 f([1.00012843]) = -2.00000\n",
            ">35 f([1.00010274]) = -2.00000\n",
            ">36 f([1.00008219]) = -2.00000\n",
            ">37 f([1.00006575]) = -2.00000\n",
            ">38 f([1.0000526]) = -2.00000\n",
            ">39 f([1.00004208]) = -2.00000\n",
            "Done!\n"
          ]
        },
        {
          "output_type": "display_data",
          "data": {
            "image/png": "[encoded data removed]",
            "text/plain": [
              "<Figure size 432x288 with 1 Axes>"
            ]
          },
          "metadata": {
            "needs_background": "light"
          }
        }
      ]
    }
  ]
}