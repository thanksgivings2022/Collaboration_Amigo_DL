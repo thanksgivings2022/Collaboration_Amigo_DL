{
  "nbformat": 4,
  "nbformat_minor": 0,
  "metadata": {
    "colab": {
      "name": "02_combining_datasets.ipynb",
      "provenance": [],
      "collapsed_sections": []
    },
    "kernelspec": {
      "name": "python3",
      "display_name": "Python 3"
    },
    "language_info": {
      "name": "python"
    }
  },
  "cells": [
    {
      "cell_type": "markdown",
      "metadata": {
        "id": "zO4bRoxr2Apy"
      },
      "source": [
        "# Combining datasets\n",
        "\n",
        "In this notebook, we are going to use the [Kaggle competition](https://www.kaggle.com/dansbecker/melbourne-housing-snapshot) dataset on estimating property sales prices in Melbourne, Australia.\n",
        "\n",
        "We will use the reduced dataset produced by [DanB](https://www.kaggle.com/dansbecker)."
      ]
    },
    {
      "cell_type": "code",
      "metadata": {
        "id": "4udjxjk1EtVU"
      },
      "source": [
        "import matplotlib.pyplot as plt\n",
        "import numpy\n",
        "import pandas\n",
        "\n",
        "import seaborn\n",
        "seaborn.set_context('talk')"
      ],
      "execution_count": 1,
      "outputs": []
    },
    {
      "cell_type": "code",
      "metadata": {
        "colab": {
          "base_uri": "https://localhost:8080/",
          "height": 35
        },
        "id": "3XdIsB8hISis",
        "outputId": "f4b05581-6393-48d6-da24-e35e676fce10"
      },
      "source": [
        "import plotly\n",
        "plotly.__version__"
      ],
      "execution_count": 3,
      "outputs": [
        {
          "output_type": "execute_result",
          "data": {
            "application/vnd.google.colaboratory.intrinsic+json": {
              "type": "string"
            },
            "text/plain": [
              "'5.5.0'"
            ]
          },
          "metadata": {},
          "execution_count": 3
        }
      ]
    },
    {
      "cell_type": "code",
      "metadata": {
        "id": "i2nqY0GGIVn2"
      },
      "source": [
        "# To update plotly, uncomment and run the following line:\n",
        "# !pip install plotly --upgrade"
      ],
      "execution_count": 4,
      "outputs": []
    },
    {
      "cell_type": "code",
      "metadata": {
        "colab": {
          "base_uri": "https://localhost:8080/",
          "height": 306
        },
        "id": "_qeFN3GnEvMk",
        "outputId": "4b36f757-1467-4ea3-8d2d-c69c1e3b66f0"
      },
      "source": [
        "melb_df = pandas.read_csv(\n",
        "    'https://cs.famaf.unc.edu.ar/~mteruel/datasets/diplodatos/melb_data.csv')\n",
        "melb_df[:3]"
      ],
      "execution_count": 5,
      "outputs": [
        {
          "output_type": "execute_result",
          "data": {
            "text/html": [
              "\n",
              "  <div id=\"df-b3c7ec2e-dbb6-4851-8af3-4d9c421b24c3\">\n",
              "    <div class=\"colab-df-container\">\n",
              "      <div>\n",
              "<style scoped>\n",
              "    .dataframe tbody tr th:only-of-type {\n",
              "        vertical-align: middle;\n",
              "    }\n",
              "\n",
              "    .dataframe tbody tr th {\n",
              "        vertical-align: top;\n",
              "    }\n",
              "\n",
              "    .dataframe thead th {\n",
              "        text-align: right;\n",
              "    }\n",
              "</style>\n",
              "<table border=\"1\" class=\"dataframe\">\n",
              "  <thead>\n",
              "    <tr style=\"text-align: right;\">\n",
              "      <th></th>\n",
              "      <th>Suburb</th>\n",
              "      <th>Address</th>\n",
              "      <th>Rooms</th>\n",
              "      <th>Type</th>\n",
              "      <th>Price</th>\n",
              "      <th>Method</th>\n",
              "      <th>SellerG</th>\n",
              "      <th>Date</th>\n",
              "      <th>Distance</th>\n",
              "      <th>Postcode</th>\n",
              "      <th>...</th>\n",
              "      <th>Bathroom</th>\n",
              "      <th>Car</th>\n",
              "      <th>Landsize</th>\n",
              "      <th>BuildingArea</th>\n",
              "      <th>YearBuilt</th>\n",
              "      <th>CouncilArea</th>\n",
              "      <th>Lattitude</th>\n",
              "      <th>Longtitude</th>\n",
              "      <th>Regionname</th>\n",
              "      <th>Propertycount</th>\n",
              "    </tr>\n",
              "  </thead>\n",
              "  <tbody>\n",
              "    <tr>\n",
              "      <th>0</th>\n",
              "      <td>Abbotsford</td>\n",
              "      <td>85 Turner St</td>\n",
              "      <td>2</td>\n",
              "      <td>h</td>\n",
              "      <td>1480000.0</td>\n",
              "      <td>S</td>\n",
              "      <td>Biggin</td>\n",
              "      <td>3/12/2016</td>\n",
              "      <td>2.5</td>\n",
              "      <td>3067.0</td>\n",
              "      <td>...</td>\n",
              "      <td>1.0</td>\n",
              "      <td>1.0</td>\n",
              "      <td>202.0</td>\n",
              "      <td>NaN</td>\n",
              "      <td>NaN</td>\n",
              "      <td>Yarra</td>\n",
              "      <td>-37.7996</td>\n",
              "      <td>144.9984</td>\n",
              "      <td>Northern Metropolitan</td>\n",
              "      <td>4019.0</td>\n",
              "    </tr>\n",
              "    <tr>\n",
              "      <th>1</th>\n",
              "      <td>Abbotsford</td>\n",
              "      <td>25 Bloomburg St</td>\n",
              "      <td>2</td>\n",
              "      <td>h</td>\n",
              "      <td>1035000.0</td>\n",
              "      <td>S</td>\n",
              "      <td>Biggin</td>\n",
              "      <td>4/02/2016</td>\n",
              "      <td>2.5</td>\n",
              "      <td>3067.0</td>\n",
              "      <td>...</td>\n",
              "      <td>1.0</td>\n",
              "      <td>0.0</td>\n",
              "      <td>156.0</td>\n",
              "      <td>79.0</td>\n",
              "      <td>1900.0</td>\n",
              "      <td>Yarra</td>\n",
              "      <td>-37.8079</td>\n",
              "      <td>144.9934</td>\n",
              "      <td>Northern Metropolitan</td>\n",
              "      <td>4019.0</td>\n",
              "    </tr>\n",
              "    <tr>\n",
              "      <th>2</th>\n",
              "      <td>Abbotsford</td>\n",
              "      <td>5 Charles St</td>\n",
              "      <td>3</td>\n",
              "      <td>h</td>\n",
              "      <td>1465000.0</td>\n",
              "      <td>SP</td>\n",
              "      <td>Biggin</td>\n",
              "      <td>4/03/2017</td>\n",
              "      <td>2.5</td>\n",
              "      <td>3067.0</td>\n",
              "      <td>...</td>\n",
              "      <td>2.0</td>\n",
              "      <td>0.0</td>\n",
              "      <td>134.0</td>\n",
              "      <td>150.0</td>\n",
              "      <td>1900.0</td>\n",
              "      <td>Yarra</td>\n",
              "      <td>-37.8093</td>\n",
              "      <td>144.9944</td>\n",
              "      <td>Northern Metropolitan</td>\n",
              "      <td>4019.0</td>\n",
              "    </tr>\n",
              "  </tbody>\n",
              "</table>\n",
              "<p>3 rows × 21 columns</p>\n",
              "</div>\n",
              "      <button class=\"colab-df-convert\" onclick=\"convertToInteractive('df-b3c7ec2e-dbb6-4851-8af3-4d9c421b24c3')\"\n",
              "              title=\"Convert this dataframe to an interactive table.\"\n",
              "              style=\"display:none;\">\n",
              "        \n",
              "  <svg xmlns=\"http://www.w3.org/2000/svg\" height=\"24px\"viewBox=\"0 0 24 24\"\n",
              "       width=\"24px\">\n",
              "    <path d=\"M0 0h24v24H0V0z\" fill=\"none\"/>\n",
              "    <path d=\"M18.56 5.44l.94 2.06.94-2.06 2.06-.94-2.06-.94-.94-2.06-.94 2.06-2.06.94zm-11 1L8.5 8.5l.94-2.06 2.06-.94-2.06-.94L8.5 2.5l-.94 2.06-2.06.94zm10 10l.94 2.06.94-2.06 2.06-.94-2.06-.94-.94-2.06-.94 2.06-2.06.94z\"/><path d=\"M17.41 7.96l-1.37-1.37c-.4-.4-.92-.59-1.43-.59-.52 0-1.04.2-1.43.59L10.3 9.45l-7.72 7.72c-.78.78-.78 2.05 0 2.83L4 21.41c.39.39.9.59 1.41.59.51 0 1.02-.2 1.41-.59l7.78-7.78 2.81-2.81c.8-.78.8-2.07 0-2.86zM5.41 20L4 18.59l7.72-7.72 1.47 1.35L5.41 20z\"/>\n",
              "  </svg>\n",
              "      </button>\n",
              "      \n",
              "  <style>\n",
              "    .colab-df-container {\n",
              "      display:flex;\n",
              "      flex-wrap:wrap;\n",
              "      gap: 12px;\n",
              "    }\n",
              "\n",
              "    .colab-df-convert {\n",
              "      background-color: #E8F0FE;\n",
              "      border: none;\n",
              "      border-radius: 50%;\n",
              "      cursor: pointer;\n",
              "      display: none;\n",
              "      fill: #1967D2;\n",
              "      height: 32px;\n",
              "      padding: 0 0 0 0;\n",
              "      width: 32px;\n",
              "    }\n",
              "\n",
              "    .colab-df-convert:hover {\n",
              "      background-color: #E2EBFA;\n",
              "      box-shadow: 0px 1px 2px rgba(60, 64, 67, 0.3), 0px 1px 3px 1px rgba(60, 64, 67, 0.15);\n",
              "      fill: #174EA6;\n",
              "    }\n",
              "\n",
              "    [theme=dark] .colab-df-convert {\n",
              "      background-color: #3B4455;\n",
              "      fill: #D2E3FC;\n",
              "    }\n",
              "\n",
              "    [theme=dark] .colab-df-convert:hover {\n",
              "      background-color: #434B5C;\n",
              "      box-shadow: 0px 1px 3px 1px rgba(0, 0, 0, 0.15);\n",
              "      filter: drop-shadow(0px 1px 2px rgba(0, 0, 0, 0.3));\n",
              "      fill: #FFFFFF;\n",
              "    }\n",
              "  </style>\n",
              "\n",
              "      <script>\n",
              "        const buttonEl =\n",
              "          document.querySelector('#df-b3c7ec2e-dbb6-4851-8af3-4d9c421b24c3 button.colab-df-convert');\n",
              "        buttonEl.style.display =\n",
              "          google.colab.kernel.accessAllowed ? 'block' : 'none';\n",
              "\n",
              "        async function convertToInteractive(key) {\n",
              "          const element = document.querySelector('#df-b3c7ec2e-dbb6-4851-8af3-4d9c421b24c3');\n",
              "          const dataTable =\n",
              "            await google.colab.kernel.invokeFunction('convertToInteractive',\n",
              "                                                     [key], {});\n",
              "          if (!dataTable) return;\n",
              "\n",
              "          const docLinkHtml = 'Like what you see? Visit the ' +\n",
              "            '<a target=\"_blank\" href=https://colab.research.google.com/notebooks/data_table.ipynb>data table notebook</a>'\n",
              "            + ' to learn more about interactive tables.';\n",
              "          element.innerHTML = '';\n",
              "          dataTable['output_type'] = 'display_data';\n",
              "          await google.colab.output.renderOutput(dataTable, element);\n",
              "          const docLink = document.createElement('div');\n",
              "          docLink.innerHTML = docLinkHtml;\n",
              "          element.appendChild(docLink);\n",
              "        }\n",
              "      </script>\n",
              "    </div>\n",
              "  </div>\n",
              "  "
            ],
            "text/plain": [
              "       Suburb          Address  Rooms Type      Price Method SellerG  \\\n",
              "0  Abbotsford     85 Turner St      2    h  1480000.0      S  Biggin   \n",
              "1  Abbotsford  25 Bloomburg St      2    h  1035000.0      S  Biggin   \n",
              "2  Abbotsford     5 Charles St      3    h  1465000.0     SP  Biggin   \n",
              "\n",
              "        Date  Distance  Postcode  ...  Bathroom  Car  Landsize  BuildingArea  \\\n",
              "0  3/12/2016       2.5    3067.0  ...       1.0  1.0     202.0           NaN   \n",
              "1  4/02/2016       2.5    3067.0  ...       1.0  0.0     156.0          79.0   \n",
              "2  4/03/2017       2.5    3067.0  ...       2.0  0.0     134.0         150.0   \n",
              "\n",
              "   YearBuilt  CouncilArea Lattitude  Longtitude             Regionname  \\\n",
              "0        NaN        Yarra  -37.7996    144.9984  Northern Metropolitan   \n",
              "1     1900.0        Yarra  -37.8079    144.9934  Northern Metropolitan   \n",
              "2     1900.0        Yarra  -37.8093    144.9944  Northern Metropolitan   \n",
              "\n",
              "  Propertycount  \n",
              "0        4019.0  \n",
              "1        4019.0  \n",
              "2        4019.0  \n",
              "\n",
              "[3 rows x 21 columns]"
            ]
          },
          "metadata": {},
          "execution_count": 5
        }
      ]
    },
    {
      "cell_type": "markdown",
      "metadata": {
        "id": "s-mixICN22kA"
      },
      "source": [
        "## Additional data\n",
        "\n",
        "We are going to augment the data present in the given set with a similar dataset: the AirBnB platform posts in Melbourne in the year 2018. The goal is to more accurately estimate the neighborhood value of each property.\n",
        "\n",
        "To do this, we'll use [a dataset](https://www.kaggle.com/tylerx/melbourne-airbnb-open-data?select=cleansed_listings_dec18.csv) of *scrapings* of the site by [Tyler Xie]( https://www.kaggle.com/tylerx), also available in a Kaggle competition."
      ]
    },
    {
      "cell_type": "code",
      "metadata": {
        "colab": {
          "base_uri": "https://localhost:8080/"
        },
        "id": "k3Z2vxNHJfJK",
        "outputId": "1a3ce7fc-0b0c-4504-9b19-1f0f89635f25"
      },
      "source": [
        "# data source:\n",
        "# https://www.kaggle.com/tylerx/melbourne-airbnb-open-data?select=cleansed_listings_dec18.csv\n",
        "interesting_cols = [\n",
        "  'description', 'neighborhood_overview',\n",
        "  'street', 'neighborhood', 'city', 'suburb', 'state', 'zipcode',\n",
        "  'price', 'weekly_price', 'monthly_price',\n",
        "  'latitude', 'longitude',\n",
        "]\n",
        "airbnb_df = pandas.read_csv(\n",
        "    'https://cs.famaf.unc.edu.ar/~mteruel/datasets/diplodatos/cleansed_listings_dec18.csv',\n",
        "    usecols=interesting_cols)"
      ],
      "execution_count": 6,
      "outputs": [
        {
          "output_type": "stream",
          "name": "stderr",
          "text": [
            "/usr/local/lib/python3.7/dist-packages/IPython/core/interactiveshell.py:2882: DtypeWarning: Columns (35) have mixed types.Specify dtype option on import or set low_memory=False.\n",
            "  exec(code_obj, self.user_global_ns, self.user_ns)\n"
          ]
        }
      ]
    },
    {
      "cell_type": "code",
      "metadata": {
        "colab": {
          "base_uri": "https://localhost:8080/",
          "height": 416
        },
        "id": "bc55TFlhF6tP",
        "outputId": "a690da0b-2e36-4767-ca7b-13e6de3fcb67"
      },
      "source": [
        "airbnb_df[:3]"
      ],
      "execution_count": 7,
      "outputs": [
        {
          "output_type": "execute_result",
          "data": {
            "text/html": [
              "\n",
              "  <div id=\"df-90b1da62-8323-4d35-a47e-3ebdbfdd93b7\">\n",
              "    <div class=\"colab-df-container\">\n",
              "      <div>\n",
              "<style scoped>\n",
              "    .dataframe tbody tr th:only-of-type {\n",
              "        vertical-align: middle;\n",
              "    }\n",
              "\n",
              "    .dataframe tbody tr th {\n",
              "        vertical-align: top;\n",
              "    }\n",
              "\n",
              "    .dataframe thead th {\n",
              "        text-align: right;\n",
              "    }\n",
              "</style>\n",
              "<table border=\"1\" class=\"dataframe\">\n",
              "  <thead>\n",
              "    <tr style=\"text-align: right;\">\n",
              "      <th></th>\n",
              "      <th>description</th>\n",
              "      <th>neighborhood_overview</th>\n",
              "      <th>street</th>\n",
              "      <th>neighborhood</th>\n",
              "      <th>city</th>\n",
              "      <th>suburb</th>\n",
              "      <th>state</th>\n",
              "      <th>zipcode</th>\n",
              "      <th>latitude</th>\n",
              "      <th>longitude</th>\n",
              "      <th>price</th>\n",
              "      <th>weekly_price</th>\n",
              "      <th>monthly_price</th>\n",
              "    </tr>\n",
              "  </thead>\n",
              "  <tbody>\n",
              "    <tr>\n",
              "      <th>0</th>\n",
              "      <td>House: Clean, New, Modern, Quite, Safe. 10Km f...</td>\n",
              "      <td>Very safe! Family oriented. Older age group.</td>\n",
              "      <td>Bulleen, VIC, Australia</td>\n",
              "      <td>Balwyn North</td>\n",
              "      <td>Manningham</td>\n",
              "      <td>Bulleen</td>\n",
              "      <td>VIC</td>\n",
              "      <td>3105</td>\n",
              "      <td>-37.772684</td>\n",
              "      <td>145.092133</td>\n",
              "      <td>60</td>\n",
              "      <td>NaN</td>\n",
              "      <td>NaN</td>\n",
              "    </tr>\n",
              "    <tr>\n",
              "      <th>1</th>\n",
              "      <td>A large air conditioned room with queen spring...</td>\n",
              "      <td>This hip area is a crossroads between two grea...</td>\n",
              "      <td>Brunswick East, VIC, Australia</td>\n",
              "      <td>Brunswick</td>\n",
              "      <td>Moreland</td>\n",
              "      <td>Brunswick East</td>\n",
              "      <td>VIC</td>\n",
              "      <td>3057</td>\n",
              "      <td>-37.766505</td>\n",
              "      <td>144.980736</td>\n",
              "      <td>35</td>\n",
              "      <td>200.0</td>\n",
              "      <td>803.0</td>\n",
              "    </tr>\n",
              "    <tr>\n",
              "      <th>2</th>\n",
              "      <td>RIGHT IN THE HEART OF ST KILDA! It doesn't get...</td>\n",
              "      <td>A stay at our apartment means you can enjoy so...</td>\n",
              "      <td>St Kilda, VIC, Australia</td>\n",
              "      <td>St Kilda</td>\n",
              "      <td>Port Phillip</td>\n",
              "      <td>St Kilda</td>\n",
              "      <td>VIC</td>\n",
              "      <td>3182</td>\n",
              "      <td>-37.859755</td>\n",
              "      <td>144.977369</td>\n",
              "      <td>159</td>\n",
              "      <td>1253.0</td>\n",
              "      <td>4452.0</td>\n",
              "    </tr>\n",
              "  </tbody>\n",
              "</table>\n",
              "</div>\n",
              "      <button class=\"colab-df-convert\" onclick=\"convertToInteractive('df-90b1da62-8323-4d35-a47e-3ebdbfdd93b7')\"\n",
              "              title=\"Convert this dataframe to an interactive table.\"\n",
              "              style=\"display:none;\">\n",
              "        \n",
              "  <svg xmlns=\"http://www.w3.org/2000/svg\" height=\"24px\"viewBox=\"0 0 24 24\"\n",
              "       width=\"24px\">\n",
              "    <path d=\"M0 0h24v24H0V0z\" fill=\"none\"/>\n",
              "    <path d=\"M18.56 5.44l.94 2.06.94-2.06 2.06-.94-2.06-.94-.94-2.06-.94 2.06-2.06.94zm-11 1L8.5 8.5l.94-2.06 2.06-.94-2.06-.94L8.5 2.5l-.94 2.06-2.06.94zm10 10l.94 2.06.94-2.06 2.06-.94-2.06-.94-.94-2.06-.94 2.06-2.06.94z\"/><path d=\"M17.41 7.96l-1.37-1.37c-.4-.4-.92-.59-1.43-.59-.52 0-1.04.2-1.43.59L10.3 9.45l-7.72 7.72c-.78.78-.78 2.05 0 2.83L4 21.41c.39.39.9.59 1.41.59.51 0 1.02-.2 1.41-.59l7.78-7.78 2.81-2.81c.8-.78.8-2.07 0-2.86zM5.41 20L4 18.59l7.72-7.72 1.47 1.35L5.41 20z\"/>\n",
              "  </svg>\n",
              "      </button>\n",
              "      \n",
              "  <style>\n",
              "    .colab-df-container {\n",
              "      display:flex;\n",
              "      flex-wrap:wrap;\n",
              "      gap: 12px;\n",
              "    }\n",
              "\n",
              "    .colab-df-convert {\n",
              "      background-color: #E8F0FE;\n",
              "      border: none;\n",
              "      border-radius: 50%;\n",
              "      cursor: pointer;\n",
              "      display: none;\n",
              "      fill: #1967D2;\n",
              "      height: 32px;\n",
              "      padding: 0 0 0 0;\n",
              "      width: 32px;\n",
              "    }\n",
              "\n",
              "    .colab-df-convert:hover {\n",
              "      background-color: #E2EBFA;\n",
              "      box-shadow: 0px 1px 2px rgba(60, 64, 67, 0.3), 0px 1px 3px 1px rgba(60, 64, 67, 0.15);\n",
              "      fill: #174EA6;\n",
              "    }\n",
              "\n",
              "    [theme=dark] .colab-df-convert {\n",
              "      background-color: #3B4455;\n",
              "      fill: #D2E3FC;\n",
              "    }\n",
              "\n",
              "    [theme=dark] .colab-df-convert:hover {\n",
              "      background-color: #434B5C;\n",
              "      box-shadow: 0px 1px 3px 1px rgba(0, 0, 0, 0.15);\n",
              "      filter: drop-shadow(0px 1px 2px rgba(0, 0, 0, 0.3));\n",
              "      fill: #FFFFFF;\n",
              "    }\n",
              "  </style>\n",
              "\n",
              "      <script>\n",
              "        const buttonEl =\n",
              "          document.querySelector('#df-90b1da62-8323-4d35-a47e-3ebdbfdd93b7 button.colab-df-convert');\n",
              "        buttonEl.style.display =\n",
              "          google.colab.kernel.accessAllowed ? 'block' : 'none';\n",
              "\n",
              "        async function convertToInteractive(key) {\n",
              "          const element = document.querySelector('#df-90b1da62-8323-4d35-a47e-3ebdbfdd93b7');\n",
              "          const dataTable =\n",
              "            await google.colab.kernel.invokeFunction('convertToInteractive',\n",
              "                                                     [key], {});\n",
              "          if (!dataTable) return;\n",
              "\n",
              "          const docLinkHtml = 'Like what you see? Visit the ' +\n",
              "            '<a target=\"_blank\" href=https://colab.research.google.com/notebooks/data_table.ipynb>data table notebook</a>'\n",
              "            + ' to learn more about interactive tables.';\n",
              "          element.innerHTML = '';\n",
              "          dataTable['output_type'] = 'display_data';\n",
              "          await google.colab.output.renderOutput(dataTable, element);\n",
              "          const docLink = document.createElement('div');\n",
              "          docLink.innerHTML = docLinkHtml;\n",
              "          element.appendChild(docLink);\n",
              "        }\n",
              "      </script>\n",
              "    </div>\n",
              "  </div>\n",
              "  "
            ],
            "text/plain": [
              "                                         description  \\\n",
              "0  House: Clean, New, Modern, Quite, Safe. 10Km f...   \n",
              "1  A large air conditioned room with queen spring...   \n",
              "2  RIGHT IN THE HEART OF ST KILDA! It doesn't get...   \n",
              "\n",
              "                               neighborhood_overview  \\\n",
              "0       Very safe! Family oriented. Older age group.   \n",
              "1  This hip area is a crossroads between two grea...   \n",
              "2  A stay at our apartment means you can enjoy so...   \n",
              "\n",
              "                           street  neighborhood          city          suburb  \\\n",
              "0         Bulleen, VIC, Australia  Balwyn North    Manningham         Bulleen   \n",
              "1  Brunswick East, VIC, Australia     Brunswick      Moreland  Brunswick East   \n",
              "2        St Kilda, VIC, Australia      St Kilda  Port Phillip        St Kilda   \n",
              "\n",
              "  state zipcode   latitude   longitude  price  weekly_price  monthly_price  \n",
              "0   VIC    3105 -37.772684  145.092133     60           NaN            NaN  \n",
              "1   VIC    3057 -37.766505  144.980736     35         200.0          803.0  \n",
              "2   VIC    3182 -37.859755  144.977369    159        1253.0         4452.0  "
            ]
          },
          "metadata": {},
          "execution_count": 7
        }
      ]
    },
    {
      "cell_type": "code",
      "metadata": {
        "colab": {
          "base_uri": "https://localhost:8080/"
        },
        "id": "kdqexZvsJTcT",
        "outputId": "f177af8f-ef75-4376-f75b-5be29e059824"
      },
      "source": [
        "len(airbnb_df)"
      ],
      "execution_count": 8,
      "outputs": [
        {
          "output_type": "execute_result",
          "data": {
            "text/plain": [
              "22895"
            ]
          },
          "metadata": {},
          "execution_count": 8
        }
      ]
    },
    {
      "cell_type": "markdown",
      "metadata": {
        "id": "ismngxPcfoWb"
      },
      "source": [
        "In order to perform this combination of data, we have to find a column that contains information in common. We will use the zipcode.\n",
        "\n",
        "* What are the disadvantages of using the zipcode to add information about the neighborhood of each property for sale? Does it correspond to what we intuitively understand as neighborhood?\n",
        "* What other methods could be used?"
      ]
    },
    {
      "cell_type": "code",
      "metadata": {
        "colab": {
          "base_uri": "https://localhost:8080/"
        },
        "id": "dTss9P-PgGOi",
        "outputId": "159f7c35-105c-4448-8dc2-2d4a850d54c4"
      },
      "source": [
        "airbnb_df.zipcode.value_counts()[:5]"
      ],
      "execution_count": 9,
      "outputs": [
        {
          "output_type": "execute_result",
          "data": {
            "text/plain": [
              "3000.0    2491\n",
              "3000       876\n",
              "3006.0     860\n",
              "3182.0     579\n",
              "3182       556\n",
              "Name: zipcode, dtype: int64"
            ]
          },
          "metadata": {},
          "execution_count": 9
        }
      ]
    },
    {
      "cell_type": "markdown",
      "metadata": {
        "id": "kAMLtgh6gNQN"
      },
      "source": [
        "However, this zipcode has different types, which we will need to standardize before proceeding with merging the data."
      ]
    },
    {
      "cell_type": "code",
      "metadata": {
        "id": "xbDm0-VwQd97"
      },
      "source": [
        "airbnb_df['zipcode'] = pandas.to_numeric(airbnb_df.zipcode, errors='coerce')"
      ],
      "execution_count": 10,
      "outputs": []
    },
    {
      "cell_type": "markdown",
      "metadata": {
        "id": "JOahRB4qggBA"
      },
      "source": [
        "### Common values\n",
        "\n",
        "Before joining the data sets, we need to make sure we have enough records in common to aggregate relevant information."
      ]
    },
    {
      "cell_type": "code",
      "metadata": {
        "colab": {
          "base_uri": "https://localhost:8080/"
        },
        "id": "2Gxz99YJJSCk",
        "outputId": "5fb9f706-90cc-4963-a9d1-011e73d23e74"
      },
      "source": [
        "intersection = numpy.intersect1d(\n",
        "    airbnb_df.zipcode.values, melb_df.Postcode.values, assume_unique=False)\n",
        "print(\"Airbnb unique zipcodes\", len(airbnb_df.zipcode.unique()))\n",
        "print(\"Sales unique zipcodes\", len(melb_df.Postcode.unique()))\n",
        "print(\"Common zipcodes\", len(intersection))"
      ],
      "execution_count": 11,
      "outputs": [
        {
          "output_type": "stream",
          "name": "stdout",
          "text": [
            "Airbnb unique zipcodes 248\n",
            "Sales unique zipcodes 198\n",
            "Common zipcodes 191\n"
          ]
        }
      ]
    },
    {
      "cell_type": "code",
      "metadata": {
        "colab": {
          "base_uri": "https://localhost:8080/"
        },
        "id": "AB41oWdhLKJU",
        "outputId": "c6903c4c-e167-4837-cfaa-25800f4391e0"
      },
      "source": [
        "print('Records in Sales df with corresponding zipcode form Airbnb df',\n",
        "      melb_df.Postcode.isin(intersection).sum() / len(melb_df))\n",
        "print('Records in Airbnb df with corresponding zipcode form Sales df',\n",
        "      airbnb_df.zipcode.isin(intersection).sum() / len(airbnb_df))"
      ],
      "execution_count": 12,
      "outputs": [
        {
          "output_type": "stream",
          "name": "stdout",
          "text": [
            "Records in Sales df with corresponding zipcode form Airbnb df 0.9985272459499264\n",
            "Records in Airbnb df with corresponding zipcode form Sales df 0.9302904564315353\n"
          ]
        }
      ]
    },
    {
      "cell_type": "markdown",
      "metadata": {
        "id": "bwvm0M48OdF6"
      },
      "source": [
        "### Visual Exploration\n",
        "\n",
        "To finish making sure that the areas represented by both datasets are consistent, we can plot the coordinates on a map using Plotly.\n",
        "\n",
        "Although these visualizations are not complete in terms of the geographical information they show, we can roughly see that they are similar areas."
      ]
    },
    {
      "cell_type": "code",
      "metadata": {
        "colab": {
          "base_uri": "https://localhost:8080/",
          "height": 542
        },
        "id": "J5P1Tu8UE5Zm",
        "outputId": "51677a82-2ff3-4564-9fec-f43c6e57f1cb"
      },
      "source": [
        "import plotly.express as px\n",
        "data = melb_df.sample(300)\n",
        "fig = px.scatter_geo(\n",
        "    data, lat=data.Lattitude, lon=data.Longtitude, color=data.YearBuilt\n",
        "    )\n",
        "fig.update_geos(fitbounds=\"locations\")\n",
        "fig.show()"
      ],
      "execution_count": 13,
      "outputs": [
        {
          "output_type": "display_data",
          "data": {
            "text/html": [
              "<html>\n",
              "<head><meta charset=\"utf-8\" /></head>\n",
              "<body>\n",
              "    <div>            <script src=\"https://cdnjs.cloudflare.com/ajax/libs/mathjax/2.7.5/MathJax.js?config=TeX-AMS-MML_SVG\"></script><script type=\"text/javascript\">if (window.MathJax) {MathJax.Hub.Config({SVG: {font: \"STIX-Web\"}});}</script>                <script type=\"text/javascript\">window.PlotlyConfig = {MathJaxConfig: 'local'};</script>\n",
              "        <script src=\"https://cdn.plot.ly/plotly-2.8.3.min.js\"></script>                <div id=\"572a0897-80ab-405a-afca-d3a9e77acd63\" class=\"plotly-graph-div\" style=\"height:525px; width:100%;\"></div>            <script type=\"text/javascript\">                                    window.PLOTLYENV=window.PLOTLYENV || {};                                    if (document.getElementById(\"572a0897-80ab-405a-afca-d3a9e77acd63\")) {                    Plotly.newPlot(                        \"572a0897-80ab-405a-afca-d3a9e77acd63\",                        [{\"geo\":\"geo\",\"hovertemplate\":\"Lattitude=%{lat}<br>Longtitude=%{lon}<br>YearBuilt=%{marker.color}<extra></extra>\",\"lat\":[-37.6983,-37.69705,-37.8235,-37.62273,-37.7707,-37.8357,-37.7253,-37.77,-37.8717,-37.7676,-37.7614,-37.8002,-37.7989,-37.8314,-37.8962,-37.7507,-37.725,-37.9125,-37.863,-37.8643,-37.8037,-37.7964,-37.8902,-37.86127000000001,-37.70912,-37.8264,-37.73569000000001,-37.7623,-37.7974,-37.89976,-37.69031,-37.8407,-37.8036,-37.49674,-37.9065,-37.72456,-37.72282,-37.7202,-37.77655,-37.79773,-37.88014,-37.7912,-37.97732,-37.8956,-37.7524,-37.79759,-37.7956,-37.832,-38.13673,-37.7882,-37.88093,-38.00477,-37.89989,-37.7283,-37.75506,-37.75569,-37.7701,-37.7608,-37.7146,-38.01909000000001,-37.764,-37.7844,-37.95188,-37.7638,-37.8655,-37.6204,-37.76343,-37.70671,-37.86838,-37.7887,-37.90217,-37.73321,-37.87711,-37.7501,-37.90779000000001,-37.8521,-37.8552,-37.8245,-37.8126,-37.7835,-37.7348,-37.80728,-37.7392,-37.8284,-37.82004000000001,-37.82277,-37.8672,-37.65972,-37.7929,-37.7577,-37.7953,-37.8685,-37.7546,-37.7976,-37.72777,-37.8368,-37.88863,-37.8653,-37.7769,-37.8377,-37.8582,-37.7967,-37.95698,-37.7543,-37.64343,-37.7367,-37.7778,-37.7824,-37.80795,-37.91017,-37.86715,-37.7798,-37.8223,-37.85553,-37.8953,-37.8486,-37.7597,-37.7317,-37.6967,-37.7117,-37.7476,-37.8639,-37.7432,-37.8315,-37.8037,-37.9208,-37.6949,-37.7333,-37.97223,-37.8592,-37.7385,-37.85925,-37.9265,-37.8288,-37.57005,-37.75746,-37.7966,-37.7597,-37.7717,-37.9205,-37.73915,-37.95882,-37.8454,-37.8149,-37.738,-37.8198,-37.8837,-37.7311,-37.7608,-37.82876,-37.8204,-37.77493,-38.16121,-37.7827,-37.8284,-38.09088,-37.7294,-37.80894,-37.92594,-37.86954,-37.81113,-37.8291,-37.7295,-37.96171,-37.7896,-37.7756,-37.7767,-37.7551,-37.9228,-37.7744,-37.7416,-37.8439,-37.9017,-37.73244,-37.7732,-37.7634,-37.90248,-37.7912,-37.78457,-37.82017000000001,-37.8035,-37.7903,-37.8292,-37.8127,-37.79131,-37.7582,-37.7298,-37.7741,-37.90688,-37.84157,-37.7981,-37.7554,-37.8377,-37.986,-37.7677,-37.92769000000001,-37.762,-37.81396,-37.97363,-37.78714,-37.7913,-37.8364,-37.8389,-37.7688,-37.8722,-37.7034,-37.70602,-37.90188,-37.8424,-37.7481,-37.8406,-37.7911,-37.70255,-37.7071,-37.7473,-37.76306,-37.8937,-37.8382,-37.69423,-37.7459,-37.7542,-37.7325,-37.8438,-37.802,-37.7988,-37.70717,-37.81284,-37.7794,-37.84517,-37.93206,-37.7442,-37.82653,-37.89542,-37.8649,-37.8225,-37.7977,-37.747,-37.66986,-37.8127,-37.7302,-37.77973,-37.7191,-38.10687,-37.69104,-37.7924,-37.7961,-37.75637,-37.7671,-37.8226,-37.9442,-37.8801,-37.7376,-37.8502,-37.81351,-37.9452,-37.8128,-37.7676,-37.9284,-37.7359,-37.7981,-37.7993,-37.71499,-37.88551,-37.7234,-37.81,-37.8,-37.9143,-37.84471,-37.7622,-37.8071,-37.75642,-37.75122,-37.84,-37.7565,-37.7778,-37.9386,-37.857,-37.7412,-37.7659,-37.8191,-37.8723,-37.73597,-37.88919,-37.79438,-37.82127,-37.8371,-37.8811,-37.92542,-37.82742,-37.7397,-37.92364,-37.72484,-37.7214,-37.9429,-37.9205,-38.03147,-37.86639,-38.16146,-37.7609,-37.8493],\"legendgroup\":\"\",\"lon\":[144.9941,144.94218999999995,144.9655,144.92567,144.8924,144.991,144.938,144.9633,145.0403,144.9009,145.0118,145.0999,144.9275,144.9877,145.0011,144.9921,144.8586,145.11844,144.9747,144.9043,144.8874,144.9839,144.9907,145.14271000000005,145.05181000000005,145.02700000000004,145.05913,144.9211,144.9261,145.04215,145.14557,144.9424,145.0545,144.62618,145.0461,145.02292,144.85681,144.8797,144.96325,145.15141,144.99347,144.9318,145.04388,145.0026,144.9912,145.16422,144.8848,145.0431,145.21616,145.0882,145.10574,145.10078,145.00883000000005,145.0207,145.01841000000005,144.95186,144.9172,144.863,145.001,145.1125,145.1145,144.8876,145.05369,145.0182,145.1096,144.71138,145.02096,145.03086000000005,145.14664,145.1438,144.99337,144.75752,144.68825,145.0822,145.15042,145.0763,145.0785,145.0527,145.0064,145.0883,145.0656,144.86702,145.0163,144.9989,144.87174,145.0581,145.0432,145.159,144.8462,144.9354,145.0712,144.9058,144.857,144.9213,144.9339,144.8768,145.23435,145.0897,144.9706,145.0541,145.0715,144.9472,145.0166,144.9717,144.91193,144.9899,144.9131,144.9243,145.01474,145.11488,144.80612,144.8872,145.0954,145.12305,145.0567,145.0244,144.9545,145.0083,144.9116,144.75204,144.9842,145.0968,144.8816,145.0559,144.8893,144.9996,144.9122,144.9384,145.07895,145.0054,145.0387,144.88761,145.19758000000004,144.9679,144.91908999999995,144.95633,144.7928,144.9528,144.9679,145.0122,144.80289,145.02138,145.0971,145.11,145.0064,144.9979,145.106,144.8663,144.968,145.13808999999995,145.0489,145.12547,145.10381,144.9999,144.8355,145.12933999999996,144.888,145.05853000000005,145.03184,145.16429,145.17681000000005,144.9952,144.8644,145.20122,144.8018,144.9208,144.9924,145.05,145.0476,144.9035,144.9582,144.8715,145.0739,144.75669,144.951,144.9593,145.187,144.868,145.10453,144.84904,144.985,144.8879,145.046,145.0094,145.07861,144.94,144.8883,144.8354,145.02827,144.98935,145.0423,145.0211,144.9894,145.12035,144.8925,145.16792,144.9647,145.01899,145.02302,144.97966,144.9323,144.8769,144.8779,144.9054,145.067,144.9886,145.05945,144.65138000000005,144.8653,145.0017,144.9864,144.89,145.08578,145.0108,144.8905,144.92851000000005,145.0137,144.8649,144.88002,144.9773,145.01,144.8621,145.066,144.9848,144.97,145.02643,144.89158999999995,144.8347,144.98727,145.07929,145.0528,145.20261000000005,145.10055,144.89524,144.8814,144.9512,145.0389,145.02048,145.107,144.9357,145.16473,144.8857,145.2811,144.54532,144.8523,144.9261,144.77983,145.0176,144.9667,145.0016,145.0874,144.9638,145.0418,144.96908,145.0113,144.8953,144.9665,145.0668,145.0563,145.0904,144.8794,145.02966999999995,145.17559,145.0266,144.8896,144.9542,145.0629,144.86594,144.9406,144.88912,144.98755,144.91805,144.939,145.0506,144.9261,145.0585,145.0027,144.8888,145.0392,144.9977,145.0387,145.03916,145.21629,145.03368999999995,145.02238,144.939,144.9797,145.10622,145.05324,144.898,145.01118,144.74296,145.1034,145.0474,145.0528,145.31126,144.82625,145.12997,144.8639,145.0134],\"marker\":{\"color\":[1965.0,2011.0,null,1999.0,1950.0,null,1950.0,null,null,null,2011.0,1950.0,1887.0,1940.0,1910.0,1920.0,1975.0,1960.0,1967.0,null,1910.0,null,1965.0,1970.0,1995.0,null,null,null,2010.0,1960.0,1985.0,1890.0,null,1985.0,1920.0,null,1975.0,null,1900.0,2006.0,1900.0,2011.0,null,1920.0,null,null,1920.0,1960.0,null,null,1980.0,null,null,2004.0,1960.0,null,1900.0,1995.0,1965.0,null,1985.0,1925.0,null,1950.0,2012.0,null,2000.0,1985.0,null,1975.0,2015.0,2007.0,null,2017.0,1970.0,null,null,1970.0,1915.0,1974.0,1940.0,1970.0,1950.0,1920.0,null,null,null,2012.0,null,1960.0,1970.0,1990.0,null,2002.0,1970.0,2000.0,1975.0,1945.0,2012.0,null,2000.0,null,1980.0,null,1992.0,1955.0,1920.0,2002.0,2006.0,2013.0,1960.0,null,null,null,2010.0,2000.0,1900.0,1996.0,1950.0,2011.0,1950.0,null,null,null,null,1995.0,2000.0,null,1970.0,1970.0,null,null,1996.0,null,2009.0,1996.0,1995.0,null,null,1960.0,2000.0,1925.0,1965.0,null,1930.0,null,null,1965.0,1970.0,1960.0,1990.0,1970.0,1890.0,null,1967.0,null,1950.0,null,2012.0,null,1970.0,null,1960.0,1960.0,null,1900.0,null,1950.0,null,2013.0,1915.0,null,2005.0,2007.0,1960.0,1890.0,null,1960.0,null,2010.0,1900.0,1900.0,null,2012.0,null,2013.0,2013.0,null,null,1960.0,1941.0,1935.0,1880.0,1980.0,2009.0,1965.0,1970.0,null,null,1900.0,1997.0,null,null,2009.0,1948.0,null,1960.0,1970.0,null,1925.0,null,2007.0,null,2007.0,null,null,2003.0,1950.0,1970.0,1920.0,1970.0,2010.0,1970.0,2000.0,null,null,1948.0,null,1900.0,null,null,2005.0,1960.0,null,2000.0,1930.0,1965.0,null,1920.0,null,null,1960.0,null,2010.0,1960.0,2012.0,null,2015.0,2010.0,null,1965.0,null,null,1950.0,null,1975.0,1905.0,1950.0,null,2006.0,1970.0,null,1960.0,null,1900.0,2003.0,null,2005.0,1950.0,1910.0,1960.0,1965.0,2012.0,1950.0,null,null,1945.0,null,2000.0,null,1915.0,null,null,1995.0,null,1990.0,1930.0,null,1960.0,1997.0,1950.0,2005.0,1978.0,1990.0,1970.0,null,null,1960.0,1992.0,null],\"coloraxis\":\"coloraxis\",\"symbol\":\"circle\"},\"mode\":\"markers\",\"name\":\"\",\"showlegend\":false,\"type\":\"scattergeo\"}],                        {\"template\":{\"data\":{\"bar\":[{\"error_x\":{\"color\":\"#2a3f5f\"},\"error_y\":{\"color\":\"#2a3f5f\"},\"marker\":{\"line\":{\"color\":\"#E5ECF6\",\"width\":0.5},\"pattern\":{\"fillmode\":\"overlay\",\"size\":10,\"solidity\":0.2}},\"type\":\"bar\"}],\"barpolar\":[{\"marker\":{\"line\":{\"color\":\"#E5ECF6\",\"width\":0.5},\"pattern\":{\"fillmode\":\"overlay\",\"size\":10,\"solidity\":0.2}},\"type\":\"barpolar\"}],\"carpet\":[{\"aaxis\":{\"endlinecolor\":\"#2a3f5f\",\"gridcolor\":\"white\",\"linecolor\":\"white\",\"minorgridcolor\":\"white\",\"startlinecolor\":\"#2a3f5f\"},\"baxis\":{\"endlinecolor\":\"#2a3f5f\",\"gridcolor\":\"white\",\"linecolor\":\"white\",\"minorgridcolor\":\"white\",\"startlinecolor\":\"#2a3f5f\"},\"type\":\"carpet\"}],\"choropleth\":[{\"colorbar\":{\"outlinewidth\":0,\"ticks\":\"\"},\"type\":\"choropleth\"}],\"contour\":[{\"colorbar\":{\"outlinewidth\":0,\"ticks\":\"\"},\"colorscale\":[[0.0,\"#0d0887\"],[0.1111111111111111,\"#46039f\"],[0.2222222222222222,\"#7201a8\"],[0.3333333333333333,\"#9c179e\"],[0.4444444444444444,\"#bd3786\"],[0.5555555555555556,\"#d8576b\"],[0.6666666666666666,\"#ed7953\"],[0.7777777777777778,\"#fb9f3a\"],[0.8888888888888888,\"#fdca26\"],[1.0,\"#f0f921\"]],\"type\":\"contour\"}],\"contourcarpet\":[{\"colorbar\":{\"outlinewidth\":0,\"ticks\":\"\"},\"type\":\"contourcarpet\"}],\"heatmap\":[{\"colorbar\":{\"outlinewidth\":0,\"ticks\":\"\"},\"colorscale\":[[0.0,\"#0d0887\"],[0.1111111111111111,\"#46039f\"],[0.2222222222222222,\"#7201a8\"],[0.3333333333333333,\"#9c179e\"],[0.4444444444444444,\"#bd3786\"],[0.5555555555555556,\"#d8576b\"],[0.6666666666666666,\"#ed7953\"],[0.7777777777777778,\"#fb9f3a\"],[0.8888888888888888,\"#fdca26\"],[1.0,\"#f0f921\"]],\"type\":\"heatmap\"}],\"heatmapgl\":[{\"colorbar\":{\"outlinewidth\":0,\"ticks\":\"\"},\"colorscale\":[[0.0,\"#0d0887\"],[0.1111111111111111,\"#46039f\"],[0.2222222222222222,\"#7201a8\"],[0.3333333333333333,\"#9c179e\"],[0.4444444444444444,\"#bd3786\"],[0.5555555555555556,\"#d8576b\"],[0.6666666666666666,\"#ed7953\"],[0.7777777777777778,\"#fb9f3a\"],[0.8888888888888888,\"#fdca26\"],[1.0,\"#f0f921\"]],\"type\":\"heatmapgl\"}],\"histogram\":[{\"marker\":{\"pattern\":{\"fillmode\":\"overlay\",\"size\":10,\"solidity\":0.2}},\"type\":\"histogram\"}],\"histogram2d\":[{\"colorbar\":{\"outlinewidth\":0,\"ticks\":\"\"},\"colorscale\":[[0.0,\"#0d0887\"],[0.1111111111111111,\"#46039f\"],[0.2222222222222222,\"#7201a8\"],[0.3333333333333333,\"#9c179e\"],[0.4444444444444444,\"#bd3786\"],[0.5555555555555556,\"#d8576b\"],[0.6666666666666666,\"#ed7953\"],[0.7777777777777778,\"#fb9f3a\"],[0.8888888888888888,\"#fdca26\"],[1.0,\"#f0f921\"]],\"type\":\"histogram2d\"}],\"histogram2dcontour\":[{\"colorbar\":{\"outlinewidth\":0,\"ticks\":\"\"},\"colorscale\":[[0.0,\"#0d0887\"],[0.1111111111111111,\"#46039f\"],[0.2222222222222222,\"#7201a8\"],[0.3333333333333333,\"#9c179e\"],[0.4444444444444444,\"#bd3786\"],[0.5555555555555556,\"#d8576b\"],[0.6666666666666666,\"#ed7953\"],[0.7777777777777778,\"#fb9f3a\"],[0.8888888888888888,\"#fdca26\"],[1.0,\"#f0f921\"]],\"type\":\"histogram2dcontour\"}],\"mesh3d\":[{\"colorbar\":{\"outlinewidth\":0,\"ticks\":\"\"},\"type\":\"mesh3d\"}],\"parcoords\":[{\"line\":{\"colorbar\":{\"outlinewidth\":0,\"ticks\":\"\"}},\"type\":\"parcoords\"}],\"pie\":[{\"automargin\":true,\"type\":\"pie\"}],\"scatter\":[{\"marker\":{\"colorbar\":{\"outlinewidth\":0,\"ticks\":\"\"}},\"type\":\"scatter\"}],\"scatter3d\":[{\"line\":{\"colorbar\":{\"outlinewidth\":0,\"ticks\":\"\"}},\"marker\":{\"colorbar\":{\"outlinewidth\":0,\"ticks\":\"\"}},\"type\":\"scatter3d\"}],\"scattercarpet\":[{\"marker\":{\"colorbar\":{\"outlinewidth\":0,\"ticks\":\"\"}},\"type\":\"scattercarpet\"}],\"scattergeo\":[{\"marker\":{\"colorbar\":{\"outlinewidth\":0,\"ticks\":\"\"}},\"type\":\"scattergeo\"}],\"scattergl\":[{\"marker\":{\"colorbar\":{\"outlinewidth\":0,\"ticks\":\"\"}},\"type\":\"scattergl\"}],\"scattermapbox\":[{\"marker\":{\"colorbar\":{\"outlinewidth\":0,\"ticks\":\"\"}},\"type\":\"scattermapbox\"}],\"scatterpolar\":[{\"marker\":{\"colorbar\":{\"outlinewidth\":0,\"ticks\":\"\"}},\"type\":\"scatterpolar\"}],\"scatterpolargl\":[{\"marker\":{\"colorbar\":{\"outlinewidth\":0,\"ticks\":\"\"}},\"type\":\"scatterpolargl\"}],\"scatterternary\":[{\"marker\":{\"colorbar\":{\"outlinewidth\":0,\"ticks\":\"\"}},\"type\":\"scatterternary\"}],\"surface\":[{\"colorbar\":{\"outlinewidth\":0,\"ticks\":\"\"},\"colorscale\":[[0.0,\"#0d0887\"],[0.1111111111111111,\"#46039f\"],[0.2222222222222222,\"#7201a8\"],[0.3333333333333333,\"#9c179e\"],[0.4444444444444444,\"#bd3786\"],[0.5555555555555556,\"#d8576b\"],[0.6666666666666666,\"#ed7953\"],[0.7777777777777778,\"#fb9f3a\"],[0.8888888888888888,\"#fdca26\"],[1.0,\"#f0f921\"]],\"type\":\"surface\"}],\"table\":[{\"cells\":{\"fill\":{\"color\":\"#EBF0F8\"},\"line\":{\"color\":\"white\"}},\"header\":{\"fill\":{\"color\":\"#C8D4E3\"},\"line\":{\"color\":\"white\"}},\"type\":\"table\"}]},\"layout\":{\"annotationdefaults\":{\"arrowcolor\":\"#2a3f5f\",\"arrowhead\":0,\"arrowwidth\":1},\"autotypenumbers\":\"strict\",\"coloraxis\":{\"colorbar\":{\"outlinewidth\":0,\"ticks\":\"\"}},\"colorscale\":{\"diverging\":[[0,\"#8e0152\"],[0.1,\"#c51b7d\"],[0.2,\"#de77ae\"],[0.3,\"#f1b6da\"],[0.4,\"#fde0ef\"],[0.5,\"#f7f7f7\"],[0.6,\"#e6f5d0\"],[0.7,\"#b8e186\"],[0.8,\"#7fbc41\"],[0.9,\"#4d9221\"],[1,\"#276419\"]],\"sequential\":[[0.0,\"#0d0887\"],[0.1111111111111111,\"#46039f\"],[0.2222222222222222,\"#7201a8\"],[0.3333333333333333,\"#9c179e\"],[0.4444444444444444,\"#bd3786\"],[0.5555555555555556,\"#d8576b\"],[0.6666666666666666,\"#ed7953\"],[0.7777777777777778,\"#fb9f3a\"],[0.8888888888888888,\"#fdca26\"],[1.0,\"#f0f921\"]],\"sequentialminus\":[[0.0,\"#0d0887\"],[0.1111111111111111,\"#46039f\"],[0.2222222222222222,\"#7201a8\"],[0.3333333333333333,\"#9c179e\"],[0.4444444444444444,\"#bd3786\"],[0.5555555555555556,\"#d8576b\"],[0.6666666666666666,\"#ed7953\"],[0.7777777777777778,\"#fb9f3a\"],[0.8888888888888888,\"#fdca26\"],[1.0,\"#f0f921\"]]},\"colorway\":[\"#636efa\",\"#EF553B\",\"#00cc96\",\"#ab63fa\",\"#FFA15A\",\"#19d3f3\",\"#FF6692\",\"#B6E880\",\"#FF97FF\",\"#FECB52\"],\"font\":{\"color\":\"#2a3f5f\"},\"geo\":{\"bgcolor\":\"white\",\"lakecolor\":\"white\",\"landcolor\":\"#E5ECF6\",\"showlakes\":true,\"showland\":true,\"subunitcolor\":\"white\"},\"hoverlabel\":{\"align\":\"left\"},\"hovermode\":\"closest\",\"mapbox\":{\"style\":\"light\"},\"paper_bgcolor\":\"white\",\"plot_bgcolor\":\"#E5ECF6\",\"polar\":{\"angularaxis\":{\"gridcolor\":\"white\",\"linecolor\":\"white\",\"ticks\":\"\"},\"bgcolor\":\"#E5ECF6\",\"radialaxis\":{\"gridcolor\":\"white\",\"linecolor\":\"white\",\"ticks\":\"\"}},\"scene\":{\"xaxis\":{\"backgroundcolor\":\"#E5ECF6\",\"gridcolor\":\"white\",\"gridwidth\":2,\"linecolor\":\"white\",\"showbackground\":true,\"ticks\":\"\",\"zerolinecolor\":\"white\"},\"yaxis\":{\"backgroundcolor\":\"#E5ECF6\",\"gridcolor\":\"white\",\"gridwidth\":2,\"linecolor\":\"white\",\"showbackground\":true,\"ticks\":\"\",\"zerolinecolor\":\"white\"},\"zaxis\":{\"backgroundcolor\":\"#E5ECF6\",\"gridcolor\":\"white\",\"gridwidth\":2,\"linecolor\":\"white\",\"showbackground\":true,\"ticks\":\"\",\"zerolinecolor\":\"white\"}},\"shapedefaults\":{\"line\":{\"color\":\"#2a3f5f\"}},\"ternary\":{\"aaxis\":{\"gridcolor\":\"white\",\"linecolor\":\"white\",\"ticks\":\"\"},\"baxis\":{\"gridcolor\":\"white\",\"linecolor\":\"white\",\"ticks\":\"\"},\"bgcolor\":\"#E5ECF6\",\"caxis\":{\"gridcolor\":\"white\",\"linecolor\":\"white\",\"ticks\":\"\"}},\"title\":{\"x\":0.05},\"xaxis\":{\"automargin\":true,\"gridcolor\":\"white\",\"linecolor\":\"white\",\"ticks\":\"\",\"title\":{\"standoff\":15},\"zerolinecolor\":\"white\",\"zerolinewidth\":2},\"yaxis\":{\"automargin\":true,\"gridcolor\":\"white\",\"linecolor\":\"white\",\"ticks\":\"\",\"title\":{\"standoff\":15},\"zerolinecolor\":\"white\",\"zerolinewidth\":2}}},\"geo\":{\"domain\":{\"x\":[0.0,1.0],\"y\":[0.0,1.0]},\"center\":{},\"fitbounds\":\"locations\"},\"coloraxis\":{\"colorbar\":{\"title\":{\"text\":\"YearBuilt\"}},\"colorscale\":[[0.0,\"#0d0887\"],[0.1111111111111111,\"#46039f\"],[0.2222222222222222,\"#7201a8\"],[0.3333333333333333,\"#9c179e\"],[0.4444444444444444,\"#bd3786\"],[0.5555555555555556,\"#d8576b\"],[0.6666666666666666,\"#ed7953\"],[0.7777777777777778,\"#fb9f3a\"],[0.8888888888888888,\"#fdca26\"],[1.0,\"#f0f921\"]]},\"legend\":{\"tracegroupgap\":0},\"margin\":{\"t\":60}},                        {\"responsive\": true}                    ).then(function(){\n",
              "                            \n",
              "var gd = document.getElementById('572a0897-80ab-405a-afca-d3a9e77acd63');\n",
              "var x = new MutationObserver(function (mutations, observer) {{\n",
              "        var display = window.getComputedStyle(gd).display;\n",
              "        if (!display || display === 'none') {{\n",
              "            console.log([gd, 'removed!']);\n",
              "            Plotly.purge(gd);\n",
              "            observer.disconnect();\n",
              "        }}\n",
              "}});\n",
              "\n",
              "// Listen for the removal of the full notebook cells\n",
              "var notebookContainer = gd.closest('#notebook-container');\n",
              "if (notebookContainer) {{\n",
              "    x.observe(notebookContainer, {childList: true});\n",
              "}}\n",
              "\n",
              "// Listen for the clearing of the current output cell\n",
              "var outputEl = gd.closest('.output');\n",
              "if (outputEl) {{\n",
              "    x.observe(outputEl, {childList: true});\n",
              "}}\n",
              "\n",
              "                        })                };                            </script>        </div>\n",
              "</body>\n",
              "</html>"
            ]
          },
          "metadata": {}
        }
      ]
    },
    {
      "cell_type": "code",
      "metadata": {
        "colab": {
          "base_uri": "https://localhost:8080/",
          "height": 542
        },
        "id": "YQwnjE3MFVN1",
        "outputId": "da4b72a3-fccc-40eb-9124-74d2777f9f9e"
      },
      "source": [
        "import plotly.express as px\n",
        "color_col = 'city'\n",
        "data = airbnb_df[~airbnb_df[color_col].isna()].sample(300)\n",
        "fig = px.scatter_geo(\n",
        "    data, lat=data.latitude, lon=data.longitude, color=data[color_col]\n",
        "    )\n",
        "fig.update_geos(fitbounds=\"locations\")\n",
        "fig.show()"
      ],
      "execution_count": 14,
      "outputs": [
        {
          "output_type": "display_data",
          "data": {
            "text/html": [
              "<html>\n",
              "<head><meta charset=\"utf-8\" /></head>\n",
              "<body>\n",
              "    <div>            <script src=\"https://cdnjs.cloudflare.com/ajax/libs/mathjax/2.7.5/MathJax.js?config=TeX-AMS-MML_SVG\"></script><script type=\"text/javascript\">if (window.MathJax) {MathJax.Hub.Config({SVG: {font: \"STIX-Web\"}});}</script>                <script type=\"text/javascript\">window.PlotlyConfig = {MathJaxConfig: 'local'};</script>\n",
              "        <script src=\"https://cdn.plot.ly/plotly-2.8.3.min.js\"></script>                <div id=\"deb73b84-147e-4b04-b9d7-104df4c5163d\" class=\"plotly-graph-div\" style=\"height:525px; width:100%;\"></div>            <script type=\"text/javascript\">                                    window.PLOTLYENV=window.PLOTLYENV || {};                                    if (document.getElementById(\"deb73b84-147e-4b04-b9d7-104df4c5163d\")) {                    Plotly.newPlot(                        \"deb73b84-147e-4b04-b9d7-104df4c5163d\",                        [{\"geo\":\"geo\",\"hovertemplate\":\"city=Whitehorse<br>latitude=%{lat}<br>longitude=%{lon}<extra></extra>\",\"lat\":[-37.80458076,-37.80958738,-37.82246935,-37.84447874,-37.8027296,-37.82168398,-37.84768297],\"legendgroup\":\"Whitehorse\",\"lon\":[145.1221971,145.1287902,145.1274221,145.1293013,145.1236593,145.1216116,145.1085038],\"marker\":{\"color\":\"#636efa\",\"symbol\":\"circle\"},\"mode\":\"markers\",\"name\":\"Whitehorse\",\"showlegend\":true,\"type\":\"scattergeo\"},{\"geo\":\"geo\",\"hovertemplate\":\"city=Melbourne<br>latitude=%{lat}<br>longitude=%{lon}<extra></extra>\",\"lat\":[-37.80968268,-37.79752912,-37.82651889,-37.81795519,-37.81451208,-37.82354136,-37.81575707,-37.81166196,-37.8107679,-37.80965121,-37.80974411,-37.7945704,-37.81004211,-37.8261028,-37.81404594,-37.81464539,-37.82093627,-37.84715972,-37.81443223,-37.82327192,-37.81494778,-37.81124479,-37.81446592,-37.82414985,-37.81557355,-37.82072423,-37.82949396,-37.81548986,-37.81050951,-37.81426483,-37.81876966,-37.77878929,-37.80603144,-37.80539463,-37.81179659,-37.7929978,-37.82248072,-37.80739052,-37.82529527,-37.81528275,-37.81531333,-37.81541236,-37.81385985,-37.82635928,-37.83575446,-37.81065142,-37.82585942,-37.82922203,-37.80915951,-37.81324591,-37.8042677,-37.81782938,-37.84609336,-37.80362714,-37.82502869,-37.81593864,-37.81674748,-37.8105747,-37.81632734,-37.79804079,-37.81650699,-37.81537688,-37.80987816,-37.81611632,-37.80886409,-37.81399957,-37.82882297,-37.81821801,-37.81612008,-37.81405195,-37.81554817,-37.81350516,-37.80791337,-37.79188004,-37.8147017,-37.817625,-37.81026119,-37.82140669,-37.82814426,-37.80919697,-37.82399553,-37.82242202,-37.82381152,-37.81598832,-37.7948466,-37.8122328,-37.82512298,-37.82966206,-37.82826075,-37.8124338],\"legendgroup\":\"Melbourne\",\"lon\":[144.9677873,144.9449253,144.9583384,144.9654103,144.9533572,144.9604321,144.9534384,144.9570036,144.9614389,144.9676473,144.963535,144.9154726,144.9648549,144.9561851,144.9531585,144.9383956,144.9408359,144.9797222,144.9664487,144.9621075,144.9365436,144.9493963,144.9533272,144.9642709,144.9548873,144.9409643,144.9695935,144.9488001,144.9599867,144.9410452,144.9626649,144.9411587,144.9535786,144.9644779,144.958906,144.9173361,144.9600204,144.959771,144.9571462,144.9545026,144.9552014,144.9384007,144.9556196,144.9588625,144.9860694,144.9759255,144.9610701,144.9704337,144.9588672,144.9572452,144.9501913,144.9607125,144.980289,144.9629285,144.9629401,144.954289,144.9716714,144.9665716,144.9542067,144.9739555,144.9672592,144.9535169,144.9658275,144.9658438,144.9590041,144.9536976,144.9679093,144.9646792,144.9527606,144.954675,144.9798293,144.9541899,144.9610493,144.9417656,144.9404246,144.9549691,144.9848429,144.9558537,144.9579573,144.959875,144.9630744,144.9637096,144.9666177,144.9525829,144.9346349,144.9730163,144.9669977,144.9816175,144.9587657,144.943993],\"marker\":{\"color\":\"#EF553B\",\"symbol\":\"circle\"},\"mode\":\"markers\",\"name\":\"Melbourne\",\"showlegend\":true,\"type\":\"scattergeo\"},{\"geo\":\"geo\",\"hovertemplate\":\"city=Darebin<br>latitude=%{lat}<br>longitude=%{lon}<extra></extra>\",\"lat\":[-37.76776547,-37.78204568,-37.72764373,-37.74779316,-37.77946915,-37.75061344,-37.76923475,-37.71302257],\"legendgroup\":\"Darebin\",\"lon\":[145.0030484,144.9962488,145.0069895,144.9928098,144.9924075,145.0010479,144.9913369,145.01861],\"marker\":{\"color\":\"#00cc96\",\"symbol\":\"circle\"},\"mode\":\"markers\",\"name\":\"Darebin\",\"showlegend\":true,\"type\":\"scattergeo\"},{\"geo\":\"geo\",\"hovertemplate\":\"city=Hobsons Bay<br>latitude=%{lat}<br>longitude=%{lon}<extra></extra>\",\"lat\":[-37.84265908,-37.85493227,-37.86566167,-37.86355342],\"legendgroup\":\"Hobsons Bay\",\"lon\":[144.8890166,144.8993392,144.7701085,144.904583],\"marker\":{\"color\":\"#ab63fa\",\"symbol\":\"circle\"},\"mode\":\"markers\",\"name\":\"Hobsons Bay\",\"showlegend\":true,\"type\":\"scattergeo\"},{\"geo\":\"geo\",\"hovertemplate\":\"city=Maribyrnong<br>latitude=%{lat}<br>longitude=%{lon}<extra></extra>\",\"lat\":[-37.80283576,-37.81407959,-37.79512889,-37.81241645,-37.81167103,-37.8006862,-37.78796217,-37.80500003],\"legendgroup\":\"Maribyrnong\",\"lon\":[144.8980596,144.8855938,144.8524358,144.8866309,144.8930484,144.8817596,144.89581,144.9051917],\"marker\":{\"color\":\"#FFA15A\",\"symbol\":\"circle\"},\"mode\":\"markers\",\"name\":\"Maribyrnong\",\"showlegend\":true,\"type\":\"scattergeo\"},{\"geo\":\"geo\",\"hovertemplate\":\"city=Bayside<br>latitude=%{lat}<br>longitude=%{lon}<extra></extra>\",\"lat\":[-37.91505265,-37.92600463,-37.97227763,-37.91384316],\"legendgroup\":\"Bayside\",\"lon\":[144.9885219,145.004651,145.0209826,145.0223899],\"marker\":{\"color\":\"#19d3f3\",\"symbol\":\"circle\"},\"mode\":\"markers\",\"name\":\"Bayside\",\"showlegend\":true,\"type\":\"scattergeo\"},{\"geo\":\"geo\",\"hovertemplate\":\"city=Stonnington<br>latitude=%{lat}<br>longitude=%{lon}<extra></extra>\",\"lat\":[-37.85244792,-37.84385406,-37.88271337,-37.84287654,-37.84774927,-37.84843276,-37.84554824,-37.8374132,-37.83749033,-37.85062709,-37.8528432,-37.84956764,-37.84975143,-37.85388398,-37.85012284,-37.84996749,-37.84478206,-37.84368857,-37.88549193,-37.8451479,-37.8525583],\"legendgroup\":\"Stonnington\",\"lon\":[145.0028181,144.9944415,145.0585882,144.9977941,144.9876157,144.99255,144.9958246,144.9937456,145.0021122,144.9979591,144.9850308,145.0019666,144.9875212,144.9953372,145.0156824,145.0077122,145.0224815,144.9955998,145.077637,144.9975541,144.9893441],\"marker\":{\"color\":\"#FF6692\",\"symbol\":\"circle\"},\"mode\":\"markers\",\"name\":\"Stonnington\",\"showlegend\":true,\"type\":\"scattergeo\"},{\"geo\":\"geo\",\"hovertemplate\":\"city=Frankston<br>latitude=%{lat}<br>longitude=%{lon}<extra></extra>\",\"lat\":[-38.16861164,-38.15797303,-38.08978927,-38.12747457,-38.18977395],\"legendgroup\":\"Frankston\",\"lon\":[145.1122329,145.1648049,145.1884137,145.1239809,145.2091043],\"marker\":{\"color\":\"#B6E880\",\"symbol\":\"circle\"},\"mode\":\"markers\",\"name\":\"Frankston\",\"showlegend\":true,\"type\":\"scattergeo\"},{\"geo\":\"geo\",\"hovertemplate\":\"city=Yarra Ranges<br>latitude=%{lat}<br>longitude=%{lon}<extra></extra>\",\"lat\":[-37.74538785,-37.74593356,-37.91727813,-37.74982639,-37.83841205,-37.64558764,-37.78543022,-37.83090144,-37.8163528],\"legendgroup\":\"Yarra Ranges\",\"lon\":[145.7095457,145.4125417,145.3378479,145.6518219,145.3622867,145.5258076,145.326046,145.3535048,145.5655328],\"marker\":{\"color\":\"#FF97FF\",\"symbol\":\"circle\"},\"mode\":\"markers\",\"name\":\"Yarra Ranges\",\"showlegend\":true,\"type\":\"scattergeo\"},{\"geo\":\"geo\",\"hovertemplate\":\"city=Knox<br>latitude=%{lat}<br>longitude=%{lon}<extra></extra>\",\"lat\":[-37.85600349,-37.92927794,-37.90749725],\"legendgroup\":\"Knox\",\"lon\":[145.2272271,145.2523919,145.2745863],\"marker\":{\"color\":\"#FECB52\",\"symbol\":\"circle\"},\"mode\":\"markers\",\"name\":\"Knox\",\"showlegend\":true,\"type\":\"scattergeo\"},{\"geo\":\"geo\",\"hovertemplate\":\"city=Moreland<br>latitude=%{lat}<br>longitude=%{lon}<extra></extra>\",\"lat\":[-37.7517678,-37.72397662,-37.72203754,-37.77911141,-37.74639333,-37.76970441,-37.75918002,-37.75328223,-37.77421624,-37.76213533],\"legendgroup\":\"Moreland\",\"lon\":[144.9705147,144.9659624,144.9182542,144.9762607,144.9617067,144.963454,144.975145,144.9382044,144.9714038,144.9759835],\"marker\":{\"color\":\"#636efa\",\"symbol\":\"circle\"},\"mode\":\"markers\",\"name\":\"Moreland\",\"showlegend\":true,\"type\":\"scattergeo\"},{\"geo\":\"geo\",\"hovertemplate\":\"city=Boroondara<br>latitude=%{lat}<br>longitude=%{lon}<extra></extra>\",\"lat\":[-37.86026552,-37.81557365,-37.82339445,-37.80835829,-37.8035821,-37.82451407,-37.80818395,-37.82965037,-37.80007392,-37.81919526,-37.81688667,-37.79284012],\"legendgroup\":\"Boroondara\",\"lon\":[145.082364,145.0427159,145.0447197,145.0400847,145.0384507,145.0462205,145.027869,145.0483364,145.0684172,145.0409419,145.043263,145.0522538],\"marker\":{\"color\":\"#EF553B\",\"symbol\":\"circle\"},\"mode\":\"markers\",\"name\":\"Boroondara\",\"showlegend\":true,\"type\":\"scattergeo\"},{\"geo\":\"geo\",\"hovertemplate\":\"city=Glen Eira<br>latitude=%{lat}<br>longitude=%{lon}<extra></extra>\",\"lat\":[-37.88752824,-37.8689833,-37.89825725,-37.86884813,-37.86481974,-37.88584563,-37.90573885,-37.9218928,-37.91647814,-37.88393672],\"legendgroup\":\"Glen Eira\",\"lon\":[145.0430339,145.0277492,145.0135042,145.0097977,145.021799,145.0191112,145.0739632,145.032335,145.0356287,145.0266512],\"marker\":{\"color\":\"#00cc96\",\"symbol\":\"circle\"},\"mode\":\"markers\",\"name\":\"Glen Eira\",\"showlegend\":true,\"type\":\"scattergeo\"},{\"geo\":\"geo\",\"hovertemplate\":\"city=Yarra<br>latitude=%{lat}<br>longitude=%{lon}<extra></extra>\",\"lat\":[-37.79849702,-37.80318406,-37.8122814,-37.80569837,-37.80321236,-37.79693889,-37.81348266,-37.79066665,-37.79910232,-37.82549383,-37.82795966,-37.81115837,-37.80506931,-37.79548302,-37.81888007,-37.78362729,-37.80524999,-37.82397995,-37.81509849,-37.78638013,-37.7932406,-37.80349629,-37.81403748,-37.81868936,-37.80445928,-37.8072468,-37.78428342,-37.8078488],\"legendgroup\":\"Yarra\",\"lon\":[144.9788285,144.9853075,144.9926948,144.9841496,144.9980466,144.990114,145.0085268,144.9753533,144.9762653,145.000091,145.0107009,145.0127084,144.9861072,144.9824125,144.9978572,144.9822001,144.9768137,144.9953067,144.9925099,144.9955261,144.9773644,144.975371,145.0028878,145.005013,144.9756658,144.9839586,144.9793846,144.9902684],\"marker\":{\"color\":\"#ab63fa\",\"symbol\":\"circle\"},\"mode\":\"markers\",\"name\":\"Yarra\",\"showlegend\":true,\"type\":\"scattergeo\"},{\"geo\":\"geo\",\"hovertemplate\":\"city=Manningham<br>latitude=%{lat}<br>longitude=%{lon}<extra></extra>\",\"lat\":[-37.79207249],\"legendgroup\":\"Manningham\",\"lon\":[145.1585309],\"marker\":{\"color\":\"#FFA15A\",\"symbol\":\"circle\"},\"mode\":\"markers\",\"name\":\"Manningham\",\"showlegend\":true,\"type\":\"scattergeo\"},{\"geo\":\"geo\",\"hovertemplate\":\"city=Wyndham<br>latitude=%{lat}<br>longitude=%{lon}<extra></extra>\",\"lat\":[-37.83743756,-37.9073073,-37.86597807,-37.89683713,-37.89580162,-37.90165099,-37.86881939],\"legendgroup\":\"Wyndham\",\"lon\":[144.6909336,144.6340155,144.7357384,144.7402026,144.6862306,144.6550589,144.597494],\"marker\":{\"color\":\"#19d3f3\",\"symbol\":\"circle\"},\"mode\":\"markers\",\"name\":\"Wyndham\",\"showlegend\":true,\"type\":\"scattergeo\"},{\"geo\":\"geo\",\"hovertemplate\":\"city=Port Phillip<br>latitude=%{lat}<br>longitude=%{lon}<extra></extra>\",\"lat\":[-37.83434491,-37.83812118,-37.85078532,-37.85920313,-37.86601406,-37.87202783,-37.86169686,-37.83936445,-37.85362386,-37.83428324,-37.84455999,-37.85776011,-37.83502839,-37.83859595,-37.83423904,-37.88805731,-37.85169893,-37.87220284,-37.8305658,-37.87808977,-37.86557821,-37.846107,-37.86476213,-37.84425776,-37.87348561,-37.87092456,-37.87224706,-37.8580205,-37.83186365,-37.83545667,-37.8641291,-37.85216477,-37.84190165,-37.86694063,-37.83438757,-37.87210825,-37.86234503,-37.83385922,-37.87724184,-37.87705748,-37.85336553,-37.86296692,-37.86828196,-37.86871305,-37.83465537],\"legendgroup\":\"Port Phillip\",\"lon\":[144.971114,144.9266455,144.9811679,144.9820981,144.9753309,144.9975587,144.988106,144.9375297,144.9828748,144.9552778,144.9508992,144.9884921,144.9730077,144.9418655,144.9374463,144.991159,144.9789901,144.9887439,144.9488801,144.9797089,144.9810763,144.9473117,144.9815442,144.9472119,144.997502,144.9833062,144.9779779,144.9909981,144.9675897,144.9714268,144.9874246,144.9630933,144.9412228,144.9771073,144.9727125,144.9814563,144.9801182,144.9581136,144.9950223,144.9888531,144.9800278,144.986879,144.9913943,144.9773341,144.9706298],\"marker\":{\"color\":\"#FF6692\",\"symbol\":\"circle\"},\"mode\":\"markers\",\"name\":\"Port Phillip\",\"showlegend\":true,\"type\":\"scattergeo\"},{\"geo\":\"geo\",\"hovertemplate\":\"city=Melton<br>latitude=%{lat}<br>longitude=%{lon}<extra></extra>\",\"lat\":[-37.70444684,-37.72517865,-37.70703994],\"legendgroup\":\"Melton\",\"lon\":[144.5718945,144.7470172,144.7359536],\"marker\":{\"color\":\"#B6E880\",\"symbol\":\"circle\"},\"mode\":\"markers\",\"name\":\"Melton\",\"showlegend\":true,\"type\":\"scattergeo\"},{\"geo\":\"geo\",\"hovertemplate\":\"city=Banyule<br>latitude=%{lat}<br>longitude=%{lon}<extra></extra>\",\"lat\":[-37.72935177],\"legendgroup\":\"Banyule\",\"lon\":[145.0627784],\"marker\":{\"color\":\"#FF97FF\",\"symbol\":\"circle\"},\"mode\":\"markers\",\"name\":\"Banyule\",\"showlegend\":true,\"type\":\"scattergeo\"},{\"geo\":\"geo\",\"hovertemplate\":\"city=Monash<br>latitude=%{lat}<br>longitude=%{lon}<extra></extra>\",\"lat\":[-37.92517027,-37.92263584,-37.91946476,-37.91301894,-37.89624364],\"legendgroup\":\"Monash\",\"lon\":[145.1659754,145.1181401,145.1374621,145.1867808,145.1158583],\"marker\":{\"color\":\"#FECB52\",\"symbol\":\"circle\"},\"mode\":\"markers\",\"name\":\"Monash\",\"showlegend\":true,\"type\":\"scattergeo\"},{\"geo\":\"geo\",\"hovertemplate\":\"city=Moonee Valley<br>latitude=%{lat}<br>longitude=%{lon}<extra></extra>\",\"lat\":[-37.78545432,-37.77256671,-37.73956072,-37.76262714],\"legendgroup\":\"Moonee Valley\",\"lon\":[144.934111,144.9079881,144.8653405,144.9283091],\"marker\":{\"color\":\"#636efa\",\"symbol\":\"circle\"},\"mode\":\"markers\",\"name\":\"Moonee Valley\",\"showlegend\":true,\"type\":\"scattergeo\"},{\"geo\":\"geo\",\"hovertemplate\":\"city=Hume<br>latitude=%{lat}<br>longitude=%{lon}<extra></extra>\",\"lat\":[-37.61226468,-37.67602154,-37.58610494],\"legendgroup\":\"Hume\",\"lon\":[144.906564,144.8957675,144.730069],\"marker\":{\"color\":\"#EF553B\",\"symbol\":\"circle\"},\"mode\":\"markers\",\"name\":\"Hume\",\"showlegend\":true,\"type\":\"scattergeo\"},{\"geo\":\"geo\",\"hovertemplate\":\"city=Casey<br>latitude=%{lat}<br>longitude=%{lon}<extra></extra>\",\"lat\":[-38.08405371],\"legendgroup\":\"Casey\",\"lon\":[145.3557418],\"marker\":{\"color\":\"#00cc96\",\"symbol\":\"circle\"},\"mode\":\"markers\",\"name\":\"Casey\",\"showlegend\":true,\"type\":\"scattergeo\"},{\"geo\":\"geo\",\"hovertemplate\":\"city=Kingston<br>latitude=%{lat}<br>longitude=%{lon}<extra></extra>\",\"lat\":[-38.0729949,-38.04315186,-37.99130689,-37.96692794],\"legendgroup\":\"Kingston\",\"lon\":[145.1312571,145.1347563,145.0805776,145.0555135],\"marker\":{\"color\":\"#ab63fa\",\"symbol\":\"circle\"},\"mode\":\"markers\",\"name\":\"Kingston\",\"showlegend\":true,\"type\":\"scattergeo\"},{\"geo\":\"geo\",\"hovertemplate\":\"city=Brimbank<br>latitude=%{lat}<br>longitude=%{lon}<extra></extra>\",\"lat\":[-37.7905651,-37.79039224],\"legendgroup\":\"Brimbank\",\"lon\":[144.8420351,144.841107],\"marker\":{\"color\":\"#FFA15A\",\"symbol\":\"circle\"},\"mode\":\"markers\",\"name\":\"Brimbank\",\"showlegend\":true,\"type\":\"scattergeo\"},{\"geo\":\"geo\",\"hovertemplate\":\"city=Whittlesea<br>latitude=%{lat}<br>longitude=%{lon}<extra></extra>\",\"lat\":[-37.66012431,-37.66348597],\"legendgroup\":\"Whittlesea\",\"lon\":[145.0488682,144.9945069],\"marker\":{\"color\":\"#19d3f3\",\"symbol\":\"circle\"},\"mode\":\"markers\",\"name\":\"Whittlesea\",\"showlegend\":true,\"type\":\"scattergeo\"},{\"geo\":\"geo\",\"hovertemplate\":\"city=Cardinia<br>latitude=%{lat}<br>longitude=%{lon}<extra></extra>\",\"lat\":[-38.07615557],\"legendgroup\":\"Cardinia\",\"lon\":[145.4326137],\"marker\":{\"color\":\"#FF6692\",\"symbol\":\"circle\"},\"mode\":\"markers\",\"name\":\"Cardinia\",\"showlegend\":true,\"type\":\"scattergeo\"},{\"geo\":\"geo\",\"hovertemplate\":\"city=Greater Dandenong<br>latitude=%{lat}<br>longitude=%{lon}<extra></extra>\",\"lat\":[-37.95632742],\"legendgroup\":\"Greater Dandenong\",\"lon\":[145.1792351],\"marker\":{\"color\":\"#B6E880\",\"symbol\":\"circle\"},\"mode\":\"markers\",\"name\":\"Greater Dandenong\",\"showlegend\":true,\"type\":\"scattergeo\"},{\"geo\":\"geo\",\"hovertemplate\":\"city=Maroondah<br>latitude=%{lat}<br>longitude=%{lon}<extra></extra>\",\"lat\":[-37.80928903],\"legendgroup\":\"Maroondah\",\"lon\":[145.2288752],\"marker\":{\"color\":\"#FF97FF\",\"symbol\":\"circle\"},\"mode\":\"markers\",\"name\":\"Maroondah\",\"showlegend\":true,\"type\":\"scattergeo\"}],                        {\"template\":{\"data\":{\"bar\":[{\"error_x\":{\"color\":\"#2a3f5f\"},\"error_y\":{\"color\":\"#2a3f5f\"},\"marker\":{\"line\":{\"color\":\"#E5ECF6\",\"width\":0.5},\"pattern\":{\"fillmode\":\"overlay\",\"size\":10,\"solidity\":0.2}},\"type\":\"bar\"}],\"barpolar\":[{\"marker\":{\"line\":{\"color\":\"#E5ECF6\",\"width\":0.5},\"pattern\":{\"fillmode\":\"overlay\",\"size\":10,\"solidity\":0.2}},\"type\":\"barpolar\"}],\"carpet\":[{\"aaxis\":{\"endlinecolor\":\"#2a3f5f\",\"gridcolor\":\"white\",\"linecolor\":\"white\",\"minorgridcolor\":\"white\",\"startlinecolor\":\"#2a3f5f\"},\"baxis\":{\"endlinecolor\":\"#2a3f5f\",\"gridcolor\":\"white\",\"linecolor\":\"white\",\"minorgridcolor\":\"white\",\"startlinecolor\":\"#2a3f5f\"},\"type\":\"carpet\"}],\"choropleth\":[{\"colorbar\":{\"outlinewidth\":0,\"ticks\":\"\"},\"type\":\"choropleth\"}],\"contour\":[{\"colorbar\":{\"outlinewidth\":0,\"ticks\":\"\"},\"colorscale\":[[0.0,\"#0d0887\"],[0.1111111111111111,\"#46039f\"],[0.2222222222222222,\"#7201a8\"],[0.3333333333333333,\"#9c179e\"],[0.4444444444444444,\"#bd3786\"],[0.5555555555555556,\"#d8576b\"],[0.6666666666666666,\"#ed7953\"],[0.7777777777777778,\"#fb9f3a\"],[0.8888888888888888,\"#fdca26\"],[1.0,\"#f0f921\"]],\"type\":\"contour\"}],\"contourcarpet\":[{\"colorbar\":{\"outlinewidth\":0,\"ticks\":\"\"},\"type\":\"contourcarpet\"}],\"heatmap\":[{\"colorbar\":{\"outlinewidth\":0,\"ticks\":\"\"},\"colorscale\":[[0.0,\"#0d0887\"],[0.1111111111111111,\"#46039f\"],[0.2222222222222222,\"#7201a8\"],[0.3333333333333333,\"#9c179e\"],[0.4444444444444444,\"#bd3786\"],[0.5555555555555556,\"#d8576b\"],[0.6666666666666666,\"#ed7953\"],[0.7777777777777778,\"#fb9f3a\"],[0.8888888888888888,\"#fdca26\"],[1.0,\"#f0f921\"]],\"type\":\"heatmap\"}],\"heatmapgl\":[{\"colorbar\":{\"outlinewidth\":0,\"ticks\":\"\"},\"colorscale\":[[0.0,\"#0d0887\"],[0.1111111111111111,\"#46039f\"],[0.2222222222222222,\"#7201a8\"],[0.3333333333333333,\"#9c179e\"],[0.4444444444444444,\"#bd3786\"],[0.5555555555555556,\"#d8576b\"],[0.6666666666666666,\"#ed7953\"],[0.7777777777777778,\"#fb9f3a\"],[0.8888888888888888,\"#fdca26\"],[1.0,\"#f0f921\"]],\"type\":\"heatmapgl\"}],\"histogram\":[{\"marker\":{\"pattern\":{\"fillmode\":\"overlay\",\"size\":10,\"solidity\":0.2}},\"type\":\"histogram\"}],\"histogram2d\":[{\"colorbar\":{\"outlinewidth\":0,\"ticks\":\"\"},\"colorscale\":[[0.0,\"#0d0887\"],[0.1111111111111111,\"#46039f\"],[0.2222222222222222,\"#7201a8\"],[0.3333333333333333,\"#9c179e\"],[0.4444444444444444,\"#bd3786\"],[0.5555555555555556,\"#d8576b\"],[0.6666666666666666,\"#ed7953\"],[0.7777777777777778,\"#fb9f3a\"],[0.8888888888888888,\"#fdca26\"],[1.0,\"#f0f921\"]],\"type\":\"histogram2d\"}],\"histogram2dcontour\":[{\"colorbar\":{\"outlinewidth\":0,\"ticks\":\"\"},\"colorscale\":[[0.0,\"#0d0887\"],[0.1111111111111111,\"#46039f\"],[0.2222222222222222,\"#7201a8\"],[0.3333333333333333,\"#9c179e\"],[0.4444444444444444,\"#bd3786\"],[0.5555555555555556,\"#d8576b\"],[0.6666666666666666,\"#ed7953\"],[0.7777777777777778,\"#fb9f3a\"],[0.8888888888888888,\"#fdca26\"],[1.0,\"#f0f921\"]],\"type\":\"histogram2dcontour\"}],\"mesh3d\":[{\"colorbar\":{\"outlinewidth\":0,\"ticks\":\"\"},\"type\":\"mesh3d\"}],\"parcoords\":[{\"line\":{\"colorbar\":{\"outlinewidth\":0,\"ticks\":\"\"}},\"type\":\"parcoords\"}],\"pie\":[{\"automargin\":true,\"type\":\"pie\"}],\"scatter\":[{\"marker\":{\"colorbar\":{\"outlinewidth\":0,\"ticks\":\"\"}},\"type\":\"scatter\"}],\"scatter3d\":[{\"line\":{\"colorbar\":{\"outlinewidth\":0,\"ticks\":\"\"}},\"marker\":{\"colorbar\":{\"outlinewidth\":0,\"ticks\":\"\"}},\"type\":\"scatter3d\"}],\"scattercarpet\":[{\"marker\":{\"colorbar\":{\"outlinewidth\":0,\"ticks\":\"\"}},\"type\":\"scattercarpet\"}],\"scattergeo\":[{\"marker\":{\"colorbar\":{\"outlinewidth\":0,\"ticks\":\"\"}},\"type\":\"scattergeo\"}],\"scattergl\":[{\"marker\":{\"colorbar\":{\"outlinewidth\":0,\"ticks\":\"\"}},\"type\":\"scattergl\"}],\"scattermapbox\":[{\"marker\":{\"colorbar\":{\"outlinewidth\":0,\"ticks\":\"\"}},\"type\":\"scattermapbox\"}],\"scatterpolar\":[{\"marker\":{\"colorbar\":{\"outlinewidth\":0,\"ticks\":\"\"}},\"type\":\"scatterpolar\"}],\"scatterpolargl\":[{\"marker\":{\"colorbar\":{\"outlinewidth\":0,\"ticks\":\"\"}},\"type\":\"scatterpolargl\"}],\"scatterternary\":[{\"marker\":{\"colorbar\":{\"outlinewidth\":0,\"ticks\":\"\"}},\"type\":\"scatterternary\"}],\"surface\":[{\"colorbar\":{\"outlinewidth\":0,\"ticks\":\"\"},\"colorscale\":[[0.0,\"#0d0887\"],[0.1111111111111111,\"#46039f\"],[0.2222222222222222,\"#7201a8\"],[0.3333333333333333,\"#9c179e\"],[0.4444444444444444,\"#bd3786\"],[0.5555555555555556,\"#d8576b\"],[0.6666666666666666,\"#ed7953\"],[0.7777777777777778,\"#fb9f3a\"],[0.8888888888888888,\"#fdca26\"],[1.0,\"#f0f921\"]],\"type\":\"surface\"}],\"table\":[{\"cells\":{\"fill\":{\"color\":\"#EBF0F8\"},\"line\":{\"color\":\"white\"}},\"header\":{\"fill\":{\"color\":\"#C8D4E3\"},\"line\":{\"color\":\"white\"}},\"type\":\"table\"}]},\"layout\":{\"annotationdefaults\":{\"arrowcolor\":\"#2a3f5f\",\"arrowhead\":0,\"arrowwidth\":1},\"autotypenumbers\":\"strict\",\"coloraxis\":{\"colorbar\":{\"outlinewidth\":0,\"ticks\":\"\"}},\"colorscale\":{\"diverging\":[[0,\"#8e0152\"],[0.1,\"#c51b7d\"],[0.2,\"#de77ae\"],[0.3,\"#f1b6da\"],[0.4,\"#fde0ef\"],[0.5,\"#f7f7f7\"],[0.6,\"#e6f5d0\"],[0.7,\"#b8e186\"],[0.8,\"#7fbc41\"],[0.9,\"#4d9221\"],[1,\"#276419\"]],\"sequential\":[[0.0,\"#0d0887\"],[0.1111111111111111,\"#46039f\"],[0.2222222222222222,\"#7201a8\"],[0.3333333333333333,\"#9c179e\"],[0.4444444444444444,\"#bd3786\"],[0.5555555555555556,\"#d8576b\"],[0.6666666666666666,\"#ed7953\"],[0.7777777777777778,\"#fb9f3a\"],[0.8888888888888888,\"#fdca26\"],[1.0,\"#f0f921\"]],\"sequentialminus\":[[0.0,\"#0d0887\"],[0.1111111111111111,\"#46039f\"],[0.2222222222222222,\"#7201a8\"],[0.3333333333333333,\"#9c179e\"],[0.4444444444444444,\"#bd3786\"],[0.5555555555555556,\"#d8576b\"],[0.6666666666666666,\"#ed7953\"],[0.7777777777777778,\"#fb9f3a\"],[0.8888888888888888,\"#fdca26\"],[1.0,\"#f0f921\"]]},\"colorway\":[\"#636efa\",\"#EF553B\",\"#00cc96\",\"#ab63fa\",\"#FFA15A\",\"#19d3f3\",\"#FF6692\",\"#B6E880\",\"#FF97FF\",\"#FECB52\"],\"font\":{\"color\":\"#2a3f5f\"},\"geo\":{\"bgcolor\":\"white\",\"lakecolor\":\"white\",\"landcolor\":\"#E5ECF6\",\"showlakes\":true,\"showland\":true,\"subunitcolor\":\"white\"},\"hoverlabel\":{\"align\":\"left\"},\"hovermode\":\"closest\",\"mapbox\":{\"style\":\"light\"},\"paper_bgcolor\":\"white\",\"plot_bgcolor\":\"#E5ECF6\",\"polar\":{\"angularaxis\":{\"gridcolor\":\"white\",\"linecolor\":\"white\",\"ticks\":\"\"},\"bgcolor\":\"#E5ECF6\",\"radialaxis\":{\"gridcolor\":\"white\",\"linecolor\":\"white\",\"ticks\":\"\"}},\"scene\":{\"xaxis\":{\"backgroundcolor\":\"#E5ECF6\",\"gridcolor\":\"white\",\"gridwidth\":2,\"linecolor\":\"white\",\"showbackground\":true,\"ticks\":\"\",\"zerolinecolor\":\"white\"},\"yaxis\":{\"backgroundcolor\":\"#E5ECF6\",\"gridcolor\":\"white\",\"gridwidth\":2,\"linecolor\":\"white\",\"showbackground\":true,\"ticks\":\"\",\"zerolinecolor\":\"white\"},\"zaxis\":{\"backgroundcolor\":\"#E5ECF6\",\"gridcolor\":\"white\",\"gridwidth\":2,\"linecolor\":\"white\",\"showbackground\":true,\"ticks\":\"\",\"zerolinecolor\":\"white\"}},\"shapedefaults\":{\"line\":{\"color\":\"#2a3f5f\"}},\"ternary\":{\"aaxis\":{\"gridcolor\":\"white\",\"linecolor\":\"white\",\"ticks\":\"\"},\"baxis\":{\"gridcolor\":\"white\",\"linecolor\":\"white\",\"ticks\":\"\"},\"bgcolor\":\"#E5ECF6\",\"caxis\":{\"gridcolor\":\"white\",\"linecolor\":\"white\",\"ticks\":\"\"}},\"title\":{\"x\":0.05},\"xaxis\":{\"automargin\":true,\"gridcolor\":\"white\",\"linecolor\":\"white\",\"ticks\":\"\",\"title\":{\"standoff\":15},\"zerolinecolor\":\"white\",\"zerolinewidth\":2},\"yaxis\":{\"automargin\":true,\"gridcolor\":\"white\",\"linecolor\":\"white\",\"ticks\":\"\",\"title\":{\"standoff\":15},\"zerolinecolor\":\"white\",\"zerolinewidth\":2}}},\"geo\":{\"domain\":{\"x\":[0.0,1.0],\"y\":[0.0,1.0]},\"center\":{},\"fitbounds\":\"locations\"},\"legend\":{\"title\":{\"text\":\"city\"},\"tracegroupgap\":0},\"margin\":{\"t\":60}},                        {\"responsive\": true}                    ).then(function(){\n",
              "                            \n",
              "var gd = document.getElementById('deb73b84-147e-4b04-b9d7-104df4c5163d');\n",
              "var x = new MutationObserver(function (mutations, observer) {{\n",
              "        var display = window.getComputedStyle(gd).display;\n",
              "        if (!display || display === 'none') {{\n",
              "            console.log([gd, 'removed!']);\n",
              "            Plotly.purge(gd);\n",
              "            observer.disconnect();\n",
              "        }}\n",
              "}});\n",
              "\n",
              "// Listen for the removal of the full notebook cells\n",
              "var notebookContainer = gd.closest('#notebook-container');\n",
              "if (notebookContainer) {{\n",
              "    x.observe(notebookContainer, {childList: true});\n",
              "}}\n",
              "\n",
              "// Listen for the clearing of the current output cell\n",
              "var outputEl = gd.closest('.output');\n",
              "if (outputEl) {{\n",
              "    x.observe(outputEl, {childList: true});\n",
              "}}\n",
              "\n",
              "                        })                };                            </script>        </div>\n",
              "</body>\n",
              "</html>"
            ]
          },
          "metadata": {}
        }
      ]
    },
    {
      "cell_type": "markdown",
      "metadata": {
        "id": "rWJHY4f5RT_b"
      },
      "source": [
        "## Merge Operation\n",
        "\n",
        "It's time to combine both data sets. A frequently tempting option is to apply the merge operation without analyzing the situation too much. However, this operation can cause an **exponential growth** of our data set!\n",
        "\n",
        "Why does the following operation generate a DataFrame with 2 million rows?"
      ]
    },
    {
      "cell_type": "code",
      "metadata": {
        "colab": {
          "base_uri": "https://localhost:8080/"
        },
        "id": "X6NqwTaShgTD",
        "outputId": "3791a7c2-b02c-47d2-a6e5-0833cd378785"
      },
      "source": [
        "## Incorrect!\n",
        "len(melb_df.merge(airbnb_df, how='left',\n",
        "                  left_on='Postcode', right_on='zipcode'))"
      ],
      "execution_count": 15,
      "outputs": [
        {
          "output_type": "execute_result",
          "data": {
            "text/plain": [
              "2139684"
            ]
          },
          "metadata": {},
          "execution_count": 15
        }
      ]
    },
    {
      "cell_type": "markdown",
      "metadata": {
        "id": "ZjlzIlBGhfKA"
      },
      "source": [
        "Let's remember that our goal is to add information about the property's neighborhood value. What information from the set of airbnb helps us to represent this?\n",
        "\n",
        "* Average `price` per zipcode\n",
        "* Average `weekly_price` per zipcode\n",
        "* Average `monthly_price` per zipcode\n",
        "\n",
        "It is up to you to decide which of all of them to use."
      ]
    },
    {
      "cell_type": "code",
      "metadata": {
        "id": "satTM4vKlqtS"
      },
      "source": [
        "relevant_cols = ['price', 'weekly_price', 'monthly_price']"
      ],
      "execution_count": 16,
      "outputs": []
    },
    {
      "cell_type": "markdown",
      "metadata": {
        "id": "Y2ORIRhGlY1z"
      },
      "source": [
        "When we want to add a single data after grouping a DataFrame, the operation is quite simple. You just have to keep in mind that the name of the columns will be the same, even though their value is now added."
      ]
    },
    {
      "cell_type": "code",
      "metadata": {
        "colab": {
          "base_uri": "https://localhost:8080/",
          "height": 206
        },
        "id": "I41gc3aflTrw",
        "outputId": "969c113a-ae4b-49f4-8dce-840e2c2fafc7"
      },
      "source": [
        "# Option 1: inefficient form.\n",
        "# The aggregation is calculated over all columns, and after is calculated\n",
        "# we filter only the columns we want.\n",
        "# airbnb_df.groupby('zipcode').mean()[relevant_cols].reset_index()[:5]\n",
        "\n",
        "# Option 2: efficient form\n",
        "# First we filter out the columns we want, and then we only aggregate\n",
        "# those. Be careful to include the grouping column as well.\n",
        "airbnb_df[relevant_cols + ['zipcode']]\\\n",
        "  .groupby('zipcode').mean().reset_index()[:5]"
      ],
      "execution_count": 17,
      "outputs": [
        {
          "output_type": "execute_result",
          "data": {
            "text/html": [
              "\n",
              "  <div id=\"df-1e8a038a-8edf-4ceb-a56c-ded346822319\">\n",
              "    <div class=\"colab-df-container\">\n",
              "      <div>\n",
              "<style scoped>\n",
              "    .dataframe tbody tr th:only-of-type {\n",
              "        vertical-align: middle;\n",
              "    }\n",
              "\n",
              "    .dataframe tbody tr th {\n",
              "        vertical-align: top;\n",
              "    }\n",
              "\n",
              "    .dataframe thead th {\n",
              "        text-align: right;\n",
              "    }\n",
              "</style>\n",
              "<table border=\"1\" class=\"dataframe\">\n",
              "  <thead>\n",
              "    <tr style=\"text-align: right;\">\n",
              "      <th></th>\n",
              "      <th>zipcode</th>\n",
              "      <th>price</th>\n",
              "      <th>weekly_price</th>\n",
              "      <th>monthly_price</th>\n",
              "    </tr>\n",
              "  </thead>\n",
              "  <tbody>\n",
              "    <tr>\n",
              "      <th>0</th>\n",
              "      <td>2010.0</td>\n",
              "      <td>40.000000</td>\n",
              "      <td>NaN</td>\n",
              "      <td>NaN</td>\n",
              "    </tr>\n",
              "    <tr>\n",
              "      <th>1</th>\n",
              "      <td>2134.0</td>\n",
              "      <td>50.000000</td>\n",
              "      <td>NaN</td>\n",
              "      <td>NaN</td>\n",
              "    </tr>\n",
              "    <tr>\n",
              "      <th>2</th>\n",
              "      <td>2582.0</td>\n",
              "      <td>104.000000</td>\n",
              "      <td>NaN</td>\n",
              "      <td>NaN</td>\n",
              "    </tr>\n",
              "    <tr>\n",
              "      <th>3</th>\n",
              "      <td>3000.0</td>\n",
              "      <td>150.504307</td>\n",
              "      <td>918.738956</td>\n",
              "      <td>3407.204651</td>\n",
              "    </tr>\n",
              "    <tr>\n",
              "      <th>4</th>\n",
              "      <td>3001.0</td>\n",
              "      <td>132.500000</td>\n",
              "      <td>NaN</td>\n",
              "      <td>NaN</td>\n",
              "    </tr>\n",
              "  </tbody>\n",
              "</table>\n",
              "</div>\n",
              "      <button class=\"colab-df-convert\" onclick=\"convertToInteractive('df-1e8a038a-8edf-4ceb-a56c-ded346822319')\"\n",
              "              title=\"Convert this dataframe to an interactive table.\"\n",
              "              style=\"display:none;\">\n",
              "        \n",
              "  <svg xmlns=\"http://www.w3.org/2000/svg\" height=\"24px\"viewBox=\"0 0 24 24\"\n",
              "       width=\"24px\">\n",
              "    <path d=\"M0 0h24v24H0V0z\" fill=\"none\"/>\n",
              "    <path d=\"M18.56 5.44l.94 2.06.94-2.06 2.06-.94-2.06-.94-.94-2.06-.94 2.06-2.06.94zm-11 1L8.5 8.5l.94-2.06 2.06-.94-2.06-.94L8.5 2.5l-.94 2.06-2.06.94zm10 10l.94 2.06.94-2.06 2.06-.94-2.06-.94-.94-2.06-.94 2.06-2.06.94z\"/><path d=\"M17.41 7.96l-1.37-1.37c-.4-.4-.92-.59-1.43-.59-.52 0-1.04.2-1.43.59L10.3 9.45l-7.72 7.72c-.78.78-.78 2.05 0 2.83L4 21.41c.39.39.9.59 1.41.59.51 0 1.02-.2 1.41-.59l7.78-7.78 2.81-2.81c.8-.78.8-2.07 0-2.86zM5.41 20L4 18.59l7.72-7.72 1.47 1.35L5.41 20z\"/>\n",
              "  </svg>\n",
              "      </button>\n",
              "      \n",
              "  <style>\n",
              "    .colab-df-container {\n",
              "      display:flex;\n",
              "      flex-wrap:wrap;\n",
              "      gap: 12px;\n",
              "    }\n",
              "\n",
              "    .colab-df-convert {\n",
              "      background-color: #E8F0FE;\n",
              "      border: none;\n",
              "      border-radius: 50%;\n",
              "      cursor: pointer;\n",
              "      display: none;\n",
              "      fill: #1967D2;\n",
              "      height: 32px;\n",
              "      padding: 0 0 0 0;\n",
              "      width: 32px;\n",
              "    }\n",
              "\n",
              "    .colab-df-convert:hover {\n",
              "      background-color: #E2EBFA;\n",
              "      box-shadow: 0px 1px 2px rgba(60, 64, 67, 0.3), 0px 1px 3px 1px rgba(60, 64, 67, 0.15);\n",
              "      fill: #174EA6;\n",
              "    }\n",
              "\n",
              "    [theme=dark] .colab-df-convert {\n",
              "      background-color: #3B4455;\n",
              "      fill: #D2E3FC;\n",
              "    }\n",
              "\n",
              "    [theme=dark] .colab-df-convert:hover {\n",
              "      background-color: #434B5C;\n",
              "      box-shadow: 0px 1px 3px 1px rgba(0, 0, 0, 0.15);\n",
              "      filter: drop-shadow(0px 1px 2px rgba(0, 0, 0, 0.3));\n",
              "      fill: #FFFFFF;\n",
              "    }\n",
              "  </style>\n",
              "\n",
              "      <script>\n",
              "        const buttonEl =\n",
              "          document.querySelector('#df-1e8a038a-8edf-4ceb-a56c-ded346822319 button.colab-df-convert');\n",
              "        buttonEl.style.display =\n",
              "          google.colab.kernel.accessAllowed ? 'block' : 'none';\n",
              "\n",
              "        async function convertToInteractive(key) {\n",
              "          const element = document.querySelector('#df-1e8a038a-8edf-4ceb-a56c-ded346822319');\n",
              "          const dataTable =\n",
              "            await google.colab.kernel.invokeFunction('convertToInteractive',\n",
              "                                                     [key], {});\n",
              "          if (!dataTable) return;\n",
              "\n",
              "          const docLinkHtml = 'Like what you see? Visit the ' +\n",
              "            '<a target=\"_blank\" href=https://colab.research.google.com/notebooks/data_table.ipynb>data table notebook</a>'\n",
              "            + ' to learn more about interactive tables.';\n",
              "          element.innerHTML = '';\n",
              "          dataTable['output_type'] = 'display_data';\n",
              "          await google.colab.output.renderOutput(dataTable, element);\n",
              "          const docLink = document.createElement('div');\n",
              "          docLink.innerHTML = docLinkHtml;\n",
              "          element.appendChild(docLink);\n",
              "        }\n",
              "      </script>\n",
              "    </div>\n",
              "  </div>\n",
              "  "
            ],
            "text/plain": [
              "   zipcode       price  weekly_price  monthly_price\n",
              "0   2010.0   40.000000           NaN            NaN\n",
              "1   2134.0   50.000000           NaN            NaN\n",
              "2   2582.0  104.000000           NaN            NaN\n",
              "3   3000.0  150.504307    918.738956    3407.204651\n",
              "4   3001.0  132.500000           NaN            NaN"
            ]
          },
          "metadata": {},
          "execution_count": 17
        }
      ]
    },
    {
      "cell_type": "markdown",
      "metadata": {
        "id": "8kR2TEpni9i5"
      },
      "source": [
        "Grouping and adding using more than one type of operation is a bit more complicated. Pandas provides us with many ways to write the same operation. None of them are very intuitive, and usually require renaming the columns to give them more meaningful names."
      ]
    },
    {
      "cell_type": "code",
      "metadata": {
        "colab": {
          "base_uri": "https://localhost:8080/",
          "height": 143
        },
        "id": "K72zWkuJRl0M",
        "outputId": "5b3e7cd6-7afa-43d2-89ad-62ef7cba81d5"
      },
      "source": [
        "relevant_cols = ['price', 'weekly_price', 'monthly_price', 'zipcode']\n",
        "## Option 1\n",
        "# Pass a dictionary where the keys are the original columns to aggregate and\n",
        "# the values are the operations (or list of operations).\n",
        "airbnb_price_by_zipcode = airbnb_df[relevant_cols].groupby('zipcode')\\\n",
        "  .agg({'price': ['mean', 'count'], 'weekly_price': 'mean',\n",
        "        'monthly_price': 'mean'})\\\n",
        "  .reset_index()\n",
        "# Flatten the two level columns\n",
        "airbnb_price_by_zipcode.columns = [\n",
        "  ' '.join(col).strip()\n",
        "  for col in airbnb_price_by_zipcode.columns.values]\n",
        "# Rename columns\n",
        "airbnb_price_by_zipcode = airbnb_price_by_zipcode.rename(\n",
        "    columns={'price mean': 'airbnb_price_mean',\n",
        "             'price count': 'airbnb_record_count',\n",
        "             'weekly_price mean': 'airbnb_weekly_price_mean',\n",
        "             'monthly_price mean': 'airbnb_monthly_price_mean'}\n",
        ")\n",
        "\n",
        "## Option 2\n",
        "# Pass as argument name the new name of the column, and as value a tuple where\n",
        "# the first value is the original column and the second value is the operation.\n",
        "# airbnb_price_by_zipcode = airbnb_df[relevant_cols].groupby('zipcode')\\\n",
        "#   .agg(airbnb_record_count=('price', 'count'),\n",
        "#        airbnb_price_mean=('price', 'mean'),\n",
        "#        airbnb_weekly_price_mean=('weekly_price', 'mean'),\n",
        "#        airbnb_monthly_price_mean=('monthly_price', 'mean'))\\\n",
        "#   .reset_index()\n",
        "\n",
        "airbnb_price_by_zipcode[:3]"
      ],
      "execution_count": 18,
      "outputs": [
        {
          "output_type": "execute_result",
          "data": {
            "text/html": [
              "\n",
              "  <div id=\"df-c67b5067-29c4-4384-83a0-2718bae1e87d\">\n",
              "    <div class=\"colab-df-container\">\n",
              "      <div>\n",
              "<style scoped>\n",
              "    .dataframe tbody tr th:only-of-type {\n",
              "        vertical-align: middle;\n",
              "    }\n",
              "\n",
              "    .dataframe tbody tr th {\n",
              "        vertical-align: top;\n",
              "    }\n",
              "\n",
              "    .dataframe thead th {\n",
              "        text-align: right;\n",
              "    }\n",
              "</style>\n",
              "<table border=\"1\" class=\"dataframe\">\n",
              "  <thead>\n",
              "    <tr style=\"text-align: right;\">\n",
              "      <th></th>\n",
              "      <th>zipcode</th>\n",
              "      <th>airbnb_price_mean</th>\n",
              "      <th>airbnb_record_count</th>\n",
              "      <th>airbnb_weekly_price_mean</th>\n",
              "      <th>airbnb_monthly_price_mean</th>\n",
              "    </tr>\n",
              "  </thead>\n",
              "  <tbody>\n",
              "    <tr>\n",
              "      <th>0</th>\n",
              "      <td>2010.0</td>\n",
              "      <td>40.0</td>\n",
              "      <td>1</td>\n",
              "      <td>NaN</td>\n",
              "      <td>NaN</td>\n",
              "    </tr>\n",
              "    <tr>\n",
              "      <th>1</th>\n",
              "      <td>2134.0</td>\n",
              "      <td>50.0</td>\n",
              "      <td>1</td>\n",
              "      <td>NaN</td>\n",
              "      <td>NaN</td>\n",
              "    </tr>\n",
              "    <tr>\n",
              "      <th>2</th>\n",
              "      <td>2582.0</td>\n",
              "      <td>104.0</td>\n",
              "      <td>1</td>\n",
              "      <td>NaN</td>\n",
              "      <td>NaN</td>\n",
              "    </tr>\n",
              "  </tbody>\n",
              "</table>\n",
              "</div>\n",
              "      <button class=\"colab-df-convert\" onclick=\"convertToInteractive('df-c67b5067-29c4-4384-83a0-2718bae1e87d')\"\n",
              "              title=\"Convert this dataframe to an interactive table.\"\n",
              "              style=\"display:none;\">\n",
              "        \n",
              "  <svg xmlns=\"http://www.w3.org/2000/svg\" height=\"24px\"viewBox=\"0 0 24 24\"\n",
              "       width=\"24px\">\n",
              "    <path d=\"M0 0h24v24H0V0z\" fill=\"none\"/>\n",
              "    <path d=\"M18.56 5.44l.94 2.06.94-2.06 2.06-.94-2.06-.94-.94-2.06-.94 2.06-2.06.94zm-11 1L8.5 8.5l.94-2.06 2.06-.94-2.06-.94L8.5 2.5l-.94 2.06-2.06.94zm10 10l.94 2.06.94-2.06 2.06-.94-2.06-.94-.94-2.06-.94 2.06-2.06.94z\"/><path d=\"M17.41 7.96l-1.37-1.37c-.4-.4-.92-.59-1.43-.59-.52 0-1.04.2-1.43.59L10.3 9.45l-7.72 7.72c-.78.78-.78 2.05 0 2.83L4 21.41c.39.39.9.59 1.41.59.51 0 1.02-.2 1.41-.59l7.78-7.78 2.81-2.81c.8-.78.8-2.07 0-2.86zM5.41 20L4 18.59l7.72-7.72 1.47 1.35L5.41 20z\"/>\n",
              "  </svg>\n",
              "      </button>\n",
              "      \n",
              "  <style>\n",
              "    .colab-df-container {\n",
              "      display:flex;\n",
              "      flex-wrap:wrap;\n",
              "      gap: 12px;\n",
              "    }\n",
              "\n",
              "    .colab-df-convert {\n",
              "      background-color: #E8F0FE;\n",
              "      border: none;\n",
              "      border-radius: 50%;\n",
              "      cursor: pointer;\n",
              "      display: none;\n",
              "      fill: #1967D2;\n",
              "      height: 32px;\n",
              "      padding: 0 0 0 0;\n",
              "      width: 32px;\n",
              "    }\n",
              "\n",
              "    .colab-df-convert:hover {\n",
              "      background-color: #E2EBFA;\n",
              "      box-shadow: 0px 1px 2px rgba(60, 64, 67, 0.3), 0px 1px 3px 1px rgba(60, 64, 67, 0.15);\n",
              "      fill: #174EA6;\n",
              "    }\n",
              "\n",
              "    [theme=dark] .colab-df-convert {\n",
              "      background-color: #3B4455;\n",
              "      fill: #D2E3FC;\n",
              "    }\n",
              "\n",
              "    [theme=dark] .colab-df-convert:hover {\n",
              "      background-color: #434B5C;\n",
              "      box-shadow: 0px 1px 3px 1px rgba(0, 0, 0, 0.15);\n",
              "      filter: drop-shadow(0px 1px 2px rgba(0, 0, 0, 0.3));\n",
              "      fill: #FFFFFF;\n",
              "    }\n",
              "  </style>\n",
              "\n",
              "      <script>\n",
              "        const buttonEl =\n",
              "          document.querySelector('#df-c67b5067-29c4-4384-83a0-2718bae1e87d button.colab-df-convert');\n",
              "        buttonEl.style.display =\n",
              "          google.colab.kernel.accessAllowed ? 'block' : 'none';\n",
              "\n",
              "        async function convertToInteractive(key) {\n",
              "          const element = document.querySelector('#df-c67b5067-29c4-4384-83a0-2718bae1e87d');\n",
              "          const dataTable =\n",
              "            await google.colab.kernel.invokeFunction('convertToInteractive',\n",
              "                                                     [key], {});\n",
              "          if (!dataTable) return;\n",
              "\n",
              "          const docLinkHtml = 'Like what you see? Visit the ' +\n",
              "            '<a target=\"_blank\" href=https://colab.research.google.com/notebooks/data_table.ipynb>data table notebook</a>'\n",
              "            + ' to learn more about interactive tables.';\n",
              "          element.innerHTML = '';\n",
              "          dataTable['output_type'] = 'display_data';\n",
              "          await google.colab.output.renderOutput(dataTable, element);\n",
              "          const docLink = document.createElement('div');\n",
              "          docLink.innerHTML = docLinkHtml;\n",
              "          element.appendChild(docLink);\n",
              "        }\n",
              "      </script>\n",
              "    </div>\n",
              "  </div>\n",
              "  "
            ],
            "text/plain": [
              "   zipcode  airbnb_price_mean  airbnb_record_count  airbnb_weekly_price_mean  \\\n",
              "0   2010.0               40.0                    1                       NaN   \n",
              "1   2134.0               50.0                    1                       NaN   \n",
              "2   2582.0              104.0                    1                       NaN   \n",
              "\n",
              "   airbnb_monthly_price_mean  \n",
              "0                        NaN  \n",
              "1                        NaN  \n",
              "2                        NaN  "
            ]
          },
          "metadata": {},
          "execution_count": 18
        }
      ]
    },
    {
      "cell_type": "code",
      "metadata": {
        "colab": {
          "base_uri": "https://localhost:8080/",
          "height": 421
        },
        "id": "RfUAyonwMOrx",
        "outputId": "889ae1f1-16fe-46d8-8c98-31d450d73bea"
      },
      "source": [
        "merged_sales_df = melb_df.merge(\n",
        "    airbnb_price_by_zipcode, how='left',\n",
        "    left_on='Postcode', right_on='zipcode'\n",
        ")\n",
        "merged_sales_df.sample(5)"
      ],
      "execution_count": 19,
      "outputs": [
        {
          "output_type": "execute_result",
          "data": {
            "text/html": [
              "\n",
              "  <div id=\"df-2e7e2735-ae8a-41d7-9be1-c8ae3497695b\">\n",
              "    <div class=\"colab-df-container\">\n",
              "      <div>\n",
              "<style scoped>\n",
              "    .dataframe tbody tr th:only-of-type {\n",
              "        vertical-align: middle;\n",
              "    }\n",
              "\n",
              "    .dataframe tbody tr th {\n",
              "        vertical-align: top;\n",
              "    }\n",
              "\n",
              "    .dataframe thead th {\n",
              "        text-align: right;\n",
              "    }\n",
              "</style>\n",
              "<table border=\"1\" class=\"dataframe\">\n",
              "  <thead>\n",
              "    <tr style=\"text-align: right;\">\n",
              "      <th></th>\n",
              "      <th>Suburb</th>\n",
              "      <th>Address</th>\n",
              "      <th>Rooms</th>\n",
              "      <th>Type</th>\n",
              "      <th>Price</th>\n",
              "      <th>Method</th>\n",
              "      <th>SellerG</th>\n",
              "      <th>Date</th>\n",
              "      <th>Distance</th>\n",
              "      <th>Postcode</th>\n",
              "      <th>...</th>\n",
              "      <th>CouncilArea</th>\n",
              "      <th>Lattitude</th>\n",
              "      <th>Longtitude</th>\n",
              "      <th>Regionname</th>\n",
              "      <th>Propertycount</th>\n",
              "      <th>zipcode</th>\n",
              "      <th>airbnb_price_mean</th>\n",
              "      <th>airbnb_record_count</th>\n",
              "      <th>airbnb_weekly_price_mean</th>\n",
              "      <th>airbnb_monthly_price_mean</th>\n",
              "    </tr>\n",
              "  </thead>\n",
              "  <tbody>\n",
              "    <tr>\n",
              "      <th>4802</th>\n",
              "      <td>Port Melbourne</td>\n",
              "      <td>176 Dow St</td>\n",
              "      <td>3</td>\n",
              "      <td>h</td>\n",
              "      <td>1080000.0</td>\n",
              "      <td>S</td>\n",
              "      <td>Biggin</td>\n",
              "      <td>30/07/2016</td>\n",
              "      <td>3.8</td>\n",
              "      <td>3207.0</td>\n",
              "      <td>...</td>\n",
              "      <td>Port Phillip</td>\n",
              "      <td>-37.84010</td>\n",
              "      <td>144.94300</td>\n",
              "      <td>Southern Metropolitan</td>\n",
              "      <td>8648.0</td>\n",
              "      <td>3207.0</td>\n",
              "      <td>200.210117</td>\n",
              "      <td>257.0</td>\n",
              "      <td>1480.790698</td>\n",
              "      <td>4743.964286</td>\n",
              "    </tr>\n",
              "    <tr>\n",
              "      <th>10526</th>\n",
              "      <td>Sunshine North</td>\n",
              "      <td>14 Oxford St</td>\n",
              "      <td>3</td>\n",
              "      <td>h</td>\n",
              "      <td>905000.0</td>\n",
              "      <td>SP</td>\n",
              "      <td>Douglas</td>\n",
              "      <td>27/05/2017</td>\n",
              "      <td>10.5</td>\n",
              "      <td>3020.0</td>\n",
              "      <td>...</td>\n",
              "      <td>Brimbank</td>\n",
              "      <td>-37.77004</td>\n",
              "      <td>144.84254</td>\n",
              "      <td>Western Metropolitan</td>\n",
              "      <td>4217.0</td>\n",
              "      <td>3020.0</td>\n",
              "      <td>69.555556</td>\n",
              "      <td>45.0</td>\n",
              "      <td>160.000000</td>\n",
              "      <td>600.000000</td>\n",
              "    </tr>\n",
              "    <tr>\n",
              "      <th>4371</th>\n",
              "      <td>North Melbourne</td>\n",
              "      <td>509/30 Wreckyn St</td>\n",
              "      <td>2</td>\n",
              "      <td>u</td>\n",
              "      <td>620000.0</td>\n",
              "      <td>S</td>\n",
              "      <td>LITTLE</td>\n",
              "      <td>19/11/2016</td>\n",
              "      <td>2.3</td>\n",
              "      <td>3051.0</td>\n",
              "      <td>...</td>\n",
              "      <td>Melbourne</td>\n",
              "      <td>-37.80040</td>\n",
              "      <td>144.95440</td>\n",
              "      <td>Northern Metropolitan</td>\n",
              "      <td>6821.0</td>\n",
              "      <td>3051.0</td>\n",
              "      <td>112.233728</td>\n",
              "      <td>338.0</td>\n",
              "      <td>753.527778</td>\n",
              "      <td>3152.153846</td>\n",
              "    </tr>\n",
              "    <tr>\n",
              "      <th>7883</th>\n",
              "      <td>Glen Iris</td>\n",
              "      <td>2/15 Scott Gr</td>\n",
              "      <td>3</td>\n",
              "      <td>t</td>\n",
              "      <td>1253000.0</td>\n",
              "      <td>S</td>\n",
              "      <td>Abercromby's</td>\n",
              "      <td>8/04/2017</td>\n",
              "      <td>9.2</td>\n",
              "      <td>3146.0</td>\n",
              "      <td>...</td>\n",
              "      <td>Stonnington</td>\n",
              "      <td>-37.85740</td>\n",
              "      <td>145.04940</td>\n",
              "      <td>Southern Metropolitan</td>\n",
              "      <td>10412.0</td>\n",
              "      <td>3146.0</td>\n",
              "      <td>135.833333</td>\n",
              "      <td>72.0</td>\n",
              "      <td>770.111111</td>\n",
              "      <td>2940.750000</td>\n",
              "    </tr>\n",
              "    <tr>\n",
              "      <th>12884</th>\n",
              "      <td>Yarraville</td>\n",
              "      <td>23 Gray St</td>\n",
              "      <td>2</td>\n",
              "      <td>h</td>\n",
              "      <td>921000.0</td>\n",
              "      <td>S</td>\n",
              "      <td>hockingstuart</td>\n",
              "      <td>16/09/2017</td>\n",
              "      <td>6.3</td>\n",
              "      <td>3013.0</td>\n",
              "      <td>...</td>\n",
              "      <td>NaN</td>\n",
              "      <td>-37.81899</td>\n",
              "      <td>144.89507</td>\n",
              "      <td>Western Metropolitan</td>\n",
              "      <td>6543.0</td>\n",
              "      <td>3013.0</td>\n",
              "      <td>135.609756</td>\n",
              "      <td>82.0</td>\n",
              "      <td>923.571429</td>\n",
              "      <td>2966.090909</td>\n",
              "    </tr>\n",
              "  </tbody>\n",
              "</table>\n",
              "<p>5 rows × 26 columns</p>\n",
              "</div>\n",
              "      <button class=\"colab-df-convert\" onclick=\"convertToInteractive('df-2e7e2735-ae8a-41d7-9be1-c8ae3497695b')\"\n",
              "              title=\"Convert this dataframe to an interactive table.\"\n",
              "              style=\"display:none;\">\n",
              "        \n",
              "  <svg xmlns=\"http://www.w3.org/2000/svg\" height=\"24px\"viewBox=\"0 0 24 24\"\n",
              "       width=\"24px\">\n",
              "    <path d=\"M0 0h24v24H0V0z\" fill=\"none\"/>\n",
              "    <path d=\"M18.56 5.44l.94 2.06.94-2.06 2.06-.94-2.06-.94-.94-2.06-.94 2.06-2.06.94zm-11 1L8.5 8.5l.94-2.06 2.06-.94-2.06-.94L8.5 2.5l-.94 2.06-2.06.94zm10 10l.94 2.06.94-2.06 2.06-.94-2.06-.94-.94-2.06-.94 2.06-2.06.94z\"/><path d=\"M17.41 7.96l-1.37-1.37c-.4-.4-.92-.59-1.43-.59-.52 0-1.04.2-1.43.59L10.3 9.45l-7.72 7.72c-.78.78-.78 2.05 0 2.83L4 21.41c.39.39.9.59 1.41.59.51 0 1.02-.2 1.41-.59l7.78-7.78 2.81-2.81c.8-.78.8-2.07 0-2.86zM5.41 20L4 18.59l7.72-7.72 1.47 1.35L5.41 20z\"/>\n",
              "  </svg>\n",
              "      </button>\n",
              "      \n",
              "  <style>\n",
              "    .colab-df-container {\n",
              "      display:flex;\n",
              "      flex-wrap:wrap;\n",
              "      gap: 12px;\n",
              "    }\n",
              "\n",
              "    .colab-df-convert {\n",
              "      background-color: #E8F0FE;\n",
              "      border: none;\n",
              "      border-radius: 50%;\n",
              "      cursor: pointer;\n",
              "      display: none;\n",
              "      fill: #1967D2;\n",
              "      height: 32px;\n",
              "      padding: 0 0 0 0;\n",
              "      width: 32px;\n",
              "    }\n",
              "\n",
              "    .colab-df-convert:hover {\n",
              "      background-color: #E2EBFA;\n",
              "      box-shadow: 0px 1px 2px rgba(60, 64, 67, 0.3), 0px 1px 3px 1px rgba(60, 64, 67, 0.15);\n",
              "      fill: #174EA6;\n",
              "    }\n",
              "\n",
              "    [theme=dark] .colab-df-convert {\n",
              "      background-color: #3B4455;\n",
              "      fill: #D2E3FC;\n",
              "    }\n",
              "\n",
              "    [theme=dark] .colab-df-convert:hover {\n",
              "      background-color: #434B5C;\n",
              "      box-shadow: 0px 1px 3px 1px rgba(0, 0, 0, 0.15);\n",
              "      filter: drop-shadow(0px 1px 2px rgba(0, 0, 0, 0.3));\n",
              "      fill: #FFFFFF;\n",
              "    }\n",
              "  </style>\n",
              "\n",
              "      <script>\n",
              "        const buttonEl =\n",
              "          document.querySelector('#df-2e7e2735-ae8a-41d7-9be1-c8ae3497695b button.colab-df-convert');\n",
              "        buttonEl.style.display =\n",
              "          google.colab.kernel.accessAllowed ? 'block' : 'none';\n",
              "\n",
              "        async function convertToInteractive(key) {\n",
              "          const element = document.querySelector('#df-2e7e2735-ae8a-41d7-9be1-c8ae3497695b');\n",
              "          const dataTable =\n",
              "            await google.colab.kernel.invokeFunction('convertToInteractive',\n",
              "                                                     [key], {});\n",
              "          if (!dataTable) return;\n",
              "\n",
              "          const docLinkHtml = 'Like what you see? Visit the ' +\n",
              "            '<a target=\"_blank\" href=https://colab.research.google.com/notebooks/data_table.ipynb>data table notebook</a>'\n",
              "            + ' to learn more about interactive tables.';\n",
              "          element.innerHTML = '';\n",
              "          dataTable['output_type'] = 'display_data';\n",
              "          await google.colab.output.renderOutput(dataTable, element);\n",
              "          const docLink = document.createElement('div');\n",
              "          docLink.innerHTML = docLinkHtml;\n",
              "          element.appendChild(docLink);\n",
              "        }\n",
              "      </script>\n",
              "    </div>\n",
              "  </div>\n",
              "  "
            ],
            "text/plain": [
              "                Suburb            Address  Rooms Type      Price Method  \\\n",
              "4802    Port Melbourne         176 Dow St      3    h  1080000.0      S   \n",
              "10526   Sunshine North       14 Oxford St      3    h   905000.0     SP   \n",
              "4371   North Melbourne  509/30 Wreckyn St      2    u   620000.0      S   \n",
              "7883         Glen Iris      2/15 Scott Gr      3    t  1253000.0      S   \n",
              "12884       Yarraville         23 Gray St      2    h   921000.0      S   \n",
              "\n",
              "             SellerG        Date  Distance  Postcode  ...   CouncilArea  \\\n",
              "4802          Biggin  30/07/2016       3.8    3207.0  ...  Port Phillip   \n",
              "10526        Douglas  27/05/2017      10.5    3020.0  ...      Brimbank   \n",
              "4371          LITTLE  19/11/2016       2.3    3051.0  ...     Melbourne   \n",
              "7883    Abercromby's   8/04/2017       9.2    3146.0  ...   Stonnington   \n",
              "12884  hockingstuart  16/09/2017       6.3    3013.0  ...           NaN   \n",
              "\n",
              "       Lattitude  Longtitude             Regionname  Propertycount  zipcode  \\\n",
              "4802   -37.84010   144.94300  Southern Metropolitan         8648.0   3207.0   \n",
              "10526  -37.77004   144.84254   Western Metropolitan         4217.0   3020.0   \n",
              "4371   -37.80040   144.95440  Northern Metropolitan         6821.0   3051.0   \n",
              "7883   -37.85740   145.04940  Southern Metropolitan        10412.0   3146.0   \n",
              "12884  -37.81899   144.89507   Western Metropolitan         6543.0   3013.0   \n",
              "\n",
              "      airbnb_price_mean  airbnb_record_count  airbnb_weekly_price_mean  \\\n",
              "4802         200.210117                257.0               1480.790698   \n",
              "10526         69.555556                 45.0                160.000000   \n",
              "4371         112.233728                338.0                753.527778   \n",
              "7883         135.833333                 72.0                770.111111   \n",
              "12884        135.609756                 82.0                923.571429   \n",
              "\n",
              "      airbnb_monthly_price_mean  \n",
              "4802                4743.964286  \n",
              "10526                600.000000  \n",
              "4371                3152.153846  \n",
              "7883                2940.750000  \n",
              "12884               2966.090909  \n",
              "\n",
              "[5 rows x 26 columns]"
            ]
          },
          "metadata": {},
          "execution_count": 19
        }
      ]
    },
    {
      "cell_type": "code",
      "metadata": {
        "id": "G4ClSr_JapCw"
      },
      "source": [
        "merged_sales_df.to_csv(\"melb_data_extended.csv\", index=None)"
      ],
      "execution_count": 20,
      "outputs": []
    },
    {
      "cell_type": "code",
      "metadata": {
        "colab": {
          "base_uri": "https://localhost:8080/",
          "height": 17
        },
        "id": "9YD0kPzAM1he",
        "outputId": "3572bc01-2b52-4cb6-b5ed-faab0333d80d"
      },
      "source": [
        "from google.colab import files\n",
        "files.download('melb_data_extended.csv') "
      ],
      "execution_count": 21,
      "outputs": [
        {
          "output_type": "display_data",
          "data": {
            "application/javascript": [
              "\n",
              "    async function download(id, filename, size) {\n",
              "      if (!google.colab.kernel.accessAllowed) {\n",
              "        return;\n",
              "      }\n",
              "      const div = document.createElement('div');\n",
              "      const label = document.createElement('label');\n",
              "      label.textContent = `Downloading \"${filename}\": `;\n",
              "      div.appendChild(label);\n",
              "      const progress = document.createElement('progress');\n",
              "      progress.max = size;\n",
              "      div.appendChild(progress);\n",
              "      document.body.appendChild(div);\n",
              "\n",
              "      const buffers = [];\n",
              "      let downloaded = 0;\n",
              "\n",
              "      const channel = await google.colab.kernel.comms.open(id);\n",
              "      // Send a message to notify the kernel that we're ready.\n",
              "      channel.send({})\n",
              "\n",
              "      for await (const message of channel.messages) {\n",
              "        // Send a message to notify the kernel that we're ready.\n",
              "        channel.send({})\n",
              "        if (message.buffers) {\n",
              "          for (const buffer of message.buffers) {\n",
              "            buffers.push(buffer);\n",
              "            downloaded += buffer.byteLength;\n",
              "            progress.value = downloaded;\n",
              "          }\n",
              "        }\n",
              "      }\n",
              "      const blob = new Blob(buffers, {type: 'application/binary'});\n",
              "      const a = document.createElement('a');\n",
              "      a.href = window.URL.createObjectURL(blob);\n",
              "      a.download = filename;\n",
              "      div.appendChild(a);\n",
              "      a.click();\n",
              "      div.remove();\n",
              "    }\n",
              "  "
            ],
            "text/plain": [
              "<IPython.core.display.Javascript object>"
            ]
          },
          "metadata": {}
        },
        {
          "output_type": "display_data",
          "data": {
            "application/javascript": [
              "download(\"download_159daec3-f177-4190-be62-ac1565ca06e5\", \"melb_data_extended.csv\", 2800962)"
            ],
            "text/plain": [
              "<IPython.core.display.Javascript object>"
            ]
          },
          "metadata": {}
        }
      ]
    },
    {
      "cell_type": "code",
      "metadata": {
        "id": "zCBnFQjzNB8t"
      },
      "source": [
        ""
      ],
      "execution_count": null,
      "outputs": []
    }
  ]
}